{
  "nbformat": 4,
  "nbformat_minor": 0,
  "metadata": {
    "colab": {
      "name": "final_project",
      "version": "0.3.2",
      "provenance": [],
      "collapsed_sections": []
    },
    "kernelspec": {
      "name": "python3",
      "display_name": "Python 3"
    },
    "accelerator": "GPU"
  },
  "cells": [
    {
      "cell_type": "markdown",
      "metadata": {
        "id": "-dJIjJaexlNi",
        "colab_type": "text"
      },
      "source": [
        "# Final Project\n",
        "\n",
        "The goal is to pretty much try to create a zero shot model using a SPA-ENG, ENG-FRA datasets from manythings.org. \n",
        "\n",
        "The datasets are roughly balanced so for simplicity, downsampling will not be done to even the number of samples. There will be a slight bias coming from the ENG-FRA dataset"
      ]
    },
    {
      "cell_type": "markdown",
      "metadata": {
        "id": "xaXNOQDVBqrt",
        "colab_type": "text"
      },
      "source": [
        "## Downloading of data"
      ]
    },
    {
      "cell_type": "code",
      "metadata": {
        "id": "r06Oj2ivxqVG",
        "colab_type": "code",
        "outputId": "b911cf14-c624-4e05-a21f-dd8df84f6a6d",
        "colab": {
          "base_uri": "https://localhost:8080/",
          "height": 386
        }
      },
      "source": [
        "!wget http://www.manythings.org/anki/spa-eng.zip\n",
        "!wget http://www.manythings.org/anki/fra-eng.zip"
      ],
      "execution_count": 5,
      "outputs": [
        {
          "output_type": "stream",
          "text": [
            "--2019-05-10 16:37:09--  http://www.manythings.org/anki/spa-eng.zip\n",
            "Resolving www.manythings.org (www.manythings.org)... 104.24.109.196, 104.24.108.196, 2606:4700:30::6818:6cc4, ...\n",
            "Connecting to www.manythings.org (www.manythings.org)|104.24.109.196|:80... connected.\n",
            "HTTP request sent, awaiting response... 200 OK\n",
            "Length: 2819791 (2.7M) [application/zip]\n",
            "Saving to: ‘spa-eng.zip’\n",
            "\n",
            "\rspa-eng.zip           0%[                    ]       0  --.-KB/s               \rspa-eng.zip          32%[=====>              ] 883.12K  4.17MB/s               \rspa-eng.zip         100%[===================>]   2.69M  10.5MB/s    in 0.3s    \n",
            "\n",
            "2019-05-10 16:37:10 (10.5 MB/s) - ‘spa-eng.zip’ saved [2819791/2819791]\n",
            "\n",
            "--2019-05-10 16:37:11--  http://www.manythings.org/anki/fra-eng.zip\n",
            "Resolving www.manythings.org (www.manythings.org)... 104.24.109.196, 104.24.108.196, 2606:4700:30::6818:6cc4, ...\n",
            "Connecting to www.manythings.org (www.manythings.org)|104.24.109.196|:80... connected.\n",
            "HTTP request sent, awaiting response... 200 OK\n",
            "Length: 3423204 (3.3M) [application/zip]\n",
            "Saving to: ‘fra-eng.zip’\n",
            "\n",
            "fra-eng.zip         100%[===================>]   3.26M  12.2MB/s    in 0.3s    \n",
            "\n",
            "2019-05-10 16:37:11 (12.2 MB/s) - ‘fra-eng.zip’ saved [3423204/3423204]\n",
            "\n"
          ],
          "name": "stdout"
        }
      ]
    },
    {
      "cell_type": "code",
      "metadata": {
        "id": "H2dhRx-p3YlK",
        "colab_type": "code",
        "colab": {}
      },
      "source": [
        "!mkdir fra-eng\n",
        "!mkdir spa-eng\n",
        "!mv fra-eng.zip fra-eng\n",
        "!mv spa-eng.zip spa-eng"
      ],
      "execution_count": 0,
      "outputs": []
    },
    {
      "cell_type": "code",
      "metadata": {
        "id": "qOYGyOwO3fgD",
        "colab_type": "code",
        "outputId": "a023758d-183f-46b6-a277-a5e211a90fc1",
        "colab": {
          "base_uri": "https://localhost:8080/",
          "height": 118
        }
      },
      "source": [
        "!unzip fra-eng/fra-eng.zip -d fra-eng\n",
        "!unzip spa-eng/spa-eng.zip -d spa-eng"
      ],
      "execution_count": 7,
      "outputs": [
        {
          "output_type": "stream",
          "text": [
            "Archive:  fra-eng/fra-eng.zip\n",
            "  inflating: fra-eng/_about.txt      \n",
            "  inflating: fra-eng/fra.txt         \n",
            "Archive:  spa-eng/spa-eng.zip\n",
            "  inflating: spa-eng/_about.txt      \n",
            "  inflating: spa-eng/spa.txt         \n"
          ],
          "name": "stdout"
        }
      ]
    },
    {
      "cell_type": "code",
      "metadata": {
        "id": "Ro6UzMqs7aHX",
        "colab_type": "code",
        "outputId": "ebe1234e-eb60-489b-bc7f-dfd9840d8f21",
        "colab": {
          "base_uri": "https://localhost:8080/",
          "height": 34
        }
      },
      "source": [
        "!ls"
      ],
      "execution_count": 8,
      "outputs": [
        {
          "output_type": "stream",
          "text": [
            "fra-eng  sample_data  spa-eng\n"
          ],
          "name": "stdout"
        }
      ]
    },
    {
      "cell_type": "code",
      "metadata": {
        "id": "bVxi22J7NhVZ",
        "colab_type": "code",
        "colab": {}
      },
      "source": [
        "# Merging the datasets together for wordpiece modeling\n",
        "!cat fra-eng/fra.txt spa-eng/spa.txt > all.txt"
      ],
      "execution_count": 0,
      "outputs": []
    },
    {
      "cell_type": "markdown",
      "metadata": {
        "id": "b_ny6QVaBwTF",
        "colab_type": "text"
      },
      "source": [
        "## Modeling"
      ]
    },
    {
      "cell_type": "code",
      "metadata": {
        "id": "3j24EPIaTbrO",
        "colab_type": "code",
        "outputId": "a72dbbef-8dcf-42ea-bd18-ce3c5ec909fa",
        "colab": {
          "base_uri": "https://localhost:8080/",
          "height": 34
        }
      },
      "source": [
        "!pip install sentencepiece # Installing package to deal with converting to wordpiece model"
      ],
      "execution_count": 10,
      "outputs": [
        {
          "output_type": "stream",
          "text": [
            "Requirement already satisfied: sentencepiece in /usr/local/lib/python3.6/dist-packages (0.1.82)\n"
          ],
          "name": "stdout"
        }
      ]
    },
    {
      "cell_type": "code",
      "metadata": {
        "id": "_xvsNuh86M50",
        "colab_type": "code",
        "colab": {}
      },
      "source": [
        "import sentencepiece as spm\n",
        "\n",
        "from keras.models import Model, Sequential\n",
        "from keras.layers import Input, LSTM, Embedding, Dense, Activation, Dropout, RepeatVector\n",
        "from keras.preprocessing.sequence import pad_sequences\n",
        "from sklearn.model_selection import train_test_split\n",
        "from keras.callbacks import ModelCheckpoint\n",
        "from keras.models import load_model\n",
        "from keras import optimizers\n",
        "import matplotlib.pyplot as plt\n",
        "import seaborn as sns\n",
        "import numpy as np\n",
        "from numpy.random import shuffle\n",
        "from nltk.translate.bleu_score import sentence_bleu\n",
        "import pandas as pd\n",
        "import re\n"
      ],
      "execution_count": 0,
      "outputs": []
    },
    {
      "cell_type": "code",
      "metadata": {
        "id": "ABpTEG5U9swd",
        "colab_type": "code",
        "colab": {}
      },
      "source": [
        "# Set seed for reproducible results\n",
        "from numpy.random import seed\n",
        "seed(1)"
      ],
      "execution_count": 0,
      "outputs": []
    },
    {
      "cell_type": "markdown",
      "metadata": {
        "id": "uQa26XtlHE7x",
        "colab_type": "text"
      },
      "source": [
        "### Cleaning"
      ]
    },
    {
      "cell_type": "markdown",
      "metadata": {
        "id": "YjHi1wl7Scgy",
        "colab_type": "text"
      },
      "source": [
        "#### Wordpiece modeling the corpus"
      ]
    },
    {
      "cell_type": "markdown",
      "metadata": {
        "id": "g-F05cgiOrec",
        "colab_type": "text"
      },
      "source": [
        "https://github.com/google/sentencepiece\n",
        "Looks like there is a pacakge to deal with the wordpiece model\n",
        "\n",
        "https://github.com/google/sentencepiece/issues/285"
      ]
    },
    {
      "cell_type": "code",
      "metadata": {
        "id": "UuizO6bF54oX",
        "colab_type": "code",
        "outputId": "33bd1abd-28bb-42b3-a12e-87132dc20687",
        "colab": {
          "base_uri": "https://localhost:8080/",
          "height": 34
        }
      },
      "source": [
        "# Creating a Wordpiece model using all of the data\n",
        "## Add in the zero shot prefixes\n",
        "vocab_size= 1000\n",
        "model_prefix = 'model'\n",
        "train_data_file = 'all.txt'\n",
        "\n",
        "spm.SentencePieceTrainer.Train(f'--input={train_data_file} --model_prefix={model_prefix} --user_defined_symbols=<2es>,<2fra>,<2en>,<EOS> --vocab_size={vocab_size} --model_type=bpe')"
      ],
      "execution_count": 13,
      "outputs": [
        {
          "output_type": "execute_result",
          "data": {
            "text/plain": [
              "True"
            ]
          },
          "metadata": {
            "tags": []
          },
          "execution_count": 13
        }
      ]
    },
    {
      "cell_type": "code",
      "metadata": {
        "id": "eVo8AZQQH7Le",
        "colab_type": "code",
        "outputId": "74b880bf-8b25-432d-9596-0ed08ecf0775",
        "colab": {
          "base_uri": "https://localhost:8080/",
          "height": 34
        }
      },
      "source": [
        "# Loading the piecer\n",
        "sp = spm.SentencePieceProcessor()\n",
        "sp.Load(\"model.model\")"
      ],
      "execution_count": 14,
      "outputs": [
        {
          "output_type": "execute_result",
          "data": {
            "text/plain": [
              "True"
            ]
          },
          "metadata": {
            "tags": []
          },
          "execution_count": 14
        }
      ]
    },
    {
      "cell_type": "markdown",
      "metadata": {
        "id": "UXfmlfsuSxNW",
        "colab_type": "text"
      },
      "source": [
        "##### Testing the encoder / decoder"
      ]
    },
    {
      "cell_type": "code",
      "metadata": {
        "id": "u9UXHxE1OlrN",
        "colab_type": "code",
        "outputId": "90ae791c-1328-4706-966d-062bac0284c0",
        "colab": {
          "base_uri": "https://localhost:8080/",
          "height": 34
        }
      },
      "source": [
        "sp.EncodeAsPieces(\"<2en> This is a test\")"
      ],
      "execution_count": 15,
      "outputs": [
        {
          "output_type": "execute_result",
          "data": {
            "text/plain": [
              "['▁', '<2en>', '▁This', '▁is', '▁a', '▁t', 'est']"
            ]
          },
          "metadata": {
            "tags": []
          },
          "execution_count": 15
        }
      ]
    },
    {
      "cell_type": "code",
      "metadata": {
        "id": "oaKRn7QhOo-w",
        "colab_type": "code",
        "outputId": "b14d45b7-a67f-4f6a-e83e-b6a767b4dabd",
        "colab": {
          "base_uri": "https://localhost:8080/",
          "height": 34
        }
      },
      "source": [
        "sp.DecodePieces(['▁This', '▁is', '▁a', '▁t', 'est'])"
      ],
      "execution_count": 16,
      "outputs": [
        {
          "output_type": "execute_result",
          "data": {
            "text/plain": [
              "'This is a test'"
            ]
          },
          "metadata": {
            "tags": []
          },
          "execution_count": 16
        }
      ]
    },
    {
      "cell_type": "code",
      "metadata": {
        "id": "HjcAh9YWPONG",
        "colab_type": "code",
        "outputId": "8052ee47-9154-463b-e39b-b1857d70b1ed",
        "colab": {
          "base_uri": "https://localhost:8080/",
          "height": 185
        }
      },
      "source": [
        "!head all.txt"
      ],
      "execution_count": 17,
      "outputs": [
        {
          "output_type": "stream",
          "text": [
            "Go.\tVa !\n",
            "Hi.\tSalut !\n",
            "Run!\tCours !\n",
            "Run!\tCourez !\n",
            "Who?\tQui ?\n",
            "Wow!\tÇa alors !\n",
            "Fire!\tAu feu !\n",
            "Help!\tÀ l'aide !\n",
            "Jump.\tSaute.\n",
            "Stop!\tÇa suffit !\n"
          ],
          "name": "stdout"
        }
      ]
    },
    {
      "cell_type": "code",
      "metadata": {
        "id": "ySr9gXJBPUhe",
        "colab_type": "code",
        "outputId": "a00e0712-2124-4478-8efc-c5bd7059bf85",
        "colab": {
          "base_uri": "https://localhost:8080/",
          "height": 34
        }
      },
      "source": [
        "sp.EncodeAsPieces(\"Va !\")"
      ],
      "execution_count": 18,
      "outputs": [
        {
          "output_type": "execute_result",
          "data": {
            "text/plain": [
              "['▁V', 'a', '▁!']"
            ]
          },
          "metadata": {
            "tags": []
          },
          "execution_count": 18
        }
      ]
    },
    {
      "cell_type": "code",
      "metadata": {
        "id": "Abpx4SXbPRVD",
        "colab_type": "code",
        "outputId": "740f27f9-b9f7-4c97-d81f-b6622f05b8cd",
        "colab": {
          "base_uri": "https://localhost:8080/",
          "height": 34
        }
      },
      "source": [
        "sp.DecodePieces(['▁V', 'a', '▁!'])"
      ],
      "execution_count": 19,
      "outputs": [
        {
          "output_type": "execute_result",
          "data": {
            "text/plain": [
              "'Va !'"
            ]
          },
          "metadata": {
            "tags": []
          },
          "execution_count": 19
        }
      ]
    },
    {
      "cell_type": "code",
      "metadata": {
        "id": "lWZSF-u2PfCb",
        "colab_type": "code",
        "outputId": "fe719dea-b3b0-41f5-856c-e00cc69dfe03",
        "colab": {
          "base_uri": "https://localhost:8080/",
          "height": 34
        }
      },
      "source": [
        "sp.EncodeAsPieces(\"sdlfkhsdlkfh\")"
      ],
      "execution_count": 20,
      "outputs": [
        {
          "output_type": "execute_result",
          "data": {
            "text/plain": [
              "['▁s', 'd', 'l', 'f', 'k', 'h', 's', 'd', 'l', 'k', 'f', 'h']"
            ]
          },
          "metadata": {
            "tags": []
          },
          "execution_count": 20
        }
      ]
    },
    {
      "cell_type": "code",
      "metadata": {
        "id": "fXa2dmcvzfgp",
        "colab_type": "code",
        "outputId": "c05fd588-bc95-4bae-970f-ab7826ee6612",
        "colab": {
          "base_uri": "https://localhost:8080/",
          "height": 34
        }
      },
      "source": [
        "sp.EncodeAsPieces(\"Ça suffit !\")"
      ],
      "execution_count": 21,
      "outputs": [
        {
          "output_type": "execute_result",
          "data": {
            "text/plain": [
              "['▁', 'Ç', 'a', '▁su', 'ff', 'it', '▁!']"
            ]
          },
          "metadata": {
            "tags": []
          },
          "execution_count": 21
        }
      ]
    },
    {
      "cell_type": "code",
      "metadata": {
        "id": "1YPzX-dbWFKQ",
        "colab_type": "code",
        "outputId": "4029be4d-ff34-4b05-868e-82e90c36466d",
        "colab": {
          "base_uri": "https://localhost:8080/",
          "height": 34
        }
      },
      "source": [
        "sp.encode_as_ids('<2fra> This is a test <EOS>')"
      ],
      "execution_count": 22,
      "outputs": [
        {
          "output_type": "execute_result",
          "data": {
            "text/plain": [
              "[419, 4, 355, 86, 8, 7, 52, 419, 6]"
            ]
          },
          "metadata": {
            "tags": []
          },
          "execution_count": 22
        }
      ]
    },
    {
      "cell_type": "code",
      "metadata": {
        "id": "I30jrSc5WLbb",
        "colab_type": "code",
        "outputId": "903b21fc-0c68-408d-c8fe-3f5dbd8d0d90",
        "colab": {
          "base_uri": "https://localhost:8080/",
          "height": 34
        }
      },
      "source": [
        "sp.decode_ids([419, 4, 355, 86, 8, 7, 52, 419, 6])"
      ],
      "execution_count": 23,
      "outputs": [
        {
          "output_type": "execute_result",
          "data": {
            "text/plain": [
              "'<2fra> This is a test <EOS>'"
            ]
          },
          "metadata": {
            "tags": []
          },
          "execution_count": 23
        }
      ]
    },
    {
      "cell_type": "markdown",
      "metadata": {
        "id": "TFZTFhy8Ssx-",
        "colab_type": "text"
      },
      "source": [
        "#### Dealing with the dataset"
      ]
    },
    {
      "cell_type": "markdown",
      "metadata": {
        "id": "PVOQ0T5zXx3s",
        "colab_type": "text"
      },
      "source": [
        "https://www.analyticsvidhya.com/blog/2019/01/neural-machine-translation-keras/"
      ]
    },
    {
      "cell_type": "markdown",
      "metadata": {
        "id": "2huPkXAwXyL2",
        "colab_type": "text"
      },
      "source": [
        "https://blog.keras.io/a-ten-minute-introduction-to-sequence-to-sequence-learning-in-keras.html"
      ]
    },
    {
      "cell_type": "markdown",
      "metadata": {
        "id": "qYKJ6wWZXyPl",
        "colab_type": "text"
      },
      "source": [
        "https://towardsdatascience.com/neural-machine-translation-using-seq2seq-with-keras-c23540453c74"
      ]
    },
    {
      "cell_type": "code",
      "metadata": {
        "id": "NUnfDScg_xfN",
        "colab_type": "code",
        "colab": {}
      },
      "source": [
        "def read_text(filename):\n",
        "        # open the file\n",
        "        file = open(filename, mode='rt', encoding='utf-8')\n",
        "        \n",
        "        # read all text and clean up tab delimination into list\n",
        "        text = file.read().strip().split('\\n')\n",
        "        file.close()\n",
        "        cleaned_text = [i.split('\\t') for i in text]\n",
        "        return cleaned_text"
      ],
      "execution_count": 0,
      "outputs": []
    },
    {
      "cell_type": "code",
      "metadata": {
        "id": "0-XM-og0AL1u",
        "colab_type": "code",
        "colab": {}
      },
      "source": [
        "# Get cleaned corpus\n",
        "spa_en = read_text(\"spa-eng/spa.txt\")\n",
        "fra_en = read_text(\"fra-eng/fra.txt\")"
      ],
      "execution_count": 0,
      "outputs": []
    },
    {
      "cell_type": "code",
      "metadata": {
        "id": "38ZDDw5RCEjL",
        "colab_type": "code",
        "colab": {}
      },
      "source": [
        "# Add in the special characters for translation directions\n",
        "spa_en = [['<2spa> ' + x[0] + ' <EOS>', '<2en> ' + x[1] + ' <EOS>'] for x in spa_en]\n",
        "fra_en = [['<2fra> ' + x[0] + ' <EOS>', '<2en> ' + x[1] + ' <EOS>'] for x in fra_en]"
      ],
      "execution_count": 0,
      "outputs": []
    },
    {
      "cell_type": "code",
      "metadata": {
        "id": "0lykQlSNEwFK",
        "colab_type": "code",
        "outputId": "772b4568-3b35-4c78-f746-8561ea979bad",
        "colab": {
          "base_uri": "https://localhost:8080/",
          "height": 34
        }
      },
      "source": [
        "spa_en[0]"
      ],
      "execution_count": 27,
      "outputs": [
        {
          "output_type": "execute_result",
          "data": {
            "text/plain": [
              "['<2spa> Go. <EOS>', '<2en> Ve. <EOS>']"
            ]
          },
          "metadata": {
            "tags": []
          },
          "execution_count": 27
        }
      ]
    },
    {
      "cell_type": "code",
      "metadata": {
        "id": "Al0ocrSQAXUJ",
        "colab_type": "code",
        "outputId": "4a61d174-4df6-4069-86b7-381de1cbfcb7",
        "colab": {
          "base_uri": "https://localhost:8080/",
          "height": 351
        }
      },
      "source": [
        "# Look at the number of language pairs\n",
        "sns.set(style=\"whitegrid\")\n",
        "g = sns.barplot(['Spanish-English', 'French to English'], [len(spa_en), len(fra_en)])\n",
        "g.set(xlabel='Language pair', ylabel='Number of Language Pairs', title = \"Difference between number of language pairs\")"
      ],
      "execution_count": 28,
      "outputs": [
        {
          "output_type": "execute_result",
          "data": {
            "text/plain": [
              "[Text(0, 0.5, 'Number of Language Pairs'),\n",
              " Text(0.5, 0, 'Language pair'),\n",
              " Text(0.5, 1.0, 'Difference between number of language pairs')]"
            ]
          },
          "metadata": {
            "tags": []
          },
          "execution_count": 28
        },
        {
          "output_type": "display_data",
          "data": {
            "image/png": "[encoded data removed]",
            "text/plain": [
              "<Figure size 432x288 with 1 Axes>"
            ]
          },
          "metadata": {
            "tags": []
          }
        }
      ]
    },
    {
      "cell_type": "markdown",
      "metadata": {
        "id": "oWSdNvEMEHtf",
        "colab_type": "text"
      },
      "source": [
        "As both datasets are unbalanced, both samples will actually be downsampled down to the target number to balance the datasets in order to trim down computations."
      ]
    },
    {
      "cell_type": "code",
      "metadata": {
        "id": "9Vxtwg4prd_s",
        "colab_type": "code",
        "colab": {}
      },
      "source": [
        "#Trim down maximum\n",
        "num_sentences = 40000\n",
        "shuffle(spa_en)\n",
        "spa_en = spa_en[:num_sentences]\n",
        "shuffle(fra_en)\n",
        "fra_en = fra_en[:num_sentences]"
      ],
      "execution_count": 0,
      "outputs": []
    },
    {
      "cell_type": "code",
      "metadata": {
        "id": "5hiSB2eAsnRf",
        "colab_type": "code",
        "outputId": "2058f692-3a75-49aa-e8fe-f0b7c0e6c759",
        "colab": {
          "base_uri": "https://localhost:8080/",
          "height": 34
        }
      },
      "source": [
        "len(spa_en), len(fra_en)"
      ],
      "execution_count": 30,
      "outputs": [
        {
          "output_type": "execute_result",
          "data": {
            "text/plain": [
              "(30000, 30000)"
            ]
          },
          "metadata": {
            "tags": []
          },
          "execution_count": 30
        }
      ]
    },
    {
      "cell_type": "code",
      "metadata": {
        "id": "mEFLOBcIByik",
        "colab_type": "code",
        "colab": {}
      },
      "source": [
        "# Tokenize model with wordpiece model version\n",
        "en_only_spa_wp = [sp.encode_as_ids(i[0]) for i in spa_en]\n",
        "spa_only_en_wp = [sp.encode_as_ids(i[1]) for i in spa_en]\n",
        "en_only_fra_wp = [sp.encode_as_ids(i[0]) for i in fra_en]\n",
        "fra_only_en_wp = [sp.encode_as_ids(i[1]) for i in fra_en]\n"
      ],
      "execution_count": 0,
      "outputs": []
    },
    {
      "cell_type": "code",
      "metadata": {
        "id": "Frdy6RuDbUgA",
        "colab_type": "code",
        "colab": {}
      },
      "source": [
        "# Ensure that there are up to 2000 wordmaps from tokenizer\n",
        "encoder_vocab = set()\n",
        "for i in spa_only_en_wp:\n",
        "  for z in i:\n",
        "    encoder_vocab.add(z)\n",
        "    \n",
        "for i in en_only_fra_wp:\n",
        "  for z in i:\n",
        "    encoder_vocab.add(z)\n",
        "    \n",
        "encoder_vocab_size = len(encoder_vocab) + 1\n",
        "\n",
        "decoder_vocab = set()\n",
        "for i in en_only_spa_wp:\n",
        "  for z in i:\n",
        "    decoder_vocab.add(z)\n",
        "    \n",
        "for i in fra_only_en_wp:\n",
        "  for z in i:\n",
        "    decoder_vocab.add(z)\n",
        "    \n",
        "decoder_vocab_size = len(decoder_vocab) + 1"
      ],
      "execution_count": 0,
      "outputs": []
    },
    {
      "cell_type": "code",
      "metadata": {
        "id": "Z4RRTylnc4j9",
        "colab_type": "code",
        "outputId": "bea81ac6-e069-4793-dd04-5b1b656a1181",
        "colab": {
          "base_uri": "https://localhost:8080/",
          "height": 50
        }
      },
      "source": [
        "print(\"Encoder vocab size: \" + str(encoder_vocab_size))\n",
        "print(\"Decoder vocab size: \" + str(decoder_vocab_size))"
      ],
      "execution_count": 33,
      "outputs": [
        {
          "output_type": "stream",
          "text": [
            "Encoder vocab size: 469\n",
            "Decoder vocab size: 485\n"
          ],
          "name": "stdout"
        }
      ]
    },
    {
      "cell_type": "code",
      "metadata": {
        "id": "1mkrzSrQE_MD",
        "colab_type": "code",
        "outputId": "1fabb19f-fc92-4ac9-8f1d-89269e4e8ef3",
        "colab": {
          "base_uri": "https://localhost:8080/",
          "height": 318
        }
      },
      "source": [
        "# Check the length of the longest of each dataset\n",
        "en_only_spa_length = [len(i) for i in en_only_spa_wp]\n",
        "spa_only_en_length = [len(i) for i in spa_only_en_wp]\n",
        "en_only_fra_length = [len(i) for i in en_only_fra_wp]\n",
        "fra_only_en_length = [len(i) for i in fra_only_en_wp]\n",
        "\n",
        "g = sns.distplot(en_only_spa_length, kde=False, rug=True, label = 'English (Spanish) Length')\n",
        "g = sns.distplot(spa_only_en_length, kde=False, rug=True, label = 'Spanish (Spanish) Length')\n",
        "g = sns.distplot(en_only_fra_length, kde=False, rug=True, label = 'English (French) Length')\n",
        "g = sns.distplot(fra_only_en_length, kde=False, rug=True, label = 'Frence (French) Length')\n",
        "g.set_title(\"Histogram of Length of Wordpiece models\")\n",
        "g.set_xlabel(\"Length\")\n",
        "g.set_ylabel(\"Counts\")\n",
        "g.legend()\n",
        "g"
      ],
      "execution_count": 34,
      "outputs": [
        {
          "output_type": "execute_result",
          "data": {
            "text/plain": [
              "<matplotlib.axes._subplots.AxesSubplot at 0x7fc06c5e3c50>"
            ]
          },
          "metadata": {
            "tags": []
          },
          "execution_count": 34
        },
        {
          "output_type": "display_data",
          "data": {
            "image/png": "[encoded data removed]",
            "text/plain": [
              "<Figure size 432x288 with 1 Axes>"
            ]
          },
          "metadata": {
            "tags": []
          }
        }
      ]
    },
    {
      "cell_type": "code",
      "metadata": {
        "id": "h3G-GbGdI-RA",
        "colab_type": "code",
        "outputId": "59816ab1-b91a-41d5-b267-28c848c98d81",
        "colab": {
          "base_uri": "https://localhost:8080/",
          "height": 34
        }
      },
      "source": [
        "max_length = max(max(en_only_spa_length), max(spa_only_en_length), max(en_only_fra_length), max(fra_only_en_length))\n",
        "max_length"
      ],
      "execution_count": 35,
      "outputs": [
        {
          "output_type": "execute_result",
          "data": {
            "text/plain": [
              "131"
            ]
          },
          "metadata": {
            "tags": []
          },
          "execution_count": 35
        }
      ]
    },
    {
      "cell_type": "markdown",
      "metadata": {
        "id": "ouNo2ovKJMDI",
        "colab_type": "text"
      },
      "source": [
        "Most of the word pieces hover about 15 chunks but the maximum number of chunks is 140 so padding is needed to equalize the length."
      ]
    },
    {
      "cell_type": "code",
      "metadata": {
        "id": "0cCUq81eE9T9",
        "colab_type": "code",
        "colab": {}
      },
      "source": [
        "# Combine datasets\n",
        "data = spa_only_en_wp + en_only_fra_wp\n",
        "targets = en_only_spa_wp + fra_only_en_wp"
      ],
      "execution_count": 0,
      "outputs": []
    },
    {
      "cell_type": "code",
      "metadata": {
        "id": "PYmV693fFGNk",
        "colab_type": "code",
        "colab": {}
      },
      "source": [
        "# Pad length to max len\n",
        "data = pad_sequences(data,maxlen = max_length, padding='post')\n",
        "targets = pad_sequences(targets,maxlen = max_length, padding='post')"
      ],
      "execution_count": 0,
      "outputs": []
    },
    {
      "cell_type": "code",
      "metadata": {
        "id": "rCjHh8UWZ56U",
        "colab_type": "code",
        "colab": {}
      },
      "source": [
        "# Define max length of encoder / decoder, should be the same because of padding\n",
        "max_encoder_seq_length = max([len(text) for text in data])\n",
        "max_decoder_seq_length = max([len(text) for text in targets])"
      ],
      "execution_count": 0,
      "outputs": []
    },
    {
      "cell_type": "code",
      "metadata": {
        "id": "z3ri3PVcY1ou",
        "colab_type": "code",
        "outputId": "4c3ea5a2-82f0-49ed-9a03-dc17b16098d0",
        "colab": {
          "base_uri": "https://localhost:8080/",
          "height": 34
        }
      },
      "source": [
        "max_encoder_seq_length, max_decoder_seq_length"
      ],
      "execution_count": 39,
      "outputs": [
        {
          "output_type": "execute_result",
          "data": {
            "text/plain": [
              "(131, 131)"
            ]
          },
          "metadata": {
            "tags": []
          },
          "execution_count": 39
        }
      ]
    },
    {
      "cell_type": "code",
      "metadata": {
        "id": "13Mr34svFHhD",
        "colab_type": "code",
        "outputId": "8e8a6fdc-f223-4cc3-868b-ad97f9594279",
        "colab": {
          "base_uri": "https://localhost:8080/",
          "height": 34
        }
      },
      "source": [
        "# Prepare training and test data\n",
        "train_x, test_x, train_y, test_y = train_test_split(data, targets, test_size=0.2, random_state = 1)\n",
        "len(train_x), len(test_x), len(train_y), len(test_y)"
      ],
      "execution_count": 40,
      "outputs": [
        {
          "output_type": "execute_result",
          "data": {
            "text/plain": [
              "(48000, 12000, 48000, 12000)"
            ]
          },
          "metadata": {
            "tags": []
          },
          "execution_count": 40
        }
      ]
    },
    {
      "cell_type": "code",
      "metadata": {
        "id": "aGCVOUyPi1Sh",
        "colab_type": "code",
        "outputId": "17790da6-170c-4a2b-8862-3b89012159c7",
        "colab": {
          "base_uri": "https://localhost:8080/",
          "height": 34
        }
      },
      "source": [
        "# Inputs (sample_numbers, max sequence length)\n",
        "train_x.shape, test_x.shape"
      ],
      "execution_count": 41,
      "outputs": [
        {
          "output_type": "execute_result",
          "data": {
            "text/plain": [
              "((48000, 131), (12000, 131))"
            ]
          },
          "metadata": {
            "tags": []
          },
          "execution_count": 41
        }
      ]
    },
    {
      "cell_type": "markdown",
      "metadata": {
        "id": "sT-l3T_XIwPA",
        "colab_type": "text"
      },
      "source": [
        "#### Model"
      ]
    },
    {
      "cell_type": "code",
      "metadata": {
        "id": "NGKbsWXFLh_F",
        "colab_type": "code",
        "colab": {}
      },
      "source": [
        "batch_size = 256\n",
        "num_epochs = 30\n",
        "latent_dim = 512"
      ],
      "execution_count": 0,
      "outputs": []
    },
    {
      "cell_type": "code",
      "metadata": {
        "id": "KjizYpczhCwU",
        "colab_type": "code",
        "colab": {}
      },
      "source": [
        "num_decoder_tokens = decoder_vocab_size\n",
        "num_encoder_tokens = encoder_vocab_size\n"
      ],
      "execution_count": 0,
      "outputs": []
    },
    {
      "cell_type": "code",
      "metadata": {
        "id": "JykrfONOaDUw",
        "colab_type": "code",
        "colab": {}
      },
      "source": [
        "# build NMT model\n",
        "def define_model(in_vocab,out_vocab, in_timesteps,out_timesteps,units):\n",
        "      model = Sequential()\n",
        "      model.add(Embedding(in_vocab, units, input_length=in_timesteps, mask_zero=True))\n",
        "      model.add(LSTM(units))\n",
        "      model.add(RepeatVector(out_timesteps))\n",
        "      model.add(LSTM(units, return_sequences=True))\n",
        "      model.add(Dense(out_vocab, activation='softmax'))\n",
        "      return model"
      ],
      "execution_count": 0,
      "outputs": []
    },
    {
      "cell_type": "code",
      "metadata": {
        "id": "Z6_-yRTfaFhK",
        "colab_type": "code",
        "colab": {
          "base_uri": "https://localhost:8080/",
          "height": 87
        },
        "outputId": "30a19698-8227-48cf-bede-4097053fa5a9"
      },
      "source": [
        "# model compilation\n",
        "# Endoder/Decoder size defined by vocab size in sentencepiece earlier\n",
        "# Encoder/Decoder sequence lengths are the same because of padding\n",
        "model = define_model(vocab_size, vocab_size, max_encoder_seq_length, max_decoder_seq_length, latent_dim)"
      ],
      "execution_count": 45,
      "outputs": [
        {
          "output_type": "stream",
          "text": [
            "WARNING:tensorflow:From /usr/local/lib/python3.6/dist-packages/tensorflow/python/framework/op_def_library.py:263: colocate_with (from tensorflow.python.framework.ops) is deprecated and will be removed in a future version.\n",
            "Instructions for updating:\n",
            "Colocations handled automatically by placer.\n"
          ],
          "name": "stdout"
        }
      ]
    },
    {
      "cell_type": "code",
      "metadata": {
        "id": "20_XHCnQjJ1c",
        "colab_type": "code",
        "colab": {
          "base_uri": "https://localhost:8080/",
          "height": 34
        },
        "outputId": "7db401db-bfea-4ed2-9f61-8086726d3ab2"
      },
      "source": [
        "encoder_vocab_size"
      ],
      "execution_count": 46,
      "outputs": [
        {
          "output_type": "execute_result",
          "data": {
            "text/plain": [
              "469"
            ]
          },
          "metadata": {
            "tags": []
          },
          "execution_count": 46
        }
      ]
    },
    {
      "cell_type": "code",
      "metadata": {
        "id": "DtzBfwhCZKvL",
        "colab_type": "code",
        "outputId": "ee902a03-c5bd-4d0b-c391-46f23d4f231c",
        "colab": {
          "base_uri": "https://localhost:8080/",
          "height": 34
        }
      },
      "source": [
        "train_x.shape"
      ],
      "execution_count": 47,
      "outputs": [
        {
          "output_type": "execute_result",
          "data": {
            "text/plain": [
              "(48000, 131)"
            ]
          },
          "metadata": {
            "tags": []
          },
          "execution_count": 47
        }
      ]
    },
    {
      "cell_type": "code",
      "metadata": {
        "colab_type": "code",
        "outputId": "3e6262ac-95db-480f-d6eb-8cf1cf9e5395",
        "id": "s0HK6iFQZZvk",
        "colab": {
          "base_uri": "https://localhost:8080/",
          "height": 302
        }
      },
      "source": [
        "adam = optimizers.Adam(lr = 1E-4)\n",
        "model.compile(loss='sparse_categorical_crossentropy', optimizer= adam)\n",
        "model.summary()"
      ],
      "execution_count": 48,
      "outputs": [
        {
          "output_type": "stream",
          "text": [
            "_________________________________________________________________\n",
            "Layer (type)                 Output Shape              Param #   \n",
            "=================================================================\n",
            "embedding_1 (Embedding)      (None, 131, 512)          256000    \n",
            "_________________________________________________________________\n",
            "lstm_1 (LSTM)                (None, 512)               2099200   \n",
            "_________________________________________________________________\n",
            "repeat_vector_1 (RepeatVecto (None, 131, 512)          0         \n",
            "_________________________________________________________________\n",
            "lstm_2 (LSTM)                (None, 131, 512)          2099200   \n",
            "_________________________________________________________________\n",
            "dense_1 (Dense)              (None, 131, 500)          256500    \n",
            "=================================================================\n",
            "Total params: 4,710,900\n",
            "Trainable params: 4,710,900\n",
            "Non-trainable params: 0\n",
            "_________________________________________________________________\n"
          ],
          "name": "stdout"
        }
      ]
    },
    {
      "cell_type": "code",
      "metadata": {
        "id": "lhwqFHDzg1jH",
        "colab_type": "code",
        "outputId": "bfc7a25d-ce40-4c97-f94a-cc1e3a2cb514",
        "colab": {
          "base_uri": "https://localhost:8080/",
          "height": 2050
        }
      },
      "source": [
        "# Save checkpoints\n",
        "filename = 'model3'\n",
        "checkpoint = ModelCheckpoint(filename, monitor='val_loss', verbose=1, save_best_only=True, mode='min')\n",
        "\n",
        "# Train model\n",
        "history = model.fit(train_x, train_y.reshape(train_y.shape[0], train_y.shape[1],1),\n",
        "                    epochs=num_epochs, batch_size=batch_size, validation_split = 0.2,\n",
        "                    callbacks=[checkpoint],\n",
        "                    validation_data = (test_x, test_y.reshape(test_y.shape[0], test_y.shape[1],1)),\n",
        "                    verbose=1)"
      ],
      "execution_count": 57,
      "outputs": [
        {
          "output_type": "stream",
          "text": [
            "Train on 48000 samples, validate on 12000 samples\n",
            "Epoch 1/30\n",
            "48000/48000 [==============================] - 114s 2ms/step - loss: 0.6438 - val_loss: 0.6480\n",
            "\n",
            "Epoch 00001: val_loss improved from inf to 0.64795, saving model to model2\n",
            "Epoch 2/30\n",
            "48000/48000 [==============================] - 114s 2ms/step - loss: 0.6427 - val_loss: 0.6434\n",
            "\n",
            "Epoch 00002: val_loss improved from 0.64795 to 0.64338, saving model to model2\n",
            "Epoch 3/30\n",
            "48000/48000 [==============================] - 114s 2ms/step - loss: 0.6412 - val_loss: 0.6411\n",
            "\n",
            "Epoch 00003: val_loss improved from 0.64338 to 0.64113, saving model to model2\n",
            "Epoch 4/30\n",
            "48000/48000 [==============================] - 113s 2ms/step - loss: 0.6404 - val_loss: 0.6389\n",
            "\n",
            "Epoch 00004: val_loss improved from 0.64113 to 0.63892, saving model to model2\n",
            "Epoch 5/30\n",
            "48000/48000 [==============================] - 114s 2ms/step - loss: 0.6389 - val_loss: 0.6386\n",
            "\n",
            "Epoch 00005: val_loss improved from 0.63892 to 0.63864, saving model to model2\n",
            "Epoch 6/30\n",
            "48000/48000 [==============================] - 113s 2ms/step - loss: 0.6379 - val_loss: 0.6381\n",
            "\n",
            "Epoch 00006: val_loss improved from 0.63864 to 0.63813, saving model to model2\n",
            "Epoch 7/30\n",
            "48000/48000 [==============================] - 113s 2ms/step - loss: 0.6368 - val_loss: 0.6385\n",
            "\n",
            "Epoch 00007: val_loss did not improve from 0.63813\n",
            "Epoch 8/30\n",
            "48000/48000 [==============================] - 113s 2ms/step - loss: 0.6353 - val_loss: 0.6376\n",
            "\n",
            "Epoch 00008: val_loss improved from 0.63813 to 0.63759, saving model to model2\n",
            "Epoch 9/30\n",
            "48000/48000 [==============================] - 113s 2ms/step - loss: 0.6343 - val_loss: 0.6342\n",
            "\n",
            "Epoch 00009: val_loss improved from 0.63759 to 0.63421, saving model to model2\n",
            "Epoch 10/30\n",
            "48000/48000 [==============================] - 114s 2ms/step - loss: 0.6331 - val_loss: 0.6355\n",
            "\n",
            "Epoch 00010: val_loss did not improve from 0.63421\n",
            "Epoch 11/30\n",
            "48000/48000 [==============================] - 113s 2ms/step - loss: 0.6314 - val_loss: 0.6315\n",
            "\n",
            "Epoch 00011: val_loss improved from 0.63421 to 0.63151, saving model to model2\n",
            "Epoch 12/30\n",
            "48000/48000 [==============================] - 113s 2ms/step - loss: 0.6302 - val_loss: 0.6322\n",
            "\n",
            "Epoch 00012: val_loss did not improve from 0.63151\n",
            "Epoch 13/30\n",
            "48000/48000 [==============================] - 113s 2ms/step - loss: 0.6285 - val_loss: 0.6291\n",
            "\n",
            "Epoch 00013: val_loss improved from 0.63151 to 0.62912, saving model to model2\n",
            "Epoch 14/30\n",
            "48000/48000 [==============================] - 113s 2ms/step - loss: 0.6268 - val_loss: 0.6265\n",
            "\n",
            "Epoch 00014: val_loss improved from 0.62912 to 0.62654, saving model to model2\n",
            "Epoch 15/30\n",
            "48000/48000 [==============================] - 113s 2ms/step - loss: 0.6256 - val_loss: 0.6255\n",
            "\n",
            "Epoch 00015: val_loss improved from 0.62654 to 0.62548, saving model to model2\n",
            "Epoch 16/30\n",
            "48000/48000 [==============================] - 113s 2ms/step - loss: 0.6237 - val_loss: 0.6241\n",
            "\n",
            "Epoch 00016: val_loss improved from 0.62548 to 0.62412, saving model to model2\n",
            "Epoch 17/30\n",
            "48000/48000 [==============================] - 113s 2ms/step - loss: 0.6223 - val_loss: 0.6232\n",
            "\n",
            "Epoch 00017: val_loss improved from 0.62412 to 0.62320, saving model to model2\n",
            "Epoch 18/30\n",
            "48000/48000 [==============================] - 114s 2ms/step - loss: 0.6206 - val_loss: 0.6216\n",
            "\n",
            "Epoch 00018: val_loss improved from 0.62320 to 0.62160, saving model to model2\n",
            "Epoch 19/30\n",
            "48000/48000 [==============================] - 113s 2ms/step - loss: 0.6194 - val_loss: 0.6209\n",
            "\n",
            "Epoch 00019: val_loss improved from 0.62160 to 0.62094, saving model to model2\n",
            "Epoch 20/30\n",
            "48000/48000 [==============================] - 113s 2ms/step - loss: 0.6178 - val_loss: 0.6183\n",
            "\n",
            "Epoch 00020: val_loss improved from 0.62094 to 0.61831, saving model to model2\n",
            "Epoch 21/30\n",
            "48000/48000 [==============================] - 114s 2ms/step - loss: 0.6159 - val_loss: 0.6169\n",
            "\n",
            "Epoch 00021: val_loss improved from 0.61831 to 0.61692, saving model to model2\n",
            "Epoch 22/30\n",
            "48000/48000 [==============================] - 113s 2ms/step - loss: 0.6146 - val_loss: 0.6167\n",
            "\n",
            "Epoch 00022: val_loss improved from 0.61692 to 0.61670, saving model to model2\n",
            "Epoch 23/30\n",
            "48000/48000 [==============================] - 114s 2ms/step - loss: 0.6130 - val_loss: 0.6147\n",
            "\n",
            "Epoch 00023: val_loss improved from 0.61670 to 0.61466, saving model to model2\n",
            "Epoch 24/30\n",
            "48000/48000 [==============================] - 113s 2ms/step - loss: 0.6113 - val_loss: 0.6136\n",
            "\n",
            "Epoch 00024: val_loss improved from 0.61466 to 0.61364, saving model to model2\n",
            "Epoch 25/30\n",
            "48000/48000 [==============================] - 113s 2ms/step - loss: 0.6101 - val_loss: 0.6121\n",
            "\n",
            "Epoch 00025: val_loss improved from 0.61364 to 0.61207, saving model to model2\n",
            "Epoch 26/30\n",
            "48000/48000 [==============================] - 114s 2ms/step - loss: 0.6084 - val_loss: 0.6109\n",
            "\n",
            "Epoch 00026: val_loss improved from 0.61207 to 0.61095, saving model to model2\n",
            "Epoch 27/30\n",
            "48000/48000 [==============================] - 113s 2ms/step - loss: 0.6077 - val_loss: 0.6104\n",
            "\n",
            "Epoch 00027: val_loss improved from 0.61095 to 0.61044, saving model to model2\n",
            "Epoch 28/30\n",
            "48000/48000 [==============================] - 113s 2ms/step - loss: 0.6058 - val_loss: 0.6098\n",
            "\n",
            "Epoch 00028: val_loss improved from 0.61044 to 0.60975, saving model to model2\n",
            "Epoch 29/30\n",
            "48000/48000 [==============================] - 114s 2ms/step - loss: 0.6046 - val_loss: 0.6073\n",
            "\n",
            "Epoch 00029: val_loss improved from 0.60975 to 0.60734, saving model to model2\n",
            "Epoch 30/30\n",
            "48000/48000 [==============================] - 113s 2ms/step - loss: 0.6029 - val_loss: 0.6068\n",
            "\n",
            "Epoch 00030: val_loss improved from 0.60734 to 0.60678, saving model to model2\n"
          ],
          "name": "stdout"
        }
      ]
    },
    {
      "cell_type": "code",
      "metadata": {
        "id": "kODpTNYYuEhx",
        "colab_type": "code",
        "colab": {}
      },
      "source": [
        "# Save model permanently to on prem local(Google Colab)\n",
        "from google.colab import files\n",
        "files.download('model3')"
      ],
      "execution_count": 0,
      "outputs": []
    },
    {
      "cell_type": "code",
      "metadata": {
        "id": "dLfxjMNEujJB",
        "colab_type": "code",
        "colab": {
          "base_uri": "https://localhost:8080/",
          "height": 301
        },
        "outputId": "9cc44641-cde5-403a-ea00-6643f742be23"
      },
      "source": [
        "# Plot training & validation loss values\n",
        "plt.plot(history.history['loss'])\n",
        "plt.plot(history.history['val_loss'])\n",
        "plt.title('Model loss')\n",
        "plt.ylabel('Loss')\n",
        "plt.xlabel('Epoch')\n",
        "plt.legend(['Train', 'Test'], loc='upper left')\n",
        "plt.show()"
      ],
      "execution_count": 77,
      "outputs": [
        {
          "output_type": "display_data",
          "data": {
            "image/png": "[encoded data removed]",
            "text/plain": [
              "<Figure size 432x288 with 1 Axes>"
            ]
          },
          "metadata": {
            "tags": []
          }
        }
      ]
    },
    {
      "cell_type": "code",
      "metadata": {
        "id": "Ib8IbnVmFQ4X",
        "colab_type": "code",
        "colab": {}
      },
      "source": [
        "# Create translate class\n",
        "class Translate:\n",
        "  '''\n",
        "  Translation class\n",
        "  Input:\n",
        "  Sentence to translate(string)\n",
        "  Target Language (French, Spanish, or English)\n",
        "  Output:\n",
        "  Translated Sentence\n",
        "  '''\n",
        "  def __init__(self, raw_sentence, target_lang):\n",
        "    self.raw_sentence = raw_sentence\n",
        "    self.target_lang = target_lang\n",
        "  \n",
        "  def encode_sentence(self, sentence):\n",
        "    '''\n",
        "    Wordmap the sentence into integers\n",
        "    '''\n",
        "    return(sp.encode_as_ids(sentence))\n",
        "  \n",
        "  def decode_sentence(self, word_map_vector):\n",
        "    '''\n",
        "    Decode the wordmap back into target sentence\n",
        "    '''\n",
        "    return(sp.decode_ids(word_map_vector))\n",
        "  \n",
        "  def predict_translation(self):\n",
        "    '''\n",
        "    Predicts sentence based on target\n",
        "    '''\n",
        "    # Append start stop based on target language\n",
        "    if self.target_lang == 'English':\n",
        "      input_lang = '<2en> '\n",
        "    elif self.target_lang == 'French':\n",
        "      input_lang = '<2fra> '\n",
        "    elif self.target_lang == 'Spanish':\n",
        "      input_lang = '<2spa> '\n",
        "    else:\n",
        "      return('Error: Please input either English, French or Spanish')\n",
        "    \n",
        "    \n",
        "    # Encode sentence\n",
        "    sentence = []\n",
        "    mapped_sentence = self.encode_sentence(input_lang + self.raw_sentence + ' <EOS>')\n",
        "    sentence.append(mapped_sentence)\n",
        "    \n",
        "    # Pad and reshape mapped_sentence\n",
        "    mapped_sentence = pad_sequences(sentence,maxlen = max_length, padding='post')\n",
        "    \n",
        "    # Predict\n",
        "    prediction = model.predict_classes(mapped_sentence.reshape(mapped_sentence.shape[0], mapped_sentence.shape[1]))\n",
        "    # Decode from softmax\n",
        "    demapped_sentence = self.decode_sentence([int(x) for x in prediction[0]])\n",
        "    # Return decoded string\n",
        "    return(demapped_sentence)"
      ],
      "execution_count": 0,
      "outputs": []
    },
    {
      "cell_type": "markdown",
      "metadata": {
        "id": "YzOX6YkhihVD",
        "colab_type": "text"
      },
      "source": [
        "##### Testing some translations"
      ]
    },
    {
      "cell_type": "markdown",
      "metadata": {
        "id": "zmnfJlp6oG72",
        "colab_type": "text"
      },
      "source": [
        "These are some sample translations to test the model across directly translated sentence pairs as well as zero shot translations with Spanish to French"
      ]
    },
    {
      "cell_type": "code",
      "metadata": {
        "id": "eD6FOqVIyqOJ",
        "colab_type": "code",
        "colab": {
          "base_uri": "https://localhost:8080/",
          "height": 54
        },
        "outputId": "af80137d-1682-4a89-9a8d-513125370eeb"
      },
      "source": [
        "# English to French(Explicitly trained)\n",
        "Translate(\"I am here.\", \"French\").predict_translation() \n"
      ],
      "execution_count": 184,
      "outputs": [
        {
          "output_type": "execute_result",
          "data": {
            "text/plain": [
              "'<2en> Je suisai ..  ⁇  ⁇  ⁇  ⁇  ⁇  ⁇  ⁇  ⁇  ⁇  ⁇  ⁇  ⁇  ⁇  ⁇  ⁇  ⁇  ⁇  ⁇  ⁇  ⁇  ⁇  ⁇  ⁇  ⁇  ⁇  ⁇  ⁇  ⁇  ⁇  ⁇  ⁇  ⁇  ⁇  ⁇  ⁇  ⁇  ⁇  ⁇  ⁇  ⁇  ⁇  ⁇  ⁇  ⁇  ⁇  ⁇  ⁇  ⁇  ⁇  ⁇  ⁇  ⁇  ⁇  ⁇  ⁇  ⁇  ⁇  ⁇  ⁇  ⁇  ⁇  ⁇  ⁇  ⁇  ⁇  ⁇  ⁇  ⁇  ⁇  ⁇  ⁇  ⁇  ⁇  ⁇  ⁇  ⁇  ⁇  ⁇  ⁇  ⁇  ⁇  ⁇  ⁇  ⁇  ⁇  ⁇  ⁇  ⁇  ⁇  ⁇  ⁇  ⁇  ⁇  ⁇  ⁇  ⁇  ⁇  ⁇  ⁇  ⁇  ⁇  ⁇  ⁇  ⁇  ⁇  ⁇  ⁇  ⁇  ⁇  ⁇  ⁇  ⁇  ⁇  ⁇  ⁇  ⁇  ⁇  ⁇  ⁇  ⁇  ⁇  ⁇ '"
            ]
          },
          "metadata": {
            "tags": []
          },
          "execution_count": 184
        }
      ]
    },
    {
      "cell_type": "code",
      "metadata": {
        "id": "h8RB_cavib91",
        "colab_type": "code",
        "colab": {
          "base_uri": "https://localhost:8080/",
          "height": 54
        },
        "outputId": "7ef684a2-bb66-4dcb-cd09-83b5fb1d19dc"
      },
      "source": [
        "# Spanish to English(Explicited trained)\n",
        "Translate(\"Dónde está el baño\", \"Spanish\").predict_translation()"
      ],
      "execution_count": 185,
      "outputs": [
        {
          "output_type": "execute_result",
          "data": {
            "text/plain": [
              "\"<2en> C'estest est est est estss...  ⁇  ⁇  ⁇  ⁇  ⁇  ⁇  ⁇  ⁇  ⁇  ⁇  ⁇  ⁇  ⁇  ⁇  ⁇  ⁇  ⁇  ⁇  ⁇  ⁇  ⁇  ⁇  ⁇  ⁇  ⁇  ⁇  ⁇  ⁇  ⁇  ⁇  ⁇  ⁇  ⁇  ⁇  ⁇  ⁇  ⁇  ⁇  ⁇  ⁇  ⁇  ⁇  ⁇  ⁇  ⁇  ⁇  ⁇  ⁇  ⁇  ⁇  ⁇  ⁇  ⁇  ⁇  ⁇  ⁇  ⁇  ⁇  ⁇  ⁇  ⁇  ⁇  ⁇  ⁇  ⁇  ⁇  ⁇  ⁇  ⁇  ⁇  ⁇  ⁇  ⁇  ⁇  ⁇  ⁇  ⁇  ⁇  ⁇  ⁇  ⁇  ⁇  ⁇  ⁇  ⁇  ⁇  ⁇  ⁇  ⁇  ⁇  ⁇  ⁇  ⁇  ⁇  ⁇  ⁇  ⁇  ⁇  ⁇  ⁇  ⁇  ⁇  ⁇  ⁇  ⁇  ⁇  ⁇  ⁇  ⁇  ⁇  ⁇  ⁇  ⁇  ⁇  ⁇ \""
            ]
          },
          "metadata": {
            "tags": []
          },
          "execution_count": 185
        }
      ]
    },
    {
      "cell_type": "code",
      "metadata": {
        "id": "78RBxvMOicGw",
        "colab_type": "code",
        "colab": {
          "base_uri": "https://localhost:8080/",
          "height": 54
        },
        "outputId": "d652d281-a257-4f5d-ac6c-96b7e2c6e90c"
      },
      "source": [
        "# Spanish to French(Zero Shot)\n",
        "Translate(\"Dónde está el baño\", \"French\").predict_translation() \n"
      ],
      "execution_count": 186,
      "outputs": [
        {
          "output_type": "execute_result",
          "data": {
            "text/plain": [
              "\"<2en> Vous'eseses n n néé..   ⁇  ⁇  ⁇  ⁇  ⁇  ⁇  ⁇  ⁇  ⁇  ⁇  ⁇  ⁇  ⁇  ⁇  ⁇  ⁇  ⁇  ⁇  ⁇  ⁇  ⁇  ⁇  ⁇  ⁇  ⁇  ⁇  ⁇  ⁇  ⁇  ⁇  ⁇  ⁇  ⁇  ⁇  ⁇  ⁇  ⁇  ⁇  ⁇  ⁇  ⁇  ⁇  ⁇  ⁇  ⁇  ⁇  ⁇  ⁇  ⁇  ⁇  ⁇  ⁇  ⁇  ⁇  ⁇  ⁇  ⁇  ⁇  ⁇  ⁇  ⁇  ⁇  ⁇  ⁇  ⁇  ⁇  ⁇  ⁇  ⁇  ⁇  ⁇  ⁇  ⁇  ⁇  ⁇  ⁇  ⁇  ⁇  ⁇  ⁇  ⁇  ⁇  ⁇  ⁇  ⁇  ⁇  ⁇  ⁇  ⁇  ⁇  ⁇  ⁇  ⁇  ⁇  ⁇  ⁇  ⁇  ⁇  ⁇  ⁇  ⁇  ⁇  ⁇  ⁇  ⁇  ⁇  ⁇  ⁇  ⁇  ⁇  ⁇  ⁇  ⁇  ⁇  ⁇ \""
            ]
          },
          "metadata": {
            "tags": []
          },
          "execution_count": 186
        }
      ]
    },
    {
      "cell_type": "code",
      "metadata": {
        "id": "kVkzotfLicNy",
        "colab_type": "code",
        "colab": {
          "base_uri": "https://localhost:8080/",
          "height": 54
        },
        "outputId": "b911ee6b-42b5-44bc-b0af-713325ac6da8"
      },
      "source": [
        "# Testing English to Spanish\n",
        "Translate(\"I am here.\", \"Spanish\").predict_translation()"
      ],
      "execution_count": 189,
      "outputs": [
        {
          "output_type": "execute_result",
          "data": {
            "text/plain": [
              "\"<2en> Tom'a .. <EOS> ⁇  ⁇  ⁇  ⁇  ⁇  ⁇  ⁇  ⁇  ⁇  ⁇  ⁇  ⁇  ⁇  ⁇  ⁇  ⁇  ⁇  ⁇  ⁇  ⁇  ⁇  ⁇  ⁇  ⁇  ⁇  ⁇  ⁇  ⁇  ⁇  ⁇  ⁇  ⁇  ⁇  ⁇  ⁇  ⁇  ⁇  ⁇  ⁇  ⁇  ⁇  ⁇  ⁇  ⁇  ⁇  ⁇  ⁇  ⁇  ⁇  ⁇  ⁇  ⁇  ⁇  ⁇  ⁇  ⁇  ⁇  ⁇  ⁇  ⁇  ⁇  ⁇  ⁇  ⁇  ⁇  ⁇  ⁇  ⁇  ⁇  ⁇  ⁇  ⁇  ⁇  ⁇  ⁇  ⁇  ⁇  ⁇  ⁇  ⁇  ⁇  ⁇  ⁇  ⁇  ⁇  ⁇  ⁇  ⁇  ⁇  ⁇  ⁇  ⁇  ⁇  ⁇  ⁇  ⁇  ⁇  ⁇  ⁇  ⁇  ⁇  ⁇  ⁇  ⁇  ⁇  ⁇  ⁇  ⁇  ⁇  ⁇  ⁇  ⁇  ⁇  ⁇  ⁇  ⁇  ⁇  ⁇  ⁇  ⁇  ⁇ \""
            ]
          },
          "metadata": {
            "tags": []
          },
          "execution_count": 189
        }
      ]
    },
    {
      "cell_type": "code",
      "metadata": {
        "id": "t7jvYoZTdE2S",
        "colab_type": "code",
        "colab": {
          "base_uri": "https://localhost:8080/",
          "height": 54
        },
        "outputId": "79b7db42-4a1c-4eaa-99ca-5dbb9f4c4195"
      },
      "source": [
        "# English to French(Explicitly trained) with long sentence\n",
        "Translate(\"I think bad things are happening but I am not sure what I can do about it. Could you maybe look into it?\", \"French\").predict_translation() "
      ],
      "execution_count": 188,
      "outputs": [
        {
          "output_type": "execute_result",
          "data": {
            "text/plain": [
              "\"<2en> P pense que que''''''erer que que que que de''''''''''''''''''''''' ⁇  ⁇  ⁇  ⁇  ⁇  ⁇  ⁇  ⁇  ⁇  ⁇  ⁇  ⁇  ⁇  ⁇  ⁇  ⁇  ⁇  ⁇  ⁇  ⁇  ⁇  ⁇  ⁇  ⁇  ⁇  ⁇  ⁇  ⁇  ⁇  ⁇  ⁇  ⁇  ⁇  ⁇  ⁇  ⁇  ⁇  ⁇  ⁇  ⁇  ⁇  ⁇  ⁇  ⁇  ⁇  ⁇  ⁇  ⁇  ⁇  ⁇  ⁇  ⁇  ⁇  ⁇  ⁇  ⁇  ⁇  ⁇  ⁇  ⁇  ⁇  ⁇  ⁇  ⁇  ⁇  ⁇  ⁇  ⁇  ⁇  ⁇  ⁇  ⁇  ⁇  ⁇  ⁇  ⁇  ⁇  ⁇  ⁇  ⁇  ⁇  ⁇  ⁇  ⁇  ⁇  ⁇  ⁇ \""
            ]
          },
          "metadata": {
            "tags": []
          },
          "execution_count": 188
        }
      ]
    },
    {
      "cell_type": "code",
      "metadata": {
        "id": "EMbKCEAnpbMw",
        "colab_type": "code",
        "colab": {
          "base_uri": "https://localhost:8080/",
          "height": 54
        },
        "outputId": "de305624-c99e-4eb6-e485-89a6e6f839a0"
      },
      "source": [
        "# Gibberish(multi lang)\n",
        "Translate(\"I think el gato est merveilleux\", \"English\").predict_translation() "
      ],
      "execution_count": 191,
      "outputs": [
        {
          "output_type": "execute_result",
          "data": {
            "text/plain": [
              "\" ⁇ 2spa ⁇  He''tt a the the the....  ⁇  ⁇  ⁇  ⁇  ⁇  ⁇  ⁇  ⁇  ⁇  ⁇  ⁇  ⁇  ⁇  ⁇  ⁇  ⁇  ⁇  ⁇  ⁇  ⁇  ⁇  ⁇  ⁇  ⁇  ⁇  ⁇  ⁇  ⁇  ⁇  ⁇  ⁇  ⁇  ⁇  ⁇  ⁇  ⁇  ⁇  ⁇  ⁇  ⁇  ⁇  ⁇  ⁇  ⁇  ⁇  ⁇  ⁇  ⁇  ⁇  ⁇  ⁇  ⁇  ⁇  ⁇  ⁇  ⁇  ⁇  ⁇  ⁇  ⁇  ⁇  ⁇  ⁇  ⁇  ⁇  ⁇  ⁇  ⁇  ⁇  ⁇  ⁇  ⁇  ⁇  ⁇  ⁇  ⁇  ⁇  ⁇  ⁇  ⁇  ⁇  ⁇  ⁇  ⁇  ⁇  ⁇  ⁇  ⁇  ⁇  ⁇  ⁇  ⁇  ⁇  ⁇  ⁇  ⁇  ⁇  ⁇  ⁇  ⁇  ⁇  ⁇  ⁇  ⁇  ⁇  ⁇  ⁇  ⁇  ⁇  ⁇ \""
            ]
          },
          "metadata": {
            "tags": []
          },
          "execution_count": 191
        }
      ]
    },
    {
      "cell_type": "markdown",
      "metadata": {
        "id": "-qUYZA2bmdg7",
        "colab_type": "text"
      },
      "source": [
        "##### BLEU Scores"
      ]
    },
    {
      "cell_type": "markdown",
      "metadata": {
        "id": "fDxSJudDnxND",
        "colab_type": "text"
      },
      "source": [
        "BLEU scores are evaluated by testing with and against the Google Translate version. There is a pretty higher rate of error due to not super cleaning the output from the prediction such as from the sentence start end tags and the zero padding being decoded."
      ]
    },
    {
      "cell_type": "code",
      "metadata": {
        "id": "8b0lPnLVysfA",
        "colab_type": "code",
        "colab": {}
      },
      "source": [
        "# BLEU Scores"
      ],
      "execution_count": 0,
      "outputs": []
    },
    {
      "cell_type": "code",
      "metadata": {
        "id": "fCv7UwKaA2Bl",
        "colab_type": "code",
        "colab": {}
      },
      "source": [
        "# ENG to FRENCH(Explicit)\n",
        "eng_fra_scores = [sentence_bleu(Translate(\"My name is John.\", \"French\").predict_translation().split(\" \"), \"Mon nom est John.\".split(\" \")),\n",
        "                  sentence_bleu(Translate(\"Where is the bathroom?\", \"French\").predict_translation().split(\" \"), \"Où se trouvent les toilettes?\".split(\" \")),\n",
        "                  sentence_bleu(Translate(\"John, where are you?\", \"French\").predict_translation().split(\" \"), \"John, où es-tu?\".split(\" \"))]\n",
        "\n",
        "eng_fra_results = pd.DataFrame({'Language': 'ENG-FRA', \n",
        "                                'Input_Sentence': ['My name is John.', 'Where is the bathroom', 'John, where are you?'], \n",
        "                                'Target_Sentence': ['Mon nom est John.', 'Où se trouvent les toilettes?', 'John, où es-tu?'], \n",
        "                                'Score': eng_fra_scores})"
      ],
      "execution_count": 0,
      "outputs": []
    },
    {
      "cell_type": "code",
      "metadata": {
        "id": "22W0kQNBnWV9",
        "colab_type": "code",
        "colab": {}
      },
      "source": [
        "# ENG TO SPANISH(Garbage)\n",
        "eng_spa_scores = [sentence_bleu(Translate(\"My name is John.\", \"Spanish\").predict_translation().split(\" \"), \"Mi nombre es John.\".split(\" \")),\n",
        "                  sentence_bleu(Translate(\"Where is the bathroom?\", \"Spanish\").predict_translation().split(\" \"), \"¿Dónde está el baño?\".split(\" \")),\n",
        "                  sentence_bleu(Translate(\"John, where are you?\", \"Spanish\").predict_translation().split(\" \"), \"Juan donde estas\".split(\" \"))]\n",
        "\n",
        "eng_spa_results = pd.DataFrame({'Language': 'ENG-SPA', \n",
        "                                'Input_Sentence': ['My name is John.', 'Where is the bathroom', 'John, where are you?'], \n",
        "                                'Target_Sentence': ['Mi nombre es John.', '¿Dónde está el baño?', 'John, où es-tu?'], \n",
        "                                'Score': eng_spa_scores})"
      ],
      "execution_count": 0,
      "outputs": []
    },
    {
      "cell_type": "code",
      "metadata": {
        "id": "EB2IeGHBnWbQ",
        "colab_type": "code",
        "colab": {}
      },
      "source": [
        "# SPANISH TO ENG(Explicit)\n",
        "spa_eng_scores = [sentence_bleu(Translate(\"Mi nombre es John.\", \"English\").predict_translation().split(\" \"), \"My name is John.\".split(\" \")),\n",
        "                  sentence_bleu(Translate(\"¿Dónde está el baño?\", \"English\").predict_translation().split(\" \"), \"Where is the bathroom?\".split(\" \")),\n",
        "                  sentence_bleu(Translate(\"Juan donde estas\", \"English\").predict_translation().split(\" \"), \"John, where are you?\".split(\" \"))]\n",
        "\n",
        "spa_eng_results = pd.DataFrame({'Language': 'SPA-ENG', \n",
        "                                'Input_Sentence': ['Mi nombre es John.', '¿Dónde está el baño?', 'Juan donde estas'], \n",
        "                                'Target_Sentence': ['My name is John.', 'Where is the bathroom', 'John, where are you?'], \n",
        "                                'Score': spa_eng_scores})"
      ],
      "execution_count": 0,
      "outputs": []
    },
    {
      "cell_type": "code",
      "metadata": {
        "id": "cCEeXw_ynWkz",
        "colab_type": "code",
        "colab": {}
      },
      "source": [
        "# SPANISH TO FRENCH(Zero shot)\n",
        "spa_fra_scores = [sentence_bleu(Translate(\"Mi nombre es John.\", \"French\").predict_translation().split(\" \"), \"Mon nom est John.\".split(\" \")),\n",
        "                  sentence_bleu(Translate(\"¿Dónde está el baño?\", \"French\").predict_translation().split(\" \"), \"Où se trouvent les toilettes?\".split(\" \")),\n",
        "                  sentence_bleu(Translate(\"Juan donde estas\", \"French\").predict_translation().split(\" \"), \"John, où es-tu?\".split(\" \"))]\n",
        "\n",
        "spa_fra_results = pd.DataFrame({'Language': 'SPA-FRA', \n",
        "                                'Input_Sentence': ['Mi nombre es John.', '¿Dónde está el baño?', 'Juan donde estas'], \n",
        "                                'Target_Sentence': ['Mon nom est John.', 'Où se trouvent les toilettes?', 'John, où es-tu?'], \n",
        "                                'Score': spa_fra_scores})"
      ],
      "execution_count": 0,
      "outputs": []
    },
    {
      "cell_type": "code",
      "metadata": {
        "id": "7vt9twktnWqh",
        "colab_type": "code",
        "colab": {}
      },
      "source": [
        "# FRENCH TO ENG(Garbage)\n",
        "fra_eng_scores = [sentence_bleu(Translate(\"Mon nom est John.\", \"French\").predict_translation().split(\"My name is John.\"), \"\".split(\" \")),\n",
        "                  sentence_bleu(Translate(\"Où se trouvent les toilettes?\", \"French\").predict_translation().split(\"Where is the bathroom?\"), \"\".split(\" \")),\n",
        "                  sentence_bleu(Translate(\"John, où es-tu?\", \"French\").predict_translation().split(\" \"), \"\".split(\"John, where are you?\"))]\n",
        "\n",
        "fra_eng_results = pd.DataFrame({'Language': 'FRA-ENG', \n",
        "                                'Target_Sentence': ['Mon nom est John.', 'Où se trouvent les toilettes?', 'John, où es-tu?'], \n",
        "                                'Input_Sentence': ['My name is John.', 'Where is the bathroom', 'John, where are you?'], \n",
        "                                'Score': fra_eng_scores})"
      ],
      "execution_count": 0,
      "outputs": []
    },
    {
      "cell_type": "code",
      "metadata": {
        "id": "2CIB3WD2nWwV",
        "colab_type": "code",
        "colab": {}
      },
      "source": [
        "# FRENCH TO SPANISH(Garbage)\n",
        "fra_spa_scores = [sentence_bleu(Translate(\"Mon nom est John.\", \"French\").predict_translation().split(\" \"), \"Mi nombre es John.\".split(\" \")),\n",
        "                  sentence_bleu(Translate(\"Où se trouvent les toilettes?\", \"French\").predict_translation().split(\" \"), \"¿Dónde está el baño?\".split(\" \")),\n",
        "                  sentence_bleu(Translate(\"John, où es-tu?\", \"French\").predict_translation().split(\" \"), \"Juan donde estas\".split(\" \"))]\n",
        "\n",
        "fra_spa_results = pd.DataFrame({'Language': 'SPA-FRA', \n",
        "                                'Input_Sentence': ['Mon nom est John.', 'Où se trouvent les toilettes?', 'John, où es-tu?'], \n",
        "                                'Target_Sentence': ['Mi nombre es John.', '¿Dónde está el baño?', 'Juan donde estas'], \n",
        "                                'Score': fra_spa_scores})"
      ],
      "execution_count": 0,
      "outputs": []
    },
    {
      "cell_type": "code",
      "metadata": {
        "id": "bGT1DVYpqPHz",
        "colab_type": "code",
        "colab": {}
      },
      "source": [
        "# Plot results\n"
      ],
      "execution_count": 0,
      "outputs": []
    }
  ]
}