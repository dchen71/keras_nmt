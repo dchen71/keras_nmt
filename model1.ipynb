{
 "cells": [
  {
   "cell_type": "markdown",
   "metadata": {
    "colab_type": "text",
    "id": "-dJIjJaexlNi"
   },
   "source": [
    "# Final Project\n",
    "\n",
    "The goal is to pretty much try to create a zero shot model using a SPA-ENG, ENG-FRA datasets from manythings.org. \n",
    "\n",
    "The datasets are roughly balanced so for simplicity, downsampling will not be done to even the number of samples. There will be a slight bias coming from the ENG-FRA dataset"
   ]
  },
  {
   "cell_type": "markdown",
   "metadata": {
    "colab_type": "text",
    "id": "xaXNOQDVBqrt"
   },
   "source": [
    "## Downloading of data"
   ]
  },
  {
   "cell_type": "markdown",
   "metadata": {
    "colab_type": "text",
    "id": "vNagpZjIcbbb"
   },
   "source": [
    "The data is downloaded from manythings. The data is simply unzipped, and combined for wordpiece modeling."
   ]
  },
  {
   "cell_type": "code",
   "execution_count": 0,
   "metadata": {
    "colab": {
     "base_uri": "https://localhost:8080/",
     "height": 421
    },
    "colab_type": "code",
    "id": "r06Oj2ivxqVG",
    "outputId": "80da36c2-5dff-4f8e-9cfb-bfd4b2f39f03"
   },
   "outputs": [
    {
     "name": "stdout",
     "output_type": "stream",
     "text": [
      "--2019-05-13 00:01:25--  http://www.manythings.org/anki/spa-eng.zip\n",
      "Resolving www.manythings.org (www.manythings.org)... 104.24.109.196, 104.24.108.196, 2606:4700:30::6818:6cc4, ...\n",
      "Connecting to www.manythings.org (www.manythings.org)|104.24.109.196|:80... connected.\n",
      "HTTP request sent, awaiting response... 200 OK\n",
      "Length: 2819791 (2.7M) [application/zip]\n",
      "Saving to: ‘spa-eng.zip’\n",
      "\n",
      "\r",
      "spa-eng.zip           0%[                    ]       0  --.-KB/s               \r",
      "spa-eng.zip          32%[=====>              ] 881.69K  4.17MB/s               \r",
      "spa-eng.zip         100%[===================>]   2.69M  9.60MB/s    in 0.3s    \n",
      "\n",
      "2019-05-13 00:01:26 (9.60 MB/s) - ‘spa-eng.zip’ saved [2819791/2819791]\n",
      "\n",
      "--2019-05-13 00:01:28--  http://www.manythings.org/anki/fra-eng.zip\n",
      "Resolving www.manythings.org (www.manythings.org)... 104.24.109.196, 104.24.108.196, 2606:4700:30::6818:6cc4, ...\n",
      "Connecting to www.manythings.org (www.manythings.org)|104.24.109.196|:80... connected.\n",
      "HTTP request sent, awaiting response... 200 OK\n",
      "Length: 3423204 (3.3M) [application/zip]\n",
      "Saving to: ‘fra-eng.zip’\n",
      "\n",
      "fra-eng.zip         100%[===================>]   3.26M  12.6MB/s    in 0.3s    \n",
      "\n",
      "2019-05-13 00:01:29 (12.6 MB/s) - ‘fra-eng.zip’ saved [3423204/3423204]\n",
      "\n"
     ]
    }
   ],
   "source": [
    "!wget http://www.manythings.org/anki/spa-eng.zip\n",
    "!wget http://www.manythings.org/anki/fra-eng.zip"
   ]
  },
  {
   "cell_type": "code",
   "execution_count": 0,
   "metadata": {
    "colab": {},
    "colab_type": "code",
    "collapsed": true,
    "id": "H2dhRx-p3YlK"
   },
   "outputs": [],
   "source": [
    "!mkdir fra-eng\n",
    "!mkdir spa-eng\n",
    "!mv fra-eng.zip fra-eng\n",
    "!mv spa-eng.zip spa-eng"
   ]
  },
  {
   "cell_type": "code",
   "execution_count": 0,
   "metadata": {
    "colab": {
     "base_uri": "https://localhost:8080/",
     "height": 127
    },
    "colab_type": "code",
    "id": "qOYGyOwO3fgD",
    "outputId": "c65aa6b1-2c3d-41d6-f80f-f6741f28e38b"
   },
   "outputs": [
    {
     "name": "stdout",
     "output_type": "stream",
     "text": [
      "Archive:  fra-eng/fra-eng.zip\n",
      "  inflating: fra-eng/_about.txt      \n",
      "  inflating: fra-eng/fra.txt         \n",
      "Archive:  spa-eng/spa-eng.zip\n",
      "  inflating: spa-eng/_about.txt      \n",
      "  inflating: spa-eng/spa.txt         \n"
     ]
    }
   ],
   "source": [
    "!unzip fra-eng/fra-eng.zip -d fra-eng\n",
    "!unzip spa-eng/spa-eng.zip -d spa-eng"
   ]
  },
  {
   "cell_type": "code",
   "execution_count": 0,
   "metadata": {
    "colab": {
     "base_uri": "https://localhost:8080/",
     "height": 35
    },
    "colab_type": "code",
    "id": "Ro6UzMqs7aHX",
    "outputId": "54395a72-4475-42f0-f992-08cd55bbfd08"
   },
   "outputs": [
    {
     "name": "stdout",
     "output_type": "stream",
     "text": [
      "fra-eng  sample_data  spa-eng\n"
     ]
    }
   ],
   "source": [
    "!ls"
   ]
  },
  {
   "cell_type": "code",
   "execution_count": 0,
   "metadata": {
    "colab": {},
    "colab_type": "code",
    "collapsed": true,
    "id": "bVxi22J7NhVZ"
   },
   "outputs": [],
   "source": [
    "# Merging the datasets together for wordpiece modeling\n",
    "!cat fra-eng/fra.txt spa-eng/spa.txt > all.txt"
   ]
  },
  {
   "cell_type": "markdown",
   "metadata": {
    "colab_type": "text",
    "id": "b_ny6QVaBwTF"
   },
   "source": [
    "## Modeling"
   ]
  },
  {
   "cell_type": "markdown",
   "metadata": {
    "colab_type": "text",
    "id": "wG1Ho2Rac3OF"
   },
   "source": [
    "This part will deal with all steps of the model, from creaing the wordpieces to the training of the model."
   ]
  },
  {
   "cell_type": "code",
   "execution_count": 0,
   "metadata": {
    "colab": {
     "base_uri": "https://localhost:8080/",
     "height": 35
    },
    "colab_type": "code",
    "id": "3j24EPIaTbrO",
    "outputId": "9ff8fa33-dd7c-4c0c-c51f-d0212ad224c7"
   },
   "outputs": [
    {
     "name": "stdout",
     "output_type": "stream",
     "text": [
      "Requirement already satisfied: sentencepiece in /usr/local/lib/python3.6/dist-packages (0.1.82)\n"
     ]
    }
   ],
   "source": [
    "!pip install sentencepiece # Installing package to deal with converting to wordpiece model"
   ]
  },
  {
   "cell_type": "code",
   "execution_count": 0,
   "metadata": {
    "colab": {
     "base_uri": "https://localhost:8080/",
     "height": 366
    },
    "colab_type": "code",
    "id": "Pp2CWY97_alk",
    "outputId": "342fe951-7884-49d0-b0ee-79e31766fc21"
   },
   "outputs": [
    {
     "name": "stdout",
     "output_type": "stream",
     "text": [
      "Collecting git+https://github.com/keras-team/keras.git\n",
      "  Cloning https://github.com/keras-team/keras.git to /tmp/pip-req-build-5jo2k_ab\n",
      "  Running command git clone -q https://github.com/keras-team/keras.git /tmp/pip-req-build-5jo2k_ab\n",
      "Requirement already satisfied, skipping upgrade: numpy>=1.9.1 in /usr/local/lib/python3.6/dist-packages (from Keras==2.2.4) (1.16.3)\n",
      "Requirement already satisfied, skipping upgrade: scipy>=0.14 in /usr/local/lib/python3.6/dist-packages (from Keras==2.2.4) (1.2.1)\n",
      "Requirement already satisfied, skipping upgrade: six>=1.9.0 in /usr/local/lib/python3.6/dist-packages (from Keras==2.2.4) (1.12.0)\n",
      "Requirement already satisfied, skipping upgrade: pyyaml in /usr/local/lib/python3.6/dist-packages (from Keras==2.2.4) (3.13)\n",
      "Requirement already satisfied, skipping upgrade: h5py in /usr/local/lib/python3.6/dist-packages (from Keras==2.2.4) (2.8.0)\n",
      "Requirement already satisfied, skipping upgrade: keras_applications>=1.0.6 in /usr/local/lib/python3.6/dist-packages (from Keras==2.2.4) (1.0.7)\n",
      "Requirement already satisfied, skipping upgrade: keras_preprocessing>=1.0.5 in /usr/local/lib/python3.6/dist-packages (from Keras==2.2.4) (1.0.9)\n",
      "Building wheels for collected packages: Keras\n",
      "  Building wheel for Keras (setup.py) ... \u001b[?25l\u001b[?25hdone\n",
      "  Stored in directory: /tmp/pip-ephem-wheel-cache-chelgl2d/wheels/da/a4/7e/6b7bd9af18cc2e23b8dd5ed6de07a7e13bd80a17214eb88932\n",
      "Successfully built Keras\n",
      "Installing collected packages: Keras\n",
      "  Found existing installation: Keras 2.2.4\n",
      "    Uninstalling Keras-2.2.4:\n",
      "      Successfully uninstalled Keras-2.2.4\n",
      "Successfully installed Keras-2.2.4\n"
     ]
    }
   ],
   "source": [
    "# Installing dev keras 2.2.5 to fix sparse cateogrical accuracy bug\n",
    "!pip3 install git+https://github.com/keras-team/keras.git -U"
   ]
  },
  {
   "cell_type": "code",
   "execution_count": 0,
   "metadata": {
    "colab": {
     "base_uri": "https://localhost:8080/",
     "height": 35
    },
    "colab_type": "code",
    "id": "_xvsNuh86M50",
    "outputId": "c5f8bfa0-df37-478a-fc64-84df8ddd5d0e"
   },
   "outputs": [
    {
     "name": "stderr",
     "output_type": "stream",
     "text": [
      "Using TensorFlow backend.\n"
     ]
    }
   ],
   "source": [
    "import sentencepiece as spm\n",
    "\n",
    "import keras\n",
    "from keras.models import Model, Sequential\n",
    "from keras.layers import Input, LSTM, Embedding, Dense, Activation, Dropout, RepeatVector, Bidirectional\n",
    "from keras.preprocessing.sequence import pad_sequences\n",
    "from sklearn.model_selection import train_test_split\n",
    "from keras.callbacks import ModelCheckpoint\n",
    "from keras import metrics\n",
    "from keras.models import load_model\n",
    "from keras import optimizers\n",
    "import matplotlib.pyplot as plt\n",
    "import seaborn as sns\n",
    "import numpy as np\n",
    "from numpy.random import shuffle\n",
    "from nltk.translate.bleu_score import sentence_bleu\n",
    "import pandas as pd\n",
    "import re"
   ]
  },
  {
   "cell_type": "code",
   "execution_count": 0,
   "metadata": {
    "colab": {},
    "colab_type": "code",
    "collapsed": true,
    "id": "ABpTEG5U9swd"
   },
   "outputs": [],
   "source": [
    "# Set seed for reproducible results\n",
    "from numpy.random import seed\n",
    "seed(1)"
   ]
  },
  {
   "cell_type": "markdown",
   "metadata": {
    "colab_type": "text",
    "id": "uQa26XtlHE7x"
   },
   "source": [
    "### Cleaning"
   ]
  },
  {
   "cell_type": "markdown",
   "metadata": {
    "colab_type": "text",
    "id": "YjHi1wl7Scgy"
   },
   "source": [
    "#### Wordpiece modeling the corpus"
   ]
  },
  {
   "cell_type": "markdown",
   "metadata": {
    "colab_type": "text",
    "id": "g-F05cgiOrec"
   },
   "source": [
    "In order to account for unseen words, a subword piece model is used to encode all of the vocabulary in all of the datasets. The model will use all of the words from every sentence in the pairs to build the top pieces to represent the data. \n",
    "\n",
    "The following link leads to the tool used to help build the word piece model:  \n",
    "https://github.com/google/sentencepiece\n"
   ]
  },
  {
   "cell_type": "code",
   "execution_count": 0,
   "metadata": {
    "colab": {
     "base_uri": "https://localhost:8080/",
     "height": 35
    },
    "colab_type": "code",
    "id": "UuizO6bF54oX",
    "outputId": "865d8418-9500-453c-b944-9a359ee69817"
   },
   "outputs": [
    {
     "data": {
      "text/plain": [
       "True"
      ]
     },
     "execution_count": 6,
     "metadata": {
      "tags": []
     },
     "output_type": "execute_result"
    }
   ],
   "source": [
    "# Creating a Wordpiece model using all of the data\n",
    "## Add in the zero shot prefixes\n",
    "vocab_size= 750\n",
    "model_prefix = 'model'\n",
    "train_data_file = 'all.txt'\n",
    "\n",
    "spm.SentencePieceTrainer.Train(f'--input={train_data_file} --model_prefix={model_prefix} --user_defined_symbols=<2spa>,<2fra>,<2en>,<EOS> --vocab_size={vocab_size} --model_type=bpe')"
   ]
  },
  {
   "cell_type": "code",
   "execution_count": 0,
   "metadata": {
    "colab": {
     "base_uri": "https://localhost:8080/",
     "height": 35
    },
    "colab_type": "code",
    "id": "eVo8AZQQH7Le",
    "outputId": "82d4eb1b-2f0d-4bde-f0d0-e2b24eb7db23"
   },
   "outputs": [
    {
     "data": {
      "text/plain": [
       "True"
      ]
     },
     "execution_count": 7,
     "metadata": {
      "tags": []
     },
     "output_type": "execute_result"
    }
   ],
   "source": [
    "# Loading the piecer\n",
    "sp = spm.SentencePieceProcessor()\n",
    "sp.Load(\"model.model\")"
   ]
  },
  {
   "cell_type": "markdown",
   "metadata": {
    "colab_type": "text",
    "id": "UXfmlfsuSxNW"
   },
   "source": [
    "##### Testing the encoder / decoder\n",
    "\n",
    "As an additional sanity check, the encoder and decoder is tested here."
   ]
  },
  {
   "cell_type": "code",
   "execution_count": 0,
   "metadata": {
    "colab": {
     "base_uri": "https://localhost:8080/",
     "height": 35
    },
    "colab_type": "code",
    "id": "u9UXHxE1OlrN",
    "outputId": "68c0a06f-3a71-4523-ad67-3680c57d5d73"
   },
   "outputs": [
    {
     "data": {
      "text/plain": [
       "['▁', '<2en>', '▁This', '▁is', '▁a', '▁t', 'est']"
      ]
     },
     "execution_count": 8,
     "metadata": {
      "tags": []
     },
     "output_type": "execute_result"
    }
   ],
   "source": [
    "sp.EncodeAsPieces(\"<2en> This is a test\")"
   ]
  },
  {
   "cell_type": "code",
   "execution_count": 0,
   "metadata": {
    "colab": {
     "base_uri": "https://localhost:8080/",
     "height": 35
    },
    "colab_type": "code",
    "id": "oaKRn7QhOo-w",
    "outputId": "04b25695-b811-4339-a550-656157d2e1a4"
   },
   "outputs": [
    {
     "data": {
      "text/plain": [
       "'This is a test'"
      ]
     },
     "execution_count": 9,
     "metadata": {
      "tags": []
     },
     "output_type": "execute_result"
    }
   ],
   "source": [
    "sp.DecodePieces(['▁This', '▁is', '▁a', '▁t', 'est'])"
   ]
  },
  {
   "cell_type": "code",
   "execution_count": 0,
   "metadata": {
    "colab": {
     "base_uri": "https://localhost:8080/",
     "height": 201
    },
    "colab_type": "code",
    "id": "HjcAh9YWPONG",
    "outputId": "285150ca-9f76-4548-a6b1-2662b48b5d6f"
   },
   "outputs": [
    {
     "name": "stdout",
     "output_type": "stream",
     "text": [
      "Go.\tVa !\n",
      "Hi.\tSalut !\n",
      "Run!\tCours !\n",
      "Run!\tCourez !\n",
      "Who?\tQui ?\n",
      "Wow!\tÇa alors !\n",
      "Fire!\tAu feu !\n",
      "Help!\tÀ l'aide !\n",
      "Jump.\tSaute.\n",
      "Stop!\tÇa suffit !\n"
     ]
    }
   ],
   "source": [
    "!head all.txt"
   ]
  },
  {
   "cell_type": "code",
   "execution_count": 0,
   "metadata": {
    "colab": {
     "base_uri": "https://localhost:8080/",
     "height": 35
    },
    "colab_type": "code",
    "id": "ySr9gXJBPUhe",
    "outputId": "fbe399e3-f327-4c62-825d-7626aaa4898a"
   },
   "outputs": [
    {
     "data": {
      "text/plain": [
       "['▁V', 'a', '▁!']"
      ]
     },
     "execution_count": 11,
     "metadata": {
      "tags": []
     },
     "output_type": "execute_result"
    }
   ],
   "source": [
    "sp.EncodeAsPieces(\"Va !\")"
   ]
  },
  {
   "cell_type": "code",
   "execution_count": 0,
   "metadata": {
    "colab": {
     "base_uri": "https://localhost:8080/",
     "height": 35
    },
    "colab_type": "code",
    "id": "Abpx4SXbPRVD",
    "outputId": "f8e454f8-4b62-4a67-a2a6-6be80587d5a4"
   },
   "outputs": [
    {
     "data": {
      "text/plain": [
       "'Va !'"
      ]
     },
     "execution_count": 12,
     "metadata": {
      "tags": []
     },
     "output_type": "execute_result"
    }
   ],
   "source": [
    "sp.DecodePieces(['▁V', 'a', '▁!'])"
   ]
  },
  {
   "cell_type": "code",
   "execution_count": 0,
   "metadata": {
    "colab": {
     "base_uri": "https://localhost:8080/",
     "height": 35
    },
    "colab_type": "code",
    "id": "lWZSF-u2PfCb",
    "outputId": "70599f24-5997-4648-c2cd-87e6cd23fe05"
   },
   "outputs": [
    {
     "data": {
      "text/plain": [
       "['▁s', 'd', 'lf', 'k', 'h', 's', 'd', 'l', 'k', 'f', 'h']"
      ]
     },
     "execution_count": 13,
     "metadata": {
      "tags": []
     },
     "output_type": "execute_result"
    }
   ],
   "source": [
    "sp.EncodeAsPieces(\"sdlfkhsdlkfh\")"
   ]
  },
  {
   "cell_type": "code",
   "execution_count": 0,
   "metadata": {
    "colab": {
     "base_uri": "https://localhost:8080/",
     "height": 35
    },
    "colab_type": "code",
    "id": "fXa2dmcvzfgp",
    "outputId": "9b5546a5-f8b6-4d5c-ebb8-4ab160ca279a"
   },
   "outputs": [
    {
     "data": {
      "text/plain": [
       "['▁', 'Ç', 'a', '▁su', 'ff', 'it', '▁!']"
      ]
     },
     "execution_count": 14,
     "metadata": {
      "tags": []
     },
     "output_type": "execute_result"
    }
   ],
   "source": [
    "sp.EncodeAsPieces(\"Ça suffit !\")"
   ]
  },
  {
   "cell_type": "code",
   "execution_count": 0,
   "metadata": {
    "colab": {
     "base_uri": "https://localhost:8080/",
     "height": 35
    },
    "colab_type": "code",
    "id": "1YPzX-dbWFKQ",
    "outputId": "16c27b43-1e5d-4091-de10-23c56f97bba8"
   },
   "outputs": [
    {
     "data": {
      "text/plain": [
       "[669, 4, 355, 86, 8, 7, 52, 669, 6]"
      ]
     },
     "execution_count": 15,
     "metadata": {
      "tags": []
     },
     "output_type": "execute_result"
    }
   ],
   "source": [
    "z = sp.encode_as_ids('<2fra> This is a test <EOS>')\n",
    "z"
   ]
  },
  {
   "cell_type": "code",
   "execution_count": 0,
   "metadata": {
    "colab": {
     "base_uri": "https://localhost:8080/",
     "height": 35
    },
    "colab_type": "code",
    "id": "I30jrSc5WLbb",
    "outputId": "f3d079ae-6f90-43dd-c814-43ca8c5de989"
   },
   "outputs": [
    {
     "data": {
      "text/plain": [
       "'<2fra> This is a test <EOS>'"
      ]
     },
     "execution_count": 16,
     "metadata": {
      "tags": []
     },
     "output_type": "execute_result"
    }
   ],
   "source": [
    "sp.decode_ids(z)"
   ]
  },
  {
   "cell_type": "markdown",
   "metadata": {
    "colab_type": "text",
    "id": "TFZTFhy8Ssx-"
   },
   "source": [
    "#### Preprocessing with the dataset"
   ]
  },
  {
   "cell_type": "markdown",
   "metadata": {
    "colab_type": "text",
    "id": "qYKJ6wWZXyPl"
   },
   "source": [
    "The data is first loaded and the word pairs are cleanly separated. The target translation tag and end of sentence tags are added to each word. The words are then tokenized using the word piece model and downsampled. The datasets are combined and split into training and testing data sets."
   ]
  },
  {
   "cell_type": "code",
   "execution_count": 0,
   "metadata": {
    "colab": {},
    "colab_type": "code",
    "collapsed": true,
    "id": "NUnfDScg_xfN"
   },
   "outputs": [],
   "source": [
    "def read_text(filename):\n",
    "        # open the file\n",
    "        file = open(filename, mode='rt', encoding='utf-8')\n",
    "        \n",
    "        # read all text and clean up tab delimination into list\n",
    "        text = file.read().strip().split('\\n')\n",
    "        file.close()\n",
    "        cleaned_text = [i.split('\\t') for i in text]\n",
    "        return cleaned_text"
   ]
  },
  {
   "cell_type": "code",
   "execution_count": 0,
   "metadata": {
    "colab": {},
    "colab_type": "code",
    "collapsed": true,
    "id": "0-XM-og0AL1u"
   },
   "outputs": [],
   "source": [
    "# Get cleaned corpus\n",
    "spa_en = read_text(\"spa-eng/spa.txt\")\n",
    "fra_en = read_text(\"fra-eng/fra.txt\")"
   ]
  },
  {
   "cell_type": "code",
   "execution_count": 0,
   "metadata": {
    "colab": {},
    "colab_type": "code",
    "collapsed": true,
    "id": "38ZDDw5RCEjL"
   },
   "outputs": [],
   "source": [
    "# Add in the special characters for translation directions\n",
    "spa_en = [['<2spa> ' + x[0] + ' <EOS>', '<2en> ' + x[1] + ' <EOS>'] for x in spa_en]\n",
    "fra_en = [['<2fra> ' + x[0] + ' <EOS>', '<2en> ' + x[1] + ' <EOS>'] for x in fra_en]"
   ]
  },
  {
   "cell_type": "code",
   "execution_count": 0,
   "metadata": {
    "colab": {
     "base_uri": "https://localhost:8080/",
     "height": 35
    },
    "colab_type": "code",
    "id": "0lykQlSNEwFK",
    "outputId": "337dc774-ded5-4ca7-cfcc-4cc2f023082b"
   },
   "outputs": [
    {
     "data": {
      "text/plain": [
       "['<2spa> Go. <EOS>', '<2en> Ve. <EOS>']"
      ]
     },
     "execution_count": 20,
     "metadata": {
      "tags": []
     },
     "output_type": "execute_result"
    }
   ],
   "source": [
    "spa_en[0]"
   ]
  },
  {
   "cell_type": "code",
   "execution_count": 0,
   "metadata": {
    "colab": {
     "base_uri": "https://localhost:8080/",
     "height": 356
    },
    "colab_type": "code",
    "id": "Al0ocrSQAXUJ",
    "outputId": "d1e58800-149a-426f-81d3-e1bb0b3b7b21"
   },
   "outputs": [
    {
     "data": {
      "text/plain": [
       "[Text(0, 0.5, 'Number of Language Pairs'),\n",
       " Text(0.5, 0, 'Language pair'),\n",
       " Text(0.5, 1.0, 'Difference between number of language pairs')]"
      ]
     },
     "execution_count": 21,
     "metadata": {
      "tags": []
     },
     "output_type": "execute_result"
    },
    {
     "data": {
      "image/png": "[encoded data removed]",
      "text/plain": [
       "<Figure size 432x288 with 1 Axes>"
      ]
     },
     "metadata": {
      "tags": []
     },
     "output_type": "display_data"
    }
   ],
   "source": [
    "# Look at the number of language pairs\n",
    "sns.set(style=\"whitegrid\")\n",
    "g = sns.barplot(['Spanish-English', 'French to English'], [len(spa_en), len(fra_en)])\n",
    "g.set(xlabel='Language pair', ylabel='Number of Language Pairs', title = \"Difference between number of language pairs\")"
   ]
  },
  {
   "cell_type": "markdown",
   "metadata": {
    "colab_type": "text",
    "id": "oWSdNvEMEHtf"
   },
   "source": [
    "As both datasets are unbalanced, both samples will actually be downsampled down to the target number to balance the datasets and in order to trim down computation time"
   ]
  },
  {
   "cell_type": "code",
   "execution_count": 0,
   "metadata": {
    "colab": {},
    "colab_type": "code",
    "collapsed": true,
    "id": "9Vxtwg4prd_s"
   },
   "outputs": [],
   "source": [
    "#Trim down maximum\n",
    "num_sentences = 30000\n",
    "shuffle(spa_en)\n",
    "spa_en = spa_en[:num_sentences]\n",
    "shuffle(fra_en)\n",
    "fra_en = fra_en[:num_sentences]"
   ]
  },
  {
   "cell_type": "code",
   "execution_count": 0,
   "metadata": {
    "colab": {
     "base_uri": "https://localhost:8080/",
     "height": 35
    },
    "colab_type": "code",
    "id": "5hiSB2eAsnRf",
    "outputId": "101fe584-cf6a-4a86-db04-a0d0695099ff"
   },
   "outputs": [
    {
     "data": {
      "text/plain": [
       "(30000, 30000)"
      ]
     },
     "execution_count": 23,
     "metadata": {
      "tags": []
     },
     "output_type": "execute_result"
    }
   ],
   "source": [
    "len(spa_en), len(fra_en)"
   ]
  },
  {
   "cell_type": "code",
   "execution_count": 0,
   "metadata": {
    "colab": {},
    "colab_type": "code",
    "collapsed": true,
    "id": "mEFLOBcIByik"
   },
   "outputs": [],
   "source": [
    "# Tokenize model with wordpiece model version\n",
    "en_only_spa_wp = [sp.encode_as_ids(i[0]) for i in spa_en]\n",
    "spa_only_en_wp = [sp.encode_as_ids(i[1]) for i in spa_en]\n",
    "en_only_fra_wp = [sp.encode_as_ids(i[0]) for i in fra_en]\n",
    "fra_only_en_wp = [sp.encode_as_ids(i[1]) for i in fra_en]\n"
   ]
  },
  {
   "cell_type": "code",
   "execution_count": 0,
   "metadata": {
    "colab": {},
    "colab_type": "code",
    "collapsed": true,
    "id": "Frdy6RuDbUgA"
   },
   "outputs": [],
   "source": [
    "# Ensure that there are up to 1000 wordmaps from tokenizer\n",
    "encoder_vocab = set()\n",
    "for i in spa_only_en_wp:\n",
    "  for z in i:\n",
    "    encoder_vocab.add(z)\n",
    "    \n",
    "for i in en_only_fra_wp:\n",
    "  for z in i:\n",
    "    encoder_vocab.add(z)\n",
    "    \n",
    "encoder_vocab_size = len(encoder_vocab) + 1\n",
    "\n",
    "decoder_vocab = set()\n",
    "for i in en_only_spa_wp:\n",
    "  for z in i:\n",
    "    decoder_vocab.add(z)\n",
    "    \n",
    "for i in fra_only_en_wp:\n",
    "  for z in i:\n",
    "    decoder_vocab.add(z)\n",
    "    \n",
    "decoder_vocab_size = len(decoder_vocab) + 1"
   ]
  },
  {
   "cell_type": "code",
   "execution_count": 0,
   "metadata": {
    "colab": {
     "base_uri": "https://localhost:8080/",
     "height": 54
    },
    "colab_type": "code",
    "id": "Z4RRTylnc4j9",
    "outputId": "9343a5f3-0418-429e-f628-d04946eead64"
   },
   "outputs": [
    {
     "name": "stdout",
     "output_type": "stream",
     "text": [
      "Encoder vocab size: 691\n",
      "Decoder vocab size: 724\n"
     ]
    }
   ],
   "source": [
    "print(\"Encoder vocab size: \" + str(encoder_vocab_size))\n",
    "print(\"Decoder vocab size: \" + str(decoder_vocab_size))"
   ]
  },
  {
   "cell_type": "code",
   "execution_count": 0,
   "metadata": {
    "colab": {
     "base_uri": "https://localhost:8080/",
     "height": 319
    },
    "colab_type": "code",
    "id": "1mkrzSrQE_MD",
    "outputId": "e69b4eef-6bd3-4a31-866e-e80157966737"
   },
   "outputs": [
    {
     "data": {
      "text/plain": [
       "<matplotlib.axes._subplots.AxesSubplot at 0x7f64360538d0>"
      ]
     },
     "execution_count": 27,
     "metadata": {
      "tags": []
     },
     "output_type": "execute_result"
    },
    {
     "data": {
      "image/png": "[encoded data removed]",
      "text/plain": [
       "<Figure size 432x288 with 1 Axes>"
      ]
     },
     "metadata": {
      "tags": []
     },
     "output_type": "display_data"
    }
   ],
   "source": [
    "# Check the length of the longest of each dataset\n",
    "en_only_spa_length = [len(i) for i in en_only_spa_wp]\n",
    "spa_only_en_length = [len(i) for i in spa_only_en_wp]\n",
    "en_only_fra_length = [len(i) for i in en_only_fra_wp]\n",
    "fra_only_en_length = [len(i) for i in fra_only_en_wp]\n",
    "\n",
    "g = sns.distplot(en_only_spa_length, kde=False, rug=True, label = 'English (Spanish) Length')\n",
    "g = sns.distplot(spa_only_en_length, kde=False, rug=True, label = 'Spanish (Spanish) Length')\n",
    "g = sns.distplot(en_only_fra_length, kde=False, rug=True, label = 'English (French) Length')\n",
    "g = sns.distplot(fra_only_en_length, kde=False, rug=True, label = 'Frence (French) Length')\n",
    "g.set_title(\"Histogram of Length of Wordpiece models\")\n",
    "g.set_xlabel(\"Length\")\n",
    "g.set_ylabel(\"Counts\")\n",
    "g.legend()\n",
    "g"
   ]
  },
  {
   "cell_type": "code",
   "execution_count": 0,
   "metadata": {
    "colab": {
     "base_uri": "https://localhost:8080/",
     "height": 35
    },
    "colab_type": "code",
    "id": "h3G-GbGdI-RA",
    "outputId": "f4c929d5-f2a4-4663-c5c6-606f571116b5"
   },
   "outputs": [
    {
     "data": {
      "text/plain": [
       "121"
      ]
     },
     "execution_count": 28,
     "metadata": {
      "tags": []
     },
     "output_type": "execute_result"
    }
   ],
   "source": [
    "max_length = max(max(en_only_spa_length), max(spa_only_en_length), max(en_only_fra_length), max(fra_only_en_length))\n",
    "max_length"
   ]
  },
  {
   "cell_type": "markdown",
   "metadata": {
    "colab_type": "text",
    "id": "ouNo2ovKJMDI"
   },
   "source": [
    "Most of the word pieces hover about 15 chunks but the maximum number of chunks is 140 so padding is needed to equalize the length."
   ]
  },
  {
   "cell_type": "code",
   "execution_count": 0,
   "metadata": {
    "colab": {},
    "colab_type": "code",
    "collapsed": true,
    "id": "0cCUq81eE9T9"
   },
   "outputs": [],
   "source": [
    "# Combine datasets\n",
    "data = spa_only_en_wp + en_only_fra_wp\n",
    "targets = en_only_spa_wp + fra_only_en_wp"
   ]
  },
  {
   "cell_type": "code",
   "execution_count": 0,
   "metadata": {
    "colab": {},
    "colab_type": "code",
    "collapsed": true,
    "id": "PYmV693fFGNk"
   },
   "outputs": [],
   "source": [
    "# Pad length to max len\n",
    "data = pad_sequences(data,maxlen = max_length, padding='post')\n",
    "targets = pad_sequences(targets,maxlen = max_length, padding='post')"
   ]
  },
  {
   "cell_type": "code",
   "execution_count": 0,
   "metadata": {
    "colab": {},
    "colab_type": "code",
    "collapsed": true,
    "id": "rCjHh8UWZ56U"
   },
   "outputs": [],
   "source": [
    "# Define max length of encoder / decoder, should be the same because of padding\n",
    "max_encoder_seq_length = max([len(text) for text in data])\n",
    "max_decoder_seq_length = max([len(text) for text in targets])"
   ]
  },
  {
   "cell_type": "code",
   "execution_count": 0,
   "metadata": {
    "colab": {
     "base_uri": "https://localhost:8080/",
     "height": 35
    },
    "colab_type": "code",
    "id": "z3ri3PVcY1ou",
    "outputId": "852a0eb4-7ba7-434a-dfed-6b6872d485a4"
   },
   "outputs": [
    {
     "data": {
      "text/plain": [
       "(121, 121)"
      ]
     },
     "execution_count": 32,
     "metadata": {
      "tags": []
     },
     "output_type": "execute_result"
    }
   ],
   "source": [
    "max_encoder_seq_length, max_decoder_seq_length"
   ]
  },
  {
   "cell_type": "code",
   "execution_count": 0,
   "metadata": {
    "colab": {
     "base_uri": "https://localhost:8080/",
     "height": 35
    },
    "colab_type": "code",
    "id": "13Mr34svFHhD",
    "outputId": "4b52b3bd-fc36-4ec1-eee5-eeedd1944891"
   },
   "outputs": [
    {
     "data": {
      "text/plain": [
       "(48000, 12000, 48000, 12000)"
      ]
     },
     "execution_count": 33,
     "metadata": {
      "tags": []
     },
     "output_type": "execute_result"
    }
   ],
   "source": [
    "# Prepare training and test data\n",
    "train_x, test_x, train_y, test_y = train_test_split(data, targets, test_size=0.2, random_state = 1)\n",
    "len(train_x), len(test_x), len(train_y), len(test_y)"
   ]
  },
  {
   "cell_type": "code",
   "execution_count": 0,
   "metadata": {
    "colab": {
     "base_uri": "https://localhost:8080/",
     "height": 35
    },
    "colab_type": "code",
    "id": "aGCVOUyPi1Sh",
    "outputId": "3ad5f358-e5ec-4c14-f8b7-223b3a5ea0c9"
   },
   "outputs": [
    {
     "data": {
      "text/plain": [
       "((48000, 121), (12000, 121))"
      ]
     },
     "execution_count": 34,
     "metadata": {
      "tags": []
     },
     "output_type": "execute_result"
    }
   ],
   "source": [
    "# Inputs (sample_numbers, max sequence length)\n",
    "train_x.shape, test_x.shape"
   ]
  },
  {
   "cell_type": "markdown",
   "metadata": {
    "colab_type": "text",
    "id": "sT-l3T_XIwPA"
   },
   "source": [
    "### Training\n",
    "\n"
   ]
  },
  {
   "cell_type": "code",
   "execution_count": 0,
   "metadata": {
    "colab": {},
    "colab_type": "code",
    "collapsed": true,
    "id": "NGKbsWXFLh_F"
   },
   "outputs": [],
   "source": [
    "batch_size = 128\n",
    "num_epochs = 10\n",
    "latent_dim = 512"
   ]
  },
  {
   "cell_type": "code",
   "execution_count": 0,
   "metadata": {
    "colab": {},
    "colab_type": "code",
    "collapsed": true,
    "id": "KjizYpczhCwU"
   },
   "outputs": [],
   "source": [
    "num_decoder_tokens = decoder_vocab_size\n",
    "num_encoder_tokens = encoder_vocab_size\n"
   ]
  },
  {
   "cell_type": "code",
   "execution_count": 0,
   "metadata": {
    "colab": {},
    "colab_type": "code",
    "collapsed": true,
    "id": "JykrfONOaDUw"
   },
   "outputs": [],
   "source": [
    "# build NMT model\n",
    "def define_model(in_vocab,out_vocab, in_timesteps,out_timesteps,units):\n",
    "      model = Sequential()\n",
    "      model.add(Embedding(in_vocab, units, input_length=in_timesteps, mask_zero=True))\n",
    "      model.add(Bidirectional(LSTM(units, dropout = 0.2, recurrent_dropout = 0.2, return_sequences = True)))\n",
    "      model.add(LSTM(int(units/2), dropout = 0.2, recurrent_dropout = 0.2, return_sequences = True))\n",
    "      model.add(LSTM(int(units/4), dropout = 0.2, recurrent_dropout = 0.2, return_sequences = True))\n",
    "      model.add(LSTM(int(units/8), dropout = 0.2, recurrent_dropout = 0.2))\n",
    "      model.add(RepeatVector(out_timesteps))\n",
    "      model.add(LSTM(int(units/8), dropout = 0.2, recurrent_dropout = 0.2, return_sequences = True))\n",
    "      model.add(LSTM(int(units/4), dropout = 0.2, recurrent_dropout = 0.2, return_sequences = True))\n",
    "      model.add(LSTM(int(units/2), return_sequences=True, dropout = 0.2, recurrent_dropout = 0.2))\n",
    "      model.add(LSTM(units, return_sequences=True, dropout = 0.2, recurrent_dropout = 0.2))\n",
    "      model.add(Dense(out_vocab, activation='softmax'))\n",
    "      return model"
   ]
  },
  {
   "cell_type": "code",
   "execution_count": 0,
   "metadata": {
    "colab": {
     "base_uri": "https://localhost:8080/",
     "height": 147
    },
    "colab_type": "code",
    "id": "Z6_-yRTfaFhK",
    "outputId": "90847889-d511-4ca4-9ca6-2f0e0b03ae3b"
   },
   "outputs": [
    {
     "name": "stdout",
     "output_type": "stream",
     "text": [
      "WARNING:tensorflow:From /usr/local/lib/python3.6/dist-packages/tensorflow/python/framework/op_def_library.py:263: colocate_with (from tensorflow.python.framework.ops) is deprecated and will be removed in a future version.\n",
      "Instructions for updating:\n",
      "Colocations handled automatically by placer.\n",
      "WARNING:tensorflow:From /usr/local/lib/python3.6/dist-packages/keras/backend/tensorflow_backend.py:3721: calling dropout (from tensorflow.python.ops.nn_ops) with keep_prob is deprecated and will be removed in a future version.\n",
      "Instructions for updating:\n",
      "Please use `rate` instead of `keep_prob`. Rate should be set to `rate = 1 - keep_prob`.\n"
     ]
    }
   ],
   "source": [
    "# model compilation\n",
    "# Endoder/Decoder size defined by vocab size in sentencepiece earlier\n",
    "# Encoder/Decoder sequence lengths are the same because of padding\n",
    "model = define_model(vocab_size, vocab_size, max_encoder_seq_length, max_decoder_seq_length, latent_dim)"
   ]
  },
  {
   "cell_type": "code",
   "execution_count": 0,
   "metadata": {
    "colab": {
     "base_uri": "https://localhost:8080/",
     "height": 568
    },
    "colab_type": "code",
    "id": "s0HK6iFQZZvk",
    "outputId": "891dd8a9-80fd-479e-b29e-1033b3a41c61"
   },
   "outputs": [
    {
     "name": "stdout",
     "output_type": "stream",
     "text": [
      "Model: \"sequential_1\"\n",
      "_________________________________________________________________\n",
      "Layer (type)                 Output Shape              Param #   \n",
      "=================================================================\n",
      "embedding_1 (Embedding)      (None, 121, 512)          384000    \n",
      "_________________________________________________________________\n",
      "bidirectional_1 (Bidirection (None, 121, 1024)         4198400   \n",
      "_________________________________________________________________\n",
      "lstm_2 (LSTM)                (None, 121, 256)          1311744   \n",
      "_________________________________________________________________\n",
      "lstm_3 (LSTM)                (None, 121, 128)          197120    \n",
      "_________________________________________________________________\n",
      "lstm_4 (LSTM)                (None, 64)                49408     \n",
      "_________________________________________________________________\n",
      "repeat_vector_1 (RepeatVecto (None, 121, 64)           0         \n",
      "_________________________________________________________________\n",
      "lstm_5 (LSTM)                (None, 121, 64)           33024     \n",
      "_________________________________________________________________\n",
      "lstm_6 (LSTM)                (None, 121, 128)          98816     \n",
      "_________________________________________________________________\n",
      "lstm_7 (LSTM)                (None, 121, 256)          394240    \n",
      "_________________________________________________________________\n",
      "lstm_8 (LSTM)                (None, 121, 512)          1574912   \n",
      "_________________________________________________________________\n",
      "dense_1 (Dense)              (None, 121, 750)          384750    \n",
      "=================================================================\n",
      "Total params: 8,626,414\n",
      "Trainable params: 8,626,414\n",
      "Non-trainable params: 0\n",
      "_________________________________________________________________\n"
     ]
    }
   ],
   "source": [
    "adam = optimizers.Adam(lr = 1E-4)\n",
    "model.compile(loss='sparse_categorical_crossentropy', optimizer= adam, metrics=[metrics.sparse_categorical_accuracy]) # Bug in Keras with reshaping in older version\n",
    "#model.compile(loss='sparse_categorical_crossentropy', optimizer= adam)\n",
    "\n",
    "model.summary()"
   ]
  },
  {
   "cell_type": "code",
   "execution_count": 0,
   "metadata": {
    "colab": {
     "base_uri": "https://localhost:8080/",
     "height": 955
    },
    "colab_type": "code",
    "id": "lhwqFHDzg1jH",
    "outputId": "5940382b-d6be-4e27-f763-dab3eeab07d5"
   },
   "outputs": [
    {
     "name": "stdout",
     "output_type": "stream",
     "text": [
      "WARNING:tensorflow:From /usr/local/lib/python3.6/dist-packages/tensorflow/python/ops/math_ops.py:3066: to_int32 (from tensorflow.python.ops.math_ops) is deprecated and will be removed in a future version.\n",
      "Instructions for updating:\n",
      "Use tf.cast instead.\n",
      "WARNING:tensorflow:From /usr/local/lib/python3.6/dist-packages/tensorflow/python/ops/math_grad.py:102: div (from tensorflow.python.ops.math_ops) is deprecated and will be removed in a future version.\n",
      "Instructions for updating:\n",
      "Deprecated in favor of operator or tf.math.divide.\n",
      "Train on 48000 samples, validate on 12000 samples\n",
      "Epoch 1/10\n",
      "48000/48000 [==============================] - 859s 18ms/step - loss: 1.3158 - sparse_categorical_accuracy: 0.8511 - val_loss: 0.9034 - val_sparse_categorical_accuracy: 0.8583\n",
      "\n",
      "Epoch 00001: val_loss improved from inf to 0.90342, saving model to model5\n",
      "Epoch 2/10\n",
      "48000/48000 [==============================] - 848s 18ms/step - loss: 0.8983 - sparse_categorical_accuracy: 0.8553 - val_loss: 0.8743 - val_sparse_categorical_accuracy: 0.8528\n",
      "\n",
      "Epoch 00002: val_loss improved from 0.90342 to 0.87430, saving model to model5\n",
      "Epoch 3/10\n",
      "48000/48000 [==============================] - 840s 18ms/step - loss: 0.8712 - sparse_categorical_accuracy: 0.8536 - val_loss: 0.8505 - val_sparse_categorical_accuracy: 0.8577\n",
      "\n",
      "Epoch 00003: val_loss improved from 0.87430 to 0.85053, saving model to model5\n",
      "Epoch 4/10\n",
      "48000/48000 [==============================] - 845s 18ms/step - loss: 0.8375 - sparse_categorical_accuracy: 0.8568 - val_loss: 0.8069 - val_sparse_categorical_accuracy: 0.8573\n",
      "\n",
      "Epoch 00004: val_loss improved from 0.85053 to 0.80689, saving model to model5\n",
      "Epoch 5/10\n",
      "48000/48000 [==============================] - 842s 18ms/step - loss: 0.7878 - sparse_categorical_accuracy: 0.8578 - val_loss: 0.7728 - val_sparse_categorical_accuracy: 0.8589\n",
      "\n",
      "Epoch 00005: val_loss improved from 0.80689 to 0.77283, saving model to model5\n",
      "Epoch 6/10\n",
      "48000/48000 [==============================] - 840s 18ms/step - loss: 0.7551 - sparse_categorical_accuracy: 0.8611 - val_loss: 0.7334 - val_sparse_categorical_accuracy: 0.8688\n",
      "\n",
      "Epoch 00006: val_loss improved from 0.77283 to 0.73338, saving model to model5\n",
      "WARNING:tensorflow:From /usr/local/lib/python3.6/dist-packages/tensorflow/python/training/saver.py:966: remove_checkpoint (from tensorflow.python.training.checkpoint_management) is deprecated and will be removed in a future version.\n",
      "Instructions for updating:\n",
      "Use standard file APIs to delete files with this prefix.\n",
      "Epoch 7/10\n",
      "48000/48000 [==============================] - 843s 18ms/step - loss: 0.7311 - sparse_categorical_accuracy: 0.8677 - val_loss: 0.7178 - val_sparse_categorical_accuracy: 0.8690\n",
      "\n",
      "Epoch 00007: val_loss improved from 0.73338 to 0.71781, saving model to model5\n",
      "Epoch 8/10\n",
      "48000/48000 [==============================] - 838s 17ms/step - loss: 0.7236 - sparse_categorical_accuracy: 0.8681 - val_loss: 0.7209 - val_sparse_categorical_accuracy: 0.8690\n",
      "\n",
      "Epoch 00008: val_loss did not improve from 0.71781\n",
      "Epoch 9/10\n",
      "48000/48000 [==============================] - 838s 17ms/step - loss: 0.7199 - sparse_categorical_accuracy: 0.8684 - val_loss: 0.7170 - val_sparse_categorical_accuracy: 0.8691\n",
      "\n",
      "Epoch 00009: val_loss improved from 0.71781 to 0.71699, saving model to model5\n",
      "Epoch 10/10\n",
      "48000/48000 [==============================] - 843s 18ms/step - loss: 0.7174 - sparse_categorical_accuracy: 0.8686 - val_loss: 0.7100 - val_sparse_categorical_accuracy: 0.8695\n",
      "\n",
      "Epoch 00010: val_loss improved from 0.71699 to 0.71003, saving model to model5\n"
     ]
    }
   ],
   "source": [
    "# Save checkpoints and tensorboard\n",
    "filename = 'model5'\n",
    "callbacks = [ModelCheckpoint(filename, monitor='val_loss', verbose=1, save_best_only=True, mode='min'),\n",
    "            keras.callbacks.TensorBoard(log_dir = 'my_log_dir', histogram_freq = 1, embeddings_freq = 1, embeddings_data = train_y[1:100,])]\n",
    "\n",
    "#checkpoint = ModelCheckpoint(filename, monitor='val_loss', verbose=1, save_best_only=True, mode='min')\n",
    "\n",
    "# Train model\n",
    "history = model.fit(train_x, train_y.reshape(train_y.shape[0], train_y.shape[1],1),\n",
    "                    epochs=num_epochs, batch_size=batch_size, validation_split = 0.2,\n",
    "                    callbacks=callbacks,\n",
    "                    validation_data = (test_x, test_y.reshape(test_y.shape[0], test_y.shape[1],1)),\n",
    "                    verbose=1)"
   ]
  },
  {
   "cell_type": "code",
   "execution_count": 0,
   "metadata": {
    "colab": {
     "base_uri": "https://localhost:8080/",
     "height": 403
    },
    "colab_type": "code",
    "id": "xWPsVILGmR9d",
    "outputId": "a301d17f-fd76-4a58-9258-1bd42883de15"
   },
   "outputs": [
    {
     "name": "stdout",
     "output_type": "stream",
     "text": [
      "updating: my_log_dir/ (stored 0%)\n",
      "  adding: my_log_dir/keras_embedding.ckpt-5.index (deflated 36%)\n",
      "  adding: my_log_dir/keras_embedding.ckpt-8.meta (deflated 25%)\n",
      "  adding: my_log_dir/keras_embedding.ckpt-7.index (deflated 36%)\n",
      "  adding: my_log_dir/events.out.tfevents.1557710488.03dd2ac60c7f (deflated 80%)\n",
      "  adding: my_log_dir/keras_embedding.ckpt-6.index (deflated 36%)\n",
      "  adding: my_log_dir/keras_embedding.ckpt-9.data-00000-of-00001 (deflated 86%)\n",
      "  adding: my_log_dir/keras_embedding.ckpt-9.index (deflated 37%)\n",
      "  adding: my_log_dir/keras_embedding.ckpt-7.meta (deflated 25%)\n",
      "  adding: my_log_dir/keras_embedding.ckpt-5.data-00000-of-00001 (deflated 86%)\n",
      "  adding: my_log_dir/keras_embedding.ckpt-6.data-00000-of-00001 (deflated 86%)\n",
      "  adding: my_log_dir/events.out.tfevents.1557709004.03dd2ac60c7f (deflated 25%)\n",
      "  adding: my_log_dir/keras_embedding.ckpt-8.index (deflated 37%)\n",
      "  adding: my_log_dir/events.out.tfevents.1557709031.03dd2ac60c7f (deflated 25%)\n",
      "  adding: my_log_dir/events.out.tfevents.1557709184.03dd2ac60c7f (deflated 25%)\n",
      "  adding: my_log_dir/keras_embedding.ckpt-8.data-00000-of-00001 (deflated 86%)\n",
      "  adding: my_log_dir/keras_embedding.ckpt-9.meta (deflated 25%)\n",
      "  adding: my_log_dir/keras_embedding.ckpt-7.data-00000-of-00001 (deflated 86%)\n",
      "  adding: my_log_dir/keras_embedding.ckpt-5.meta (deflated 25%)\n",
      "  adding: my_log_dir/events.out.tfevents.1557707645.03dd2ac60c7f (deflated 25%)\n",
      "  adding: my_log_dir/checkpoint (deflated 76%)\n",
      "  adding: my_log_dir/projector_config.pbtxt (deflated 21%)\n",
      "  adding: my_log_dir/keras_embedding.ckpt-6.meta (deflated 25%)\n"
     ]
    }
   ],
   "source": [
    "!zip -r tensorboard.zip my_log_dir"
   ]
  },
  {
   "cell_type": "code",
   "execution_count": 0,
   "metadata": {
    "colab": {
     "base_uri": "https://localhost:8080/",
     "height": 343
    },
    "colab_type": "code",
    "id": "kODpTNYYuEhx",
    "outputId": "bffb93c6-ef3a-4734-8fe2-9d795c5f3d98"
   },
   "outputs": [
    {
     "ename": "MessageError",
     "evalue": "ignored",
     "output_type": "error",
     "traceback": [
      "\u001b[0;31m---------------------------------------------------------------------------\u001b[0m",
      "\u001b[0;31mMessageError\u001b[0m                              Traceback (most recent call last)",
      "\u001b[0;32m<ipython-input-43-cf8f57c6d1cc>\u001b[0m in \u001b[0;36m<module>\u001b[0;34m()\u001b[0m\n\u001b[1;32m      1\u001b[0m \u001b[0;32mfrom\u001b[0m \u001b[0mgoogle\u001b[0m\u001b[0;34m.\u001b[0m\u001b[0mcolab\u001b[0m \u001b[0;32mimport\u001b[0m \u001b[0mfiles\u001b[0m\u001b[0;34m\u001b[0m\u001b[0;34m\u001b[0m\u001b[0m\n\u001b[0;32m----> 2\u001b[0;31m \u001b[0mfiles\u001b[0m\u001b[0;34m.\u001b[0m\u001b[0mdownload\u001b[0m\u001b[0;34m(\u001b[0m\u001b[0;34m'model4'\u001b[0m\u001b[0;34m)\u001b[0m\u001b[0;34m\u001b[0m\u001b[0;34m\u001b[0m\u001b[0m\n\u001b[0m",
      "\u001b[0;32m/usr/local/lib/python3.6/dist-packages/google/colab/files.py\u001b[0m in \u001b[0;36mdownload\u001b[0;34m(filename)\u001b[0m\n\u001b[1;32m    176\u001b[0m       \u001b[0;34m'port'\u001b[0m\u001b[0;34m:\u001b[0m \u001b[0mport\u001b[0m\u001b[0;34m,\u001b[0m\u001b[0;34m\u001b[0m\u001b[0;34m\u001b[0m\u001b[0m\n\u001b[1;32m    177\u001b[0m       \u001b[0;34m'path'\u001b[0m\u001b[0;34m:\u001b[0m \u001b[0m_os\u001b[0m\u001b[0;34m.\u001b[0m\u001b[0mpath\u001b[0m\u001b[0;34m.\u001b[0m\u001b[0mabspath\u001b[0m\u001b[0;34m(\u001b[0m\u001b[0mfilename\u001b[0m\u001b[0;34m)\u001b[0m\u001b[0;34m,\u001b[0m\u001b[0;34m\u001b[0m\u001b[0;34m\u001b[0m\u001b[0m\n\u001b[0;32m--> 178\u001b[0;31m       \u001b[0;34m'name'\u001b[0m\u001b[0;34m:\u001b[0m \u001b[0m_os\u001b[0m\u001b[0;34m.\u001b[0m\u001b[0mpath\u001b[0m\u001b[0;34m.\u001b[0m\u001b[0mbasename\u001b[0m\u001b[0;34m(\u001b[0m\u001b[0mfilename\u001b[0m\u001b[0;34m)\u001b[0m\u001b[0;34m,\u001b[0m\u001b[0;34m\u001b[0m\u001b[0;34m\u001b[0m\u001b[0m\n\u001b[0m\u001b[1;32m    179\u001b[0m   })\n",
      "\u001b[0;32m/usr/local/lib/python3.6/dist-packages/google/colab/output/_js.py\u001b[0m in \u001b[0;36meval_js\u001b[0;34m(script, ignore_result)\u001b[0m\n\u001b[1;32m     37\u001b[0m   \u001b[0;32mif\u001b[0m \u001b[0mignore_result\u001b[0m\u001b[0;34m:\u001b[0m\u001b[0;34m\u001b[0m\u001b[0;34m\u001b[0m\u001b[0m\n\u001b[1;32m     38\u001b[0m     \u001b[0;32mreturn\u001b[0m\u001b[0;34m\u001b[0m\u001b[0;34m\u001b[0m\u001b[0m\n\u001b[0;32m---> 39\u001b[0;31m   \u001b[0;32mreturn\u001b[0m \u001b[0m_message\u001b[0m\u001b[0;34m.\u001b[0m\u001b[0mread_reply_from_input\u001b[0m\u001b[0;34m(\u001b[0m\u001b[0mrequest_id\u001b[0m\u001b[0;34m)\u001b[0m\u001b[0;34m\u001b[0m\u001b[0;34m\u001b[0m\u001b[0m\n\u001b[0m\u001b[1;32m     40\u001b[0m \u001b[0;34m\u001b[0m\u001b[0m\n\u001b[1;32m     41\u001b[0m \u001b[0;34m\u001b[0m\u001b[0m\n",
      "\u001b[0;32m/usr/local/lib/python3.6/dist-packages/google/colab/_message.py\u001b[0m in \u001b[0;36mread_reply_from_input\u001b[0;34m(message_id, timeout_sec)\u001b[0m\n\u001b[1;32m    104\u001b[0m         reply.get('colab_msg_id') == message_id):\n\u001b[1;32m    105\u001b[0m       \u001b[0;32mif\u001b[0m \u001b[0;34m'error'\u001b[0m \u001b[0;32min\u001b[0m \u001b[0mreply\u001b[0m\u001b[0;34m:\u001b[0m\u001b[0;34m\u001b[0m\u001b[0;34m\u001b[0m\u001b[0m\n\u001b[0;32m--> 106\u001b[0;31m         \u001b[0;32mraise\u001b[0m \u001b[0mMessageError\u001b[0m\u001b[0;34m(\u001b[0m\u001b[0mreply\u001b[0m\u001b[0;34m[\u001b[0m\u001b[0;34m'error'\u001b[0m\u001b[0;34m]\u001b[0m\u001b[0;34m)\u001b[0m\u001b[0;34m\u001b[0m\u001b[0;34m\u001b[0m\u001b[0m\n\u001b[0m\u001b[1;32m    107\u001b[0m       \u001b[0;32mreturn\u001b[0m \u001b[0mreply\u001b[0m\u001b[0;34m.\u001b[0m\u001b[0mget\u001b[0m\u001b[0;34m(\u001b[0m\u001b[0;34m'data'\u001b[0m\u001b[0;34m,\u001b[0m \u001b[0;32mNone\u001b[0m\u001b[0;34m)\u001b[0m\u001b[0;34m\u001b[0m\u001b[0;34m\u001b[0m\u001b[0m\n\u001b[1;32m    108\u001b[0m \u001b[0;34m\u001b[0m\u001b[0m\n",
      "\u001b[0;31mMessageError\u001b[0m: TypeError: NetworkError when attempting to fetch resource."
     ]
    }
   ],
   "source": [
    "# Save model permanently to on prem local(Google Colab)\n",
    "from google.colab import files\n",
    "files.download('model5')\n",
    "files.download('tensorboard.zip')"
   ]
  },
  {
   "cell_type": "code",
   "execution_count": 0,
   "metadata": {
    "colab": {
     "base_uri": "https://localhost:8080/",
     "height": 585
    },
    "colab_type": "code",
    "id": "dLfxjMNEujJB",
    "outputId": "a5a3b2cb-a043-4221-9057-72bfb0d374be"
   },
   "outputs": [
    {
     "data": {
      "image/png": "[encoded data removed]",
      "text/plain": [
       "<Figure size 432x288 with 1 Axes>"
      ]
     },
     "metadata": {
      "tags": []
     },
     "output_type": "display_data"
    },
    {
     "data": {
      "image/png": "[encoded data removed]",
      "text/plain": [
       "<Figure size 432x288 with 1 Axes>"
      ]
     },
     "metadata": {
      "tags": []
     },
     "output_type": "display_data"
    }
   ],
   "source": [
    "# Plot accuracy & validation accuracy values\n",
    "plt.plot(history.history['sparse_categorical_accuracy'])\n",
    "plt.plot(history.history['val_sparse_categorical_accuracy'])\n",
    "plt.title('Model Accuracy')\n",
    "plt.ylabel('Accuracy')\n",
    "plt.xlabel('Epoch')\n",
    "plt.legend(['Train', 'Test'], loc='upper left')\n",
    "plt.show()\n",
    "\n",
    "# Plot training & validation loss values\n",
    "plt.plot(history.history['loss'])\n",
    "plt.plot(history.history['val_loss'])\n",
    "plt.title('Model loss')\n",
    "plt.ylabel('Loss')\n",
    "plt.xlabel('Epoch')\n",
    "plt.legend(['Train', 'Test'], loc='upper left')\n",
    "plt.show()"
   ]
  },
  {
   "cell_type": "code",
   "execution_count": 0,
   "metadata": {
    "colab": {},
    "colab_type": "code",
    "collapsed": true,
    "id": "Ib8IbnVmFQ4X"
   },
   "outputs": [],
   "source": [
    "# Create translate class\n",
    "class Translate:\n",
    "  '''\n",
    "  Translation class\n",
    "  Input:\n",
    "  Sentence to translate(string)\n",
    "  Target Language (French, Spanish, or English)\n",
    "  Output:\n",
    "  Translated Sentence\n",
    "  '''\n",
    "  def __init__(self, raw_sentence, target_lang):\n",
    "    self.raw_sentence = raw_sentence\n",
    "    self.target_lang = target_lang\n",
    "  \n",
    "  def encode_sentence(self, sentence):\n",
    "    '''\n",
    "    Wordmap the sentence into integers\n",
    "    '''\n",
    "    return(sp.encode_as_ids(sentence))\n",
    "  \n",
    "  def decode_sentence(self, word_map_vector):\n",
    "    '''\n",
    "    Decode the wordmap back into target sentence\n",
    "    '''\n",
    "    return(sp.decode_ids(word_map_vector))\n",
    "  \n",
    "  def predict_translation(self):\n",
    "    '''\n",
    "    Predicts sentence based on target\n",
    "    '''\n",
    "    # Append start stop based on target language\n",
    "    if self.target_lang == 'English':\n",
    "      input_lang = '<2en> '\n",
    "    elif self.target_lang == 'French':\n",
    "      input_lang = '<2fra> '\n",
    "    elif self.target_lang == 'Spanish':\n",
    "      input_lang = '<2spa> '\n",
    "    else:\n",
    "      return('Error: Please input either English, French or Spanish')\n",
    "    \n",
    "    \n",
    "    # Encode sentence\n",
    "    sentence = []\n",
    "    mapped_sentence = self.encode_sentence(input_lang + self.raw_sentence + ' <EOS>')\n",
    "    sentence.append(mapped_sentence)\n",
    "    \n",
    "    # Pad and reshape mapped_sentence\n",
    "    mapped_sentence = pad_sequences(sentence,maxlen = max_length, padding='post')\n",
    "    \n",
    "    # Predict\n",
    "    prediction = model.predict_classes(mapped_sentence.reshape(mapped_sentence.shape[0], mapped_sentence.shape[1]))\n",
    "    # Decode from softmax\n",
    "    prediction = np.trim_zeros(prediction[0], 'b') # Remove the likely padding in the back of the list\n",
    "    demapped_sentence = self.decode_sentence([int(x) for x in prediction])\n",
    "    # Return decoded string\n",
    "    return(demapped_sentence)"
   ]
  },
  {
   "cell_type": "markdown",
   "metadata": {
    "colab_type": "text",
    "id": "YzOX6YkhihVD"
   },
   "source": [
    "##### Testing some translations"
   ]
  },
  {
   "cell_type": "markdown",
   "metadata": {
    "colab_type": "text",
    "id": "zmnfJlp6oG72"
   },
   "source": [
    "These are some sample translations to test the model across directly translated sentence pairs as well as zero shot translations with Spanish to French"
   ]
  },
  {
   "cell_type": "code",
   "execution_count": 0,
   "metadata": {
    "colab": {
     "base_uri": "https://localhost:8080/",
     "height": 34
    },
    "colab_type": "code",
    "id": "eD6FOqVIyqOJ",
    "outputId": "3429ab0b-4ac1-46c9-ab48-8f143d0ebd9d"
   },
   "outputs": [
    {
     "data": {
      "text/plain": [
       "\"<2spa> I''t...  \""
      ]
     },
     "execution_count": 45,
     "metadata": {
      "tags": []
     },
     "output_type": "execute_result"
    }
   ],
   "source": [
    "# English to French(Explicitly trained)\n",
    "Translate(\"I am here.\", \"French\").predict_translation() \n"
   ]
  },
  {
   "cell_type": "code",
   "execution_count": 0,
   "metadata": {
    "colab": {
     "base_uri": "https://localhost:8080/",
     "height": 34
    },
    "colab_type": "code",
    "id": "h8RB_cavib91",
    "outputId": "e1e6b77f-5563-459a-e1d3-616d8308e08d"
   },
   "outputs": [
    {
     "data": {
      "text/plain": [
       "\"<2spa> I''tt to.... \""
      ]
     },
     "execution_count": 46,
     "metadata": {
      "tags": []
     },
     "output_type": "execute_result"
    }
   ],
   "source": [
    "# Spanish to English(Explicited trained)\n",
    "Translate(\"Dónde está el baño\", \"Spanish\").predict_translation()"
   ]
  },
  {
   "cell_type": "code",
   "execution_count": 0,
   "metadata": {
    "colab": {
     "base_uri": "https://localhost:8080/",
     "height": 34
    },
    "colab_type": "code",
    "id": "78RBxvMOicGw",
    "outputId": "c12e5932-c767-4f73-8c5f-dcd8f0f7d650"
   },
   "outputs": [
    {
     "data": {
      "text/plain": [
       "\"<2spa> I''ttt'.... \""
      ]
     },
     "execution_count": 47,
     "metadata": {
      "tags": []
     },
     "output_type": "execute_result"
    }
   ],
   "source": [
    "# Spanish to French(Zero Shot)\n",
    "Translate(\"Dónde está el baño\", \"French\").predict_translation() \n"
   ]
  },
  {
   "cell_type": "code",
   "execution_count": 0,
   "metadata": {
    "colab": {
     "base_uri": "https://localhost:8080/",
     "height": 34
    },
    "colab_type": "code",
    "id": "kVkzotfLicNy",
    "outputId": "087cae43-9269-4cf7-a727-06f4084b5dd6"
   },
   "outputs": [
    {
     "data": {
      "text/plain": [
       "\"<2spa> I'' you... \""
      ]
     },
     "execution_count": 48,
     "metadata": {
      "tags": []
     },
     "output_type": "execute_result"
    }
   ],
   "source": [
    "# Testing English to Spanish\n",
    "Translate(\"I am here.\", \"Spanish\").predict_translation()"
   ]
  },
  {
   "cell_type": "code",
   "execution_count": 0,
   "metadata": {
    "colab": {
     "base_uri": "https://localhost:8080/",
     "height": 34
    },
    "colab_type": "code",
    "id": "t7jvYoZTdE2S",
    "outputId": "0d343ce5-5c1e-41dd-bca8-5aee7133c114"
   },
   "outputs": [
    {
     "data": {
      "text/plain": [
       "\"<2en>'''''''''''''''''''''''''''''''' \""
      ]
     },
     "execution_count": 49,
     "metadata": {
      "tags": []
     },
     "output_type": "execute_result"
    }
   ],
   "source": [
    "# English to French(Explicitly trained) with long sentence\n",
    "Translate(\"I think bad things are happening but I am not sure what I can do about it. Could you maybe look into it?\", \"French\").predict_translation() "
   ]
  },
  {
   "cell_type": "code",
   "execution_count": 0,
   "metadata": {
    "colab": {
     "base_uri": "https://localhost:8080/",
     "height": 34
    },
    "colab_type": "code",
    "id": "EMbKCEAnpbMw",
    "outputId": "8ffd4748-7c69-4de8-b379-00439ab6f544"
   },
   "outputs": [
    {
     "data": {
      "text/plain": [
       "\"<2spa> I''t.... \""
      ]
     },
     "execution_count": 50,
     "metadata": {
      "tags": []
     },
     "output_type": "execute_result"
    }
   ],
   "source": [
    "# Gibberish(multi lang)\n",
    "Translate(\"I think el gato est merveilleux\", \"English\").predict_translation() "
   ]
  },
  {
   "cell_type": "markdown",
   "metadata": {
    "colab_type": "text",
    "id": "-qUYZA2bmdg7"
   },
   "source": [
    "##### BLEU Scores"
   ]
  },
  {
   "cell_type": "markdown",
   "metadata": {
    "colab_type": "text",
    "id": "fDxSJudDnxND"
   },
   "source": [
    "BLEU scores are evaluated by testing with and against the Google Translate version. There is a pretty higher rate of error due to not super cleaning the output from the prediction such as from the sentence start end tags and the zero padding being decoded."
   ]
  },
  {
   "cell_type": "code",
   "execution_count": 0,
   "metadata": {
    "colab": {},
    "colab_type": "code",
    "collapsed": true,
    "id": "8b0lPnLVysfA"
   },
   "outputs": [],
   "source": [
    "# BLEU Scores"
   ]
  },
  {
   "cell_type": "code",
   "execution_count": 0,
   "metadata": {
    "colab": {
     "base_uri": "https://localhost:8080/",
     "height": 136
    },
    "colab_type": "code",
    "id": "fCv7UwKaA2Bl",
    "outputId": "42120947-1c99-401d-e55f-4214ab777a03"
   },
   "outputs": [
    {
     "data": {
      "text/html": [
       "<div>\n",
       "<style scoped>\n",
       "    .dataframe tbody tr th:only-of-type {\n",
       "        vertical-align: middle;\n",
       "    }\n",
       "\n",
       "    .dataframe tbody tr th {\n",
       "        vertical-align: top;\n",
       "    }\n",
       "\n",
       "    .dataframe thead th {\n",
       "        text-align: right;\n",
       "    }\n",
       "</style>\n",
       "<table border=\"1\" class=\"dataframe\">\n",
       "  <thead>\n",
       "    <tr style=\"text-align: right;\">\n",
       "      <th></th>\n",
       "      <th>Language</th>\n",
       "      <th>Input_Sentence</th>\n",
       "      <th>Target_Sentence</th>\n",
       "      <th>Target_translation</th>\n",
       "      <th>Score</th>\n",
       "    </tr>\n",
       "  </thead>\n",
       "  <tbody>\n",
       "    <tr>\n",
       "      <th>0</th>\n",
       "      <td>ENG-FRA</td>\n",
       "      <td>My name is John.</td>\n",
       "      <td>Mon nom est John.</td>\n",
       "      <td>&lt;2spa&gt; I''tt to.....</td>\n",
       "      <td>0</td>\n",
       "    </tr>\n",
       "    <tr>\n",
       "      <th>1</th>\n",
       "      <td>ENG-FRA</td>\n",
       "      <td>Where is the bathroom</td>\n",
       "      <td>Où se trouvent les toilettes?</td>\n",
       "      <td>&lt;2en&gt; Je''tt'''....</td>\n",
       "      <td>0</td>\n",
       "    </tr>\n",
       "    <tr>\n",
       "      <th>2</th>\n",
       "      <td>ENG-FRA</td>\n",
       "      <td>John, where are you?</td>\n",
       "      <td>John, où es-tu?</td>\n",
       "      <td>&lt;2en&gt; Je''tt'''....</td>\n",
       "      <td>0</td>\n",
       "    </tr>\n",
       "  </tbody>\n",
       "</table>\n",
       "</div>"
      ],
      "text/plain": [
       "  Language         Input_Sentence                Target_Sentence  \\\n",
       "0  ENG-FRA       My name is John.              Mon nom est John.   \n",
       "1  ENG-FRA  Where is the bathroom  Où se trouvent les toilettes?   \n",
       "2  ENG-FRA   John, where are you?                John, où es-tu?   \n",
       "\n",
       "     Target_translation  Score  \n",
       "0  <2spa> I''tt to.....      0  \n",
       "1  <2en> Je''tt'''....       0  \n",
       "2  <2en> Je''tt'''....       0  "
      ]
     },
     "execution_count": 52,
     "metadata": {
      "tags": []
     },
     "output_type": "execute_result"
    }
   ],
   "source": [
    "# ENG to FRENCH(Explicit)\n",
    "eng_fra_scores = [sentence_bleu(Translate(\"My name is John.\", \"French\").predict_translation().split(\" \"), \"Mon nom est John.\".split(\" \")),\n",
    "                  sentence_bleu(Translate(\"Where is the bathroom?\", \"French\").predict_translation().split(\" \"), \"Où se trouvent les toilettes?\".split(\" \")),\n",
    "                  sentence_bleu(Translate(\"John, where are you?\", \"French\").predict_translation().split(\" \"), \"John, où es-tu?\".split(\" \"))]\n",
    "eng_fra_output = [Translate(\"My name is John.\", \"French\").predict_translation(),\n",
    "                  Translate(\"John, where are you?\", \"French\").predict_translation(),\n",
    "                  Translate(\"John, where are you?\", \"French\").predict_translation()]\n",
    "\n",
    "eng_fra_results = pd.DataFrame({'Language': 'ENG-FRA', \n",
    "                                'Input_Sentence': ['My name is John.', 'Where is the bathroom', 'John, where are you?'], \n",
    "                                'Target_Sentence': ['Mon nom est John.', 'Où se trouvent les toilettes?', 'John, où es-tu?'],\n",
    "                                'Target_translation': eng_fra_output,\n",
    "                                'Score': eng_fra_scores})\n",
    "\n",
    "eng_fra_results"
   ]
  },
  {
   "cell_type": "code",
   "execution_count": 0,
   "metadata": {
    "colab": {
     "base_uri": "https://localhost:8080/",
     "height": 136
    },
    "colab_type": "code",
    "id": "22W0kQNBnWV9",
    "outputId": "2fd2d7be-35d6-41d9-f230-1626ee39572e"
   },
   "outputs": [
    {
     "data": {
      "text/html": [
       "<div>\n",
       "<style scoped>\n",
       "    .dataframe tbody tr th:only-of-type {\n",
       "        vertical-align: middle;\n",
       "    }\n",
       "\n",
       "    .dataframe tbody tr th {\n",
       "        vertical-align: top;\n",
       "    }\n",
       "\n",
       "    .dataframe thead th {\n",
       "        text-align: right;\n",
       "    }\n",
       "</style>\n",
       "<table border=\"1\" class=\"dataframe\">\n",
       "  <thead>\n",
       "    <tr style=\"text-align: right;\">\n",
       "      <th></th>\n",
       "      <th>Language</th>\n",
       "      <th>Input_Sentence</th>\n",
       "      <th>Target_Sentence</th>\n",
       "      <th>Target_translation</th>\n",
       "      <th>Score</th>\n",
       "    </tr>\n",
       "  </thead>\n",
       "  <tbody>\n",
       "    <tr>\n",
       "      <th>0</th>\n",
       "      <td>ENG-SPA</td>\n",
       "      <td>My name is John.</td>\n",
       "      <td>Mi nombre es John.</td>\n",
       "      <td>&lt;2spa&gt; I''tt....</td>\n",
       "      <td>0</td>\n",
       "    </tr>\n",
       "    <tr>\n",
       "      <th>1</th>\n",
       "      <td>ENG-SPA</td>\n",
       "      <td>Where is the bathroom</td>\n",
       "      <td>¿Dónde está el baño?</td>\n",
       "      <td>&lt;2spa&gt; I''tt to...</td>\n",
       "      <td>0</td>\n",
       "    </tr>\n",
       "    <tr>\n",
       "      <th>2</th>\n",
       "      <td>ENG-SPA</td>\n",
       "      <td>John, where are you?</td>\n",
       "      <td>John, où es-tu?</td>\n",
       "      <td>&lt;2spa&gt; I''tt to....</td>\n",
       "      <td>0</td>\n",
       "    </tr>\n",
       "  </tbody>\n",
       "</table>\n",
       "</div>"
      ],
      "text/plain": [
       "  Language         Input_Sentence       Target_Sentence    Target_translation  \\\n",
       "0  ENG-SPA       My name is John.    Mi nombre es John.     <2spa> I''tt....    \n",
       "1  ENG-SPA  Where is the bathroom  ¿Dónde está el baño?   <2spa> I''tt to...    \n",
       "2  ENG-SPA   John, where are you?       John, où es-tu?  <2spa> I''tt to....    \n",
       "\n",
       "   Score  \n",
       "0      0  \n",
       "1      0  \n",
       "2      0  "
      ]
     },
     "execution_count": 53,
     "metadata": {
      "tags": []
     },
     "output_type": "execute_result"
    }
   ],
   "source": [
    "# ENG TO SPANISH(Garbage)\n",
    "eng_spa_scores = [sentence_bleu(Translate(\"My name is John.\", \"Spanish\").predict_translation().split(\" \"), \"Mi nombre es John.\".split(\" \")),\n",
    "                  sentence_bleu(Translate(\"Where is the bathroom?\", \"Spanish\").predict_translation().split(\" \"), \"¿Dónde está el baño?\".split(\" \")),\n",
    "                  sentence_bleu(Translate(\"John, where are you?\", \"Spanish\").predict_translation().split(\" \"), \"Juan donde estas\".split(\" \"))]\n",
    "\n",
    "eng_spa_output = [Translate(\"My name is John.\", \"Spanish\").predict_translation(),\n",
    "                  Translate(\"Where is the bathroom?\", \"Spanish\").predict_translation(),\n",
    "                  Translate(\"John, where are you?\", \"Spanish\").predict_translation()]\n",
    "\n",
    "eng_spa_results = pd.DataFrame({'Language': 'ENG-SPA', \n",
    "                                'Input_Sentence': ['My name is John.', 'Where is the bathroom', 'John, where are you?'], \n",
    "                                'Target_Sentence': ['Mi nombre es John.', '¿Dónde está el baño?', 'John, où es-tu?'], \n",
    "                                'Target_translation': eng_spa_output,\n",
    "                                'Score': eng_spa_scores})\n",
    "\n",
    "eng_spa_results"
   ]
  },
  {
   "cell_type": "code",
   "execution_count": 0,
   "metadata": {
    "colab": {
     "base_uri": "https://localhost:8080/",
     "height": 136
    },
    "colab_type": "code",
    "id": "EB2IeGHBnWbQ",
    "outputId": "0f8cb1f1-b85b-4eea-951e-22ed67907db4"
   },
   "outputs": [
    {
     "data": {
      "text/html": [
       "<div>\n",
       "<style scoped>\n",
       "    .dataframe tbody tr th:only-of-type {\n",
       "        vertical-align: middle;\n",
       "    }\n",
       "\n",
       "    .dataframe tbody tr th {\n",
       "        vertical-align: top;\n",
       "    }\n",
       "\n",
       "    .dataframe thead th {\n",
       "        text-align: right;\n",
       "    }\n",
       "</style>\n",
       "<table border=\"1\" class=\"dataframe\">\n",
       "  <thead>\n",
       "    <tr style=\"text-align: right;\">\n",
       "      <th></th>\n",
       "      <th>Language</th>\n",
       "      <th>Input_Sentence</th>\n",
       "      <th>Target_Sentence</th>\n",
       "      <th>Target_translation</th>\n",
       "      <th>Score</th>\n",
       "    </tr>\n",
       "  </thead>\n",
       "  <tbody>\n",
       "    <tr>\n",
       "      <th>0</th>\n",
       "      <td>SPA-ENG</td>\n",
       "      <td>Mi nombre es John.</td>\n",
       "      <td>My name is John.</td>\n",
       "      <td>&lt;2spa&gt; I''tt....</td>\n",
       "      <td>0</td>\n",
       "    </tr>\n",
       "    <tr>\n",
       "      <th>1</th>\n",
       "      <td>SPA-ENG</td>\n",
       "      <td>¿Dónde está el baño?</td>\n",
       "      <td>Where is the bathroom</td>\n",
       "      <td>&lt;2spa&gt; I''tt to...</td>\n",
       "      <td>0</td>\n",
       "    </tr>\n",
       "    <tr>\n",
       "      <th>2</th>\n",
       "      <td>SPA-ENG</td>\n",
       "      <td>Juan donde estas</td>\n",
       "      <td>John, where are you?</td>\n",
       "      <td>&lt;2spa&gt; I''tt to....</td>\n",
       "      <td>0</td>\n",
       "    </tr>\n",
       "  </tbody>\n",
       "</table>\n",
       "</div>"
      ],
      "text/plain": [
       "  Language        Input_Sentence        Target_Sentence    Target_translation  \\\n",
       "0  SPA-ENG    Mi nombre es John.       My name is John.     <2spa> I''tt....    \n",
       "1  SPA-ENG  ¿Dónde está el baño?  Where is the bathroom   <2spa> I''tt to...    \n",
       "2  SPA-ENG      Juan donde estas   John, where are you?  <2spa> I''tt to....    \n",
       "\n",
       "   Score  \n",
       "0      0  \n",
       "1      0  \n",
       "2      0  "
      ]
     },
     "execution_count": 54,
     "metadata": {
      "tags": []
     },
     "output_type": "execute_result"
    }
   ],
   "source": [
    "# SPANISH TO ENG(Explicit)\n",
    "spa_eng_scores = [sentence_bleu(Translate(\"Mi nombre es John.\", \"English\").predict_translation().split(\" \"), \"My name is John.\".split(\" \")),\n",
    "                  sentence_bleu(Translate(\"¿Dónde está el baño?\", \"English\").predict_translation().split(\" \"), \"Where is the bathroom?\".split(\" \")),\n",
    "                  sentence_bleu(Translate(\"Juan donde estas\", \"English\").predict_translation().split(\" \"), \"John, where are you?\".split(\" \"))]\n",
    "\n",
    "spa_eng_output = [Translate(\"Mi nombre es John.\", \"English\").predict_translation(),\n",
    "                  Translate(\"¿Dónde está el baño?\", \"English\").predict_translation(),\n",
    "                  Translate(\"Juan donde estas\", \"English\").predict_translation()]\n",
    "\n",
    "spa_eng_results = pd.DataFrame({'Language': 'SPA-ENG', \n",
    "                                'Input_Sentence': ['Mi nombre es John.', '¿Dónde está el baño?', 'Juan donde estas'], \n",
    "                                'Target_Sentence': ['My name is John.', 'Where is the bathroom', 'John, where are you?'], \n",
    "                                'Target_translation': eng_spa_output,\n",
    "                                'Score': spa_eng_scores})\n",
    "\n",
    "spa_eng_results"
   ]
  },
  {
   "cell_type": "code",
   "execution_count": 0,
   "metadata": {
    "colab": {
     "base_uri": "https://localhost:8080/",
     "height": 136
    },
    "colab_type": "code",
    "id": "cCEeXw_ynWkz",
    "outputId": "d0d70d19-231a-4371-c7ca-4244c96c1ed6"
   },
   "outputs": [
    {
     "data": {
      "text/html": [
       "<div>\n",
       "<style scoped>\n",
       "    .dataframe tbody tr th:only-of-type {\n",
       "        vertical-align: middle;\n",
       "    }\n",
       "\n",
       "    .dataframe tbody tr th {\n",
       "        vertical-align: top;\n",
       "    }\n",
       "\n",
       "    .dataframe thead th {\n",
       "        text-align: right;\n",
       "    }\n",
       "</style>\n",
       "<table border=\"1\" class=\"dataframe\">\n",
       "  <thead>\n",
       "    <tr style=\"text-align: right;\">\n",
       "      <th></th>\n",
       "      <th>Language</th>\n",
       "      <th>Input_Sentence</th>\n",
       "      <th>Target_Sentence</th>\n",
       "      <th>Target_translation</th>\n",
       "      <th>Score</th>\n",
       "    </tr>\n",
       "  </thead>\n",
       "  <tbody>\n",
       "    <tr>\n",
       "      <th>0</th>\n",
       "      <td>SPA-FRA</td>\n",
       "      <td>Mi nombre es John.</td>\n",
       "      <td>Mon nom est John.</td>\n",
       "      <td>&lt;2spa&gt; I''ttt'....</td>\n",
       "      <td>0</td>\n",
       "    </tr>\n",
       "    <tr>\n",
       "      <th>1</th>\n",
       "      <td>SPA-FRA</td>\n",
       "      <td>¿Dónde está el baño?</td>\n",
       "      <td>Où se trouvent les toilettes?</td>\n",
       "      <td>&lt;2en&gt; Je''ttt''....</td>\n",
       "      <td>0</td>\n",
       "    </tr>\n",
       "    <tr>\n",
       "      <th>2</th>\n",
       "      <td>SPA-FRA</td>\n",
       "      <td>Juan donde estas</td>\n",
       "      <td>John, où es-tu?</td>\n",
       "      <td>&lt;2spa&gt; I''tt to....</td>\n",
       "      <td>0</td>\n",
       "    </tr>\n",
       "  </tbody>\n",
       "</table>\n",
       "</div>"
      ],
      "text/plain": [
       "  Language        Input_Sentence                Target_Sentence  \\\n",
       "0  SPA-FRA    Mi nombre es John.              Mon nom est John.   \n",
       "1  SPA-FRA  ¿Dónde está el baño?  Où se trouvent les toilettes?   \n",
       "2  SPA-FRA      Juan donde estas                John, où es-tu?   \n",
       "\n",
       "     Target_translation  Score  \n",
       "0   <2spa> I''ttt'....       0  \n",
       "1   <2en> Je''ttt''....      0  \n",
       "2  <2spa> I''tt to....       0  "
      ]
     },
     "execution_count": 55,
     "metadata": {
      "tags": []
     },
     "output_type": "execute_result"
    }
   ],
   "source": [
    "# SPANISH TO FRENCH(Zero shot)\n",
    "spa_fra_scores = [sentence_bleu(Translate(\"Mi nombre es John.\", \"French\").predict_translation().split(\" \"), \"Mon nom est John.\".split(\" \")),\n",
    "                  sentence_bleu(Translate(\"¿Dónde está el baño?\", \"French\").predict_translation().split(\" \"), \"Où se trouvent les toilettes?\".split(\" \")),\n",
    "                  sentence_bleu(Translate(\"Juan donde estas\", \"French\").predict_translation().split(\" \"), \"John, où es-tu?\".split(\" \"))]\n",
    "\n",
    "spa_fra_output = [Translate(\"Mi nombre es John.\", \"French\").predict_translation(),\n",
    "                  Translate(\"¿Dónde está el baño?\", \"French\").predict_translation(),\n",
    "                  Translate(\"Juan donde estas\", \"French\").predict_translation()]\n",
    "\n",
    "spa_fra_results = pd.DataFrame({'Language': 'SPA-FRA', \n",
    "                                'Input_Sentence': ['Mi nombre es John.', '¿Dónde está el baño?', 'Juan donde estas'], \n",
    "                                'Target_Sentence': ['Mon nom est John.', 'Où se trouvent les toilettes?', 'John, où es-tu?'], \n",
    "                                'Target_translation': spa_fra_output,\n",
    "                                'Score': spa_fra_scores})\n",
    "\n",
    "spa_fra_results"
   ]
  },
  {
   "cell_type": "code",
   "execution_count": 0,
   "metadata": {
    "colab": {
     "base_uri": "https://localhost:8080/",
     "height": 136
    },
    "colab_type": "code",
    "id": "7vt9twktnWqh",
    "outputId": "46b55d39-3941-40d1-a6b8-600b606c28e8"
   },
   "outputs": [
    {
     "data": {
      "text/html": [
       "<div>\n",
       "<style scoped>\n",
       "    .dataframe tbody tr th:only-of-type {\n",
       "        vertical-align: middle;\n",
       "    }\n",
       "\n",
       "    .dataframe tbody tr th {\n",
       "        vertical-align: top;\n",
       "    }\n",
       "\n",
       "    .dataframe thead th {\n",
       "        text-align: right;\n",
       "    }\n",
       "</style>\n",
       "<table border=\"1\" class=\"dataframe\">\n",
       "  <thead>\n",
       "    <tr style=\"text-align: right;\">\n",
       "      <th></th>\n",
       "      <th>Language</th>\n",
       "      <th>Target_Sentence</th>\n",
       "      <th>Input_Sentence</th>\n",
       "      <th>Target_translation</th>\n",
       "      <th>Score</th>\n",
       "    </tr>\n",
       "  </thead>\n",
       "  <tbody>\n",
       "    <tr>\n",
       "      <th>0</th>\n",
       "      <td>FRA-ENG</td>\n",
       "      <td>Mon nom est John.</td>\n",
       "      <td>My name is John.</td>\n",
       "      <td>&lt;2spa&gt; I''ttt'....</td>\n",
       "      <td>0</td>\n",
       "    </tr>\n",
       "    <tr>\n",
       "      <th>1</th>\n",
       "      <td>FRA-ENG</td>\n",
       "      <td>Où se trouvent les toilettes?</td>\n",
       "      <td>Where is the bathroom</td>\n",
       "      <td>&lt;2en&gt; Je'''''''''....</td>\n",
       "      <td>0</td>\n",
       "    </tr>\n",
       "    <tr>\n",
       "      <th>2</th>\n",
       "      <td>FRA-ENG</td>\n",
       "      <td>John, où es-tu?</td>\n",
       "      <td>John, where are you?</td>\n",
       "      <td>&lt;2en&gt; Je''tt'''....</td>\n",
       "      <td>0</td>\n",
       "    </tr>\n",
       "  </tbody>\n",
       "</table>\n",
       "</div>"
      ],
      "text/plain": [
       "  Language                Target_Sentence         Input_Sentence  \\\n",
       "0  FRA-ENG              Mon nom est John.       My name is John.   \n",
       "1  FRA-ENG  Où se trouvent les toilettes?  Where is the bathroom   \n",
       "2  FRA-ENG                John, où es-tu?   John, where are you?   \n",
       "\n",
       "      Target_translation  Score  \n",
       "0    <2spa> I''ttt'....       0  \n",
       "1  <2en> Je'''''''''....      0  \n",
       "2   <2en> Je''tt'''....       0  "
      ]
     },
     "execution_count": 56,
     "metadata": {
      "tags": []
     },
     "output_type": "execute_result"
    }
   ],
   "source": [
    "# FRENCH TO ENG(Garbage)\n",
    "fra_eng_scores = [sentence_bleu(Translate(\"Mon nom est John.\", \"French\").predict_translation().split(\"My name is John.\"), \"\".split(\" \")),\n",
    "                  sentence_bleu(Translate(\"Où se trouvent les toilettes?\", \"French\").predict_translation().split(\"Where is the bathroom?\"), \"\".split(\" \")),\n",
    "                  sentence_bleu(Translate(\"John, où es-tu?\", \"French\").predict_translation().split(\" \"), \"\".split(\"John, where are you?\"))]\n",
    "\n",
    "fra_eng_output = [Translate(\"Mon nom est John.\", \"French\").predict_translation(),\n",
    "                  Translate(\"Où se trouvent les toilettes?\", \"French\").predict_translation(),\n",
    "                  Translate(\"John, où es-tu?\", \"French\").predict_translation()]\n",
    "\n",
    "fra_eng_results = pd.DataFrame({'Language': 'FRA-ENG', \n",
    "                                'Target_Sentence': ['Mon nom est John.', 'Où se trouvent les toilettes?', 'John, où es-tu?'], \n",
    "                                'Input_Sentence': ['My name is John.', 'Where is the bathroom', 'John, where are you?'], \n",
    "                                'Target_translation': fra_eng_output,\n",
    "                                'Score': fra_eng_scores})\n",
    "\n",
    "fra_eng_results"
   ]
  },
  {
   "cell_type": "code",
   "execution_count": 0,
   "metadata": {
    "colab": {
     "base_uri": "https://localhost:8080/",
     "height": 136
    },
    "colab_type": "code",
    "id": "2CIB3WD2nWwV",
    "outputId": "128a1ded-d6b2-4665-bb7f-b242ad2ff612"
   },
   "outputs": [
    {
     "data": {
      "text/html": [
       "<div>\n",
       "<style scoped>\n",
       "    .dataframe tbody tr th:only-of-type {\n",
       "        vertical-align: middle;\n",
       "    }\n",
       "\n",
       "    .dataframe tbody tr th {\n",
       "        vertical-align: top;\n",
       "    }\n",
       "\n",
       "    .dataframe thead th {\n",
       "        text-align: right;\n",
       "    }\n",
       "</style>\n",
       "<table border=\"1\" class=\"dataframe\">\n",
       "  <thead>\n",
       "    <tr style=\"text-align: right;\">\n",
       "      <th></th>\n",
       "      <th>Language</th>\n",
       "      <th>Input_Sentence</th>\n",
       "      <th>Target_Sentence</th>\n",
       "      <th>Target_translation</th>\n",
       "      <th>Score</th>\n",
       "    </tr>\n",
       "  </thead>\n",
       "  <tbody>\n",
       "    <tr>\n",
       "      <th>0</th>\n",
       "      <td>FRA-SPA</td>\n",
       "      <td>Mon nom est John.</td>\n",
       "      <td>Mi nombre es John.</td>\n",
       "      <td>&lt;2spa&gt; I''tt to...</td>\n",
       "      <td>0</td>\n",
       "    </tr>\n",
       "    <tr>\n",
       "      <th>1</th>\n",
       "      <td>FRA-SPA</td>\n",
       "      <td>Où se trouvent les toilettes?</td>\n",
       "      <td>¿Dónde está el baño?</td>\n",
       "      <td>&lt;2en&gt; Je''ttt''....</td>\n",
       "      <td>0</td>\n",
       "    </tr>\n",
       "    <tr>\n",
       "      <th>2</th>\n",
       "      <td>FRA-SPA</td>\n",
       "      <td>John, où es-tu?</td>\n",
       "      <td>Juan donde estas</td>\n",
       "      <td>&lt;2spa&gt; I''tt to....</td>\n",
       "      <td>0</td>\n",
       "    </tr>\n",
       "  </tbody>\n",
       "</table>\n",
       "</div>"
      ],
      "text/plain": [
       "  Language                 Input_Sentence       Target_Sentence  \\\n",
       "0  FRA-SPA              Mon nom est John.    Mi nombre es John.   \n",
       "1  FRA-SPA  Où se trouvent les toilettes?  ¿Dónde está el baño?   \n",
       "2  FRA-SPA                John, où es-tu?      Juan donde estas   \n",
       "\n",
       "     Target_translation  Score  \n",
       "0  <2spa> I''tt to...        0  \n",
       "1   <2en> Je''ttt''....      0  \n",
       "2  <2spa> I''tt to....       0  "
      ]
     },
     "execution_count": 57,
     "metadata": {
      "tags": []
     },
     "output_type": "execute_result"
    }
   ],
   "source": [
    "# FRENCH TO SPANISH(Garbage)\n",
    "fra_spa_scores = [sentence_bleu(Translate(\"Mon nom est John.\", \"Spanish\").predict_translation().split(\" \"), \"Mi nombre es John.\".split(\" \")),\n",
    "                  sentence_bleu(Translate(\"Où se trouvent les toilettes?\", \"Spanish\").predict_translation().split(\" \"), \"¿Dónde está el baño?\".split(\" \")),\n",
    "                  sentence_bleu(Translate(\"John, où es-tu?\", \"Spanish\").predict_translation().split(\" \"), \"Juan donde estas\".split(\" \"))]\n",
    "\n",
    "fra_spa_output = [Translate(\"Mon nom est John.\", \"Spanish\").predict_translation(),\n",
    "                  Translate(\"Où se trouvent les toilettes?\", \"Spanish\").predict_translation(),\n",
    "                  Translate(\"John, où es-tu?\", \"Spanish\").predict_translation()]\n",
    "\n",
    "fra_spa_results = pd.DataFrame({'Language': 'FRA-SPA', \n",
    "                                'Input_Sentence': ['Mon nom est John.', 'Où se trouvent les toilettes?', 'John, où es-tu?'], \n",
    "                                'Target_Sentence': ['Mi nombre es John.', '¿Dónde está el baño?', 'Juan donde estas'], \n",
    "                                'Target_translation': fra_spa_output,\n",
    "                                'Score': fra_spa_scores})\n",
    "\n",
    "fra_spa_results"
   ]
  },
  {
   "cell_type": "code",
   "execution_count": 0,
   "metadata": {
    "colab": {
     "base_uri": "https://localhost:8080/",
     "height": 291
    },
    "colab_type": "code",
    "id": "bGT1DVYpqPHz",
    "outputId": "b6c6ae4f-a89d-4cd5-a410-78cb6428c0dc"
   },
   "outputs": [
    {
     "data": {
      "image/png": "[encoded data removed]",
      "text/plain": [
       "<Figure size 432x288 with 1 Axes>"
      ]
     },
     "metadata": {
      "tags": []
     },
     "output_type": "display_data"
    }
   ],
   "source": [
    "# Plot results\n",
    "plt.scatter([1,2,3], eng_fra_results['Score'], color = \"red\", label = 'ENG-FRA', linestyle = '-', marker = 'o')\n",
    "plt.scatter([1,2,3], eng_spa_results['Score'], color = \"yellow\", label = 'ENG-SPA', linestyle = '-', marker = 'o')\n",
    "plt.scatter([1,2,3], spa_eng_results['Score'], color = \"black\", label = 'SPA-ENG', linestyle = '-', marker = 'o')\n",
    "plt.scatter([1,2,3], spa_fra_results['Score'], color = \"blue\", label = 'SPA-FRA', linestyle = '-', marker = 'o')\n",
    "plt.scatter([1,2,3], fra_eng_results['Score'], color = \"purple\", label = 'FRA-ENG', linestyle = '-', marker = 'o')\n",
    "plt.scatter([1,2,3], fra_spa_results['Score'], color = \"green\",label = 'FRA-SPA', linestyle = '-', marker = 'o')\n",
    "plt.ylabel('BLEU Score')\n",
    "plt.xlabel('Sentence #')\n",
    "plt.legend()\n",
    "plt.show()\n"
   ]
  },
  {
   "cell_type": "code",
   "execution_count": 0,
   "metadata": {
    "colab": {},
    "colab_type": "code",
    "collapsed": true,
    "id": "AxpsMtXIZxup"
   },
   "outputs": [],
   "source": []
  }
 ],
 "metadata": {
  "accelerator": "GPU",
  "colab": {
   "collapsed_sections": [],
   "name": "final_project",
   "provenance": [],
   "toc_visible": true,
   "version": "0.3.2"
  },
  "kernelspec": {
   "display_name": "Python 3",
   "language": "python",
   "name": "python3"
  }
 },
 "nbformat": 4,
 "nbformat_minor": 1
}
