{
  "nbformat": 4,
  "nbformat_minor": 0,
  "metadata": {
    "colab": {
      "name": "final_project",
      "version": "0.3.2",
      "provenance": [],
      "collapsed_sections": []
    },
    "kernelspec": {
      "name": "python3",
      "display_name": "Python 3"
    },
    "accelerator": "GPU"
  },
  "cells": [
    {
      "cell_type": "markdown",
      "metadata": {
        "id": "-dJIjJaexlNi",
        "colab_type": "text"
      },
      "source": [
        "# Final Project\n",
        "\n",
        "The goal is to pretty much try to create a zero shot model using a SPA-ENG, ENG-FRA datasets from manythings.org. \n",
        "\n",
        "The datasets are roughly balanced so for simplicity, downsampling will not be done to even the number of samples. There will be a slight bias coming from the ENG-FRA dataset"
      ]
    },
    {
      "cell_type": "markdown",
      "metadata": {
        "id": "xaXNOQDVBqrt",
        "colab_type": "text"
      },
      "source": [
        "## Downloading of data"
      ]
    },
    {
      "cell_type": "markdown",
      "metadata": {
        "id": "vNagpZjIcbbb",
        "colab_type": "text"
      },
      "source": [
        "The data is downloaded from manythings. The data is simply unzipped, and combined for wordpiece modeling."
      ]
    },
    {
      "cell_type": "code",
      "metadata": {
        "id": "r06Oj2ivxqVG",
        "colab_type": "code",
        "outputId": "815aa518-7d7a-4938-bc25-ceb757eba7d0",
        "colab": {
          "base_uri": "https://localhost:8080/",
          "height": 386
        }
      },
      "source": [
        "!wget http://www.manythings.org/anki/spa-eng.zip\n",
        "!wget http://www.manythings.org/anki/fra-eng.zip"
      ],
      "execution_count": 201,
      "outputs": [
        {
          "output_type": "stream",
          "text": [
            "--2019-05-10 23:31:43--  http://www.manythings.org/anki/spa-eng.zip\n",
            "Resolving www.manythings.org (www.manythings.org)... 104.24.109.196, 104.24.108.196, 2606:4700:30::6818:6dc4, ...\n",
            "Connecting to www.manythings.org (www.manythings.org)|104.24.109.196|:80... connected.\n",
            "HTTP request sent, awaiting response... 200 OK\n",
            "Length: 2819791 (2.7M) [application/zip]\n",
            "Saving to: ‘spa-eng.zip’\n",
            "\n",
            "spa-eng.zip         100%[===================>]   2.69M  10.4MB/s    in 0.3s    \n",
            "\n",
            "2019-05-10 23:31:43 (10.4 MB/s) - ‘spa-eng.zip’ saved [2819791/2819791]\n",
            "\n",
            "--2019-05-10 23:31:44--  http://www.manythings.org/anki/fra-eng.zip\n",
            "Resolving www.manythings.org (www.manythings.org)... 104.24.109.196, 104.24.108.196, 2606:4700:30::6818:6dc4, ...\n",
            "Connecting to www.manythings.org (www.manythings.org)|104.24.109.196|:80... connected.\n",
            "HTTP request sent, awaiting response... 200 OK\n",
            "Length: 3423204 (3.3M) [application/zip]\n",
            "Saving to: ‘fra-eng.zip’\n",
            "\n",
            "fra-eng.zip         100%[===================>]   3.26M  13.1MB/s    in 0.2s    \n",
            "\n",
            "2019-05-10 23:31:44 (13.1 MB/s) - ‘fra-eng.zip’ saved [3423204/3423204]\n",
            "\n"
          ],
          "name": "stdout"
        }
      ]
    },
    {
      "cell_type": "code",
      "metadata": {
        "id": "H2dhRx-p3YlK",
        "colab_type": "code",
        "outputId": "47528f87-3773-480a-92f5-31c6b38fbc14",
        "colab": {
          "base_uri": "https://localhost:8080/",
          "height": 50
        }
      },
      "source": [
        "!mkdir fra-eng\n",
        "!mkdir spa-eng\n",
        "!mv fra-eng.zip fra-eng\n",
        "!mv spa-eng.zip spa-eng"
      ],
      "execution_count": 202,
      "outputs": [
        {
          "output_type": "stream",
          "text": [
            "mkdir: cannot create directory ‘fra-eng’: File exists\n",
            "mkdir: cannot create directory ‘spa-eng’: File exists\n"
          ],
          "name": "stdout"
        }
      ]
    },
    {
      "cell_type": "code",
      "metadata": {
        "id": "qOYGyOwO3fgD",
        "colab_type": "code",
        "outputId": "48f17d6b-81c1-4117-c893-c32e961e9329",
        "colab": {
          "base_uri": "https://localhost:8080/",
          "height": 67
        }
      },
      "source": [
        "!unzip fra-eng/fra-eng.zip -d fra-eng\n",
        "!unzip spa-eng/spa-eng.zip -d spa-eng"
      ],
      "execution_count": 203,
      "outputs": [
        {
          "output_type": "stream",
          "text": [
            "Archive:  fra-eng/fra-eng.zip\n",
            "replace fra-eng/_about.txt? [y]es, [n]o, [A]ll, [N]one, [r]ename: Archive:  spa-eng/spa-eng.zip\n",
            "replace spa-eng/_about.txt? [y]es, [n]o, [A]ll, [N]one, [r]ename: "
          ],
          "name": "stdout"
        }
      ]
    },
    {
      "cell_type": "code",
      "metadata": {
        "id": "Ro6UzMqs7aHX",
        "colab_type": "code",
        "outputId": "807aacb8-1203-4ead-c25f-fcd675ed0520",
        "colab": {
          "base_uri": "https://localhost:8080/",
          "height": 50
        }
      },
      "source": [
        "!ls"
      ],
      "execution_count": 204,
      "outputs": [
        {
          "output_type": "stream",
          "text": [
            "all.txt  model1  model.model  model.vocab  spa-eng\n",
            "fra-eng  model2  model.png    sample_data\n"
          ],
          "name": "stdout"
        }
      ]
    },
    {
      "cell_type": "code",
      "metadata": {
        "id": "bVxi22J7NhVZ",
        "colab_type": "code",
        "colab": {}
      },
      "source": [
        "# Merging the datasets together for wordpiece modeling\n",
        "!cat fra-eng/fra.txt spa-eng/spa.txt > all.txt"
      ],
      "execution_count": 0,
      "outputs": []
    },
    {
      "cell_type": "markdown",
      "metadata": {
        "id": "b_ny6QVaBwTF",
        "colab_type": "text"
      },
      "source": [
        "## Modeling"
      ]
    },
    {
      "cell_type": "markdown",
      "metadata": {
        "id": "wG1Ho2Rac3OF",
        "colab_type": "text"
      },
      "source": [
        "This part will deal with all steps of the model, from creaing the wordpieces to the training of the model."
      ]
    },
    {
      "cell_type": "code",
      "metadata": {
        "id": "3j24EPIaTbrO",
        "colab_type": "code",
        "outputId": "3cd78b08-146b-484b-c3a4-1d558bd37b48",
        "colab": {
          "base_uri": "https://localhost:8080/",
          "height": 34
        }
      },
      "source": [
        "!pip install sentencepiece # Installing package to deal with converting to wordpiece model"
      ],
      "execution_count": 206,
      "outputs": [
        {
          "output_type": "stream",
          "text": [
            "Requirement already satisfied: sentencepiece in /usr/local/lib/python3.6/dist-packages (0.1.82)\n"
          ],
          "name": "stdout"
        }
      ]
    },
    {
      "cell_type": "code",
      "metadata": {
        "id": "_xvsNuh86M50",
        "colab_type": "code",
        "colab": {}
      },
      "source": [
        "import sentencepiece as spm\n",
        "\n",
        "from keras.models import Model, Sequential\n",
        "from keras.layers import Input, LSTM, Embedding, Dense, Activation, Dropout, RepeatVector\n",
        "from keras.preprocessing.sequence import pad_sequences\n",
        "from sklearn.model_selection import train_test_split\n",
        "from keras.callbacks import ModelCheckpoint\n",
        "from keras.models import load_model\n",
        "from keras import optimizers\n",
        "import matplotlib.pyplot as plt\n",
        "import seaborn as sns\n",
        "import numpy as np\n",
        "from numpy.random import shuffle\n",
        "from nltk.translate.bleu_score import sentence_bleu\n",
        "import pandas as pd\n",
        "import re\n"
      ],
      "execution_count": 0,
      "outputs": []
    },
    {
      "cell_type": "code",
      "metadata": {
        "id": "ABpTEG5U9swd",
        "colab_type": "code",
        "colab": {}
      },
      "source": [
        "# Set seed for reproducible results\n",
        "from numpy.random import seed\n",
        "seed(1)"
      ],
      "execution_count": 0,
      "outputs": []
    },
    {
      "cell_type": "markdown",
      "metadata": {
        "id": "uQa26XtlHE7x",
        "colab_type": "text"
      },
      "source": [
        "### Cleaning"
      ]
    },
    {
      "cell_type": "markdown",
      "metadata": {
        "id": "YjHi1wl7Scgy",
        "colab_type": "text"
      },
      "source": [
        "#### Wordpiece modeling the corpus"
      ]
    },
    {
      "cell_type": "markdown",
      "metadata": {
        "id": "g-F05cgiOrec",
        "colab_type": "text"
      },
      "source": [
        "In order to account for unseen words, a subword piece model is used to encode all of the vocabulary in all of the datasets. The model will use all of the words from every sentence in the pairs to build the top pieces to represent the data. \n",
        "\n",
        "The following link leads to the tool used to help build the word piece model:  \n",
        "https://github.com/google/sentencepiece\n"
      ]
    },
    {
      "cell_type": "code",
      "metadata": {
        "id": "UuizO6bF54oX",
        "colab_type": "code",
        "outputId": "9da7cc47-8bd0-4ec8-ce00-c1e89e60b009",
        "colab": {
          "base_uri": "https://localhost:8080/",
          "height": 34
        }
      },
      "source": [
        "# Creating a Wordpiece model using all of the data\n",
        "## Add in the zero shot prefixes\n",
        "vocab_size= 1000\n",
        "model_prefix = 'model'\n",
        "train_data_file = 'all.txt'\n",
        "\n",
        "spm.SentencePieceTrainer.Train(f'--input={train_data_file} --model_prefix={model_prefix} --user_defined_symbols=<2es>,<2fra>,<2en>,<EOS> --vocab_size={vocab_size} --model_type=bpe')"
      ],
      "execution_count": 209,
      "outputs": [
        {
          "output_type": "execute_result",
          "data": {
            "text/plain": [
              "True"
            ]
          },
          "metadata": {
            "tags": []
          },
          "execution_count": 209
        }
      ]
    },
    {
      "cell_type": "code",
      "metadata": {
        "id": "eVo8AZQQH7Le",
        "colab_type": "code",
        "outputId": "5df2d262-7ccc-47ca-aae2-e2bfd81df46f",
        "colab": {
          "base_uri": "https://localhost:8080/",
          "height": 34
        }
      },
      "source": [
        "# Loading the piecer\n",
        "sp = spm.SentencePieceProcessor()\n",
        "sp.Load(\"model.model\")"
      ],
      "execution_count": 210,
      "outputs": [
        {
          "output_type": "execute_result",
          "data": {
            "text/plain": [
              "True"
            ]
          },
          "metadata": {
            "tags": []
          },
          "execution_count": 210
        }
      ]
    },
    {
      "cell_type": "markdown",
      "metadata": {
        "id": "UXfmlfsuSxNW",
        "colab_type": "text"
      },
      "source": [
        "##### Testing the encoder / decoder\n",
        "\n",
        "As an additional sanity check, the encoder and decoder is tested here."
      ]
    },
    {
      "cell_type": "code",
      "metadata": {
        "id": "u9UXHxE1OlrN",
        "colab_type": "code",
        "outputId": "056d7262-e5d6-4198-c71b-3934231403c2",
        "colab": {
          "base_uri": "https://localhost:8080/",
          "height": 34
        }
      },
      "source": [
        "sp.EncodeAsPieces(\"<2en> This is a test\")"
      ],
      "execution_count": 211,
      "outputs": [
        {
          "output_type": "execute_result",
          "data": {
            "text/plain": [
              "['▁', '<2en>', '▁This', '▁is', '▁a', '▁t', 'est']"
            ]
          },
          "metadata": {
            "tags": []
          },
          "execution_count": 211
        }
      ]
    },
    {
      "cell_type": "code",
      "metadata": {
        "id": "oaKRn7QhOo-w",
        "colab_type": "code",
        "outputId": "bc7349fd-66ad-4406-932b-623a9bdfa281",
        "colab": {
          "base_uri": "https://localhost:8080/",
          "height": 34
        }
      },
      "source": [
        "sp.DecodePieces(['▁This', '▁is', '▁a', '▁t', 'est'])"
      ],
      "execution_count": 212,
      "outputs": [
        {
          "output_type": "execute_result",
          "data": {
            "text/plain": [
              "'This is a test'"
            ]
          },
          "metadata": {
            "tags": []
          },
          "execution_count": 212
        }
      ]
    },
    {
      "cell_type": "code",
      "metadata": {
        "id": "HjcAh9YWPONG",
        "colab_type": "code",
        "outputId": "da4b373a-2ee1-4e46-8a35-e65436bde874",
        "colab": {
          "base_uri": "https://localhost:8080/",
          "height": 185
        }
      },
      "source": [
        "!head all.txt"
      ],
      "execution_count": 213,
      "outputs": [
        {
          "output_type": "stream",
          "text": [
            "Go.\tVa !\n",
            "Hi.\tSalut !\n",
            "Run!\tCours !\n",
            "Run!\tCourez !\n",
            "Who?\tQui ?\n",
            "Wow!\tÇa alors !\n",
            "Fire!\tAu feu !\n",
            "Help!\tÀ l'aide !\n",
            "Jump.\tSaute.\n",
            "Stop!\tÇa suffit !\n"
          ],
          "name": "stdout"
        }
      ]
    },
    {
      "cell_type": "code",
      "metadata": {
        "id": "ySr9gXJBPUhe",
        "colab_type": "code",
        "outputId": "84924ea8-6081-4f35-d197-e017fc3fba34",
        "colab": {
          "base_uri": "https://localhost:8080/",
          "height": 34
        }
      },
      "source": [
        "sp.EncodeAsPieces(\"Va !\")"
      ],
      "execution_count": 214,
      "outputs": [
        {
          "output_type": "execute_result",
          "data": {
            "text/plain": [
              "['▁V', 'a', '▁!']"
            ]
          },
          "metadata": {
            "tags": []
          },
          "execution_count": 214
        }
      ]
    },
    {
      "cell_type": "code",
      "metadata": {
        "id": "Abpx4SXbPRVD",
        "colab_type": "code",
        "outputId": "1cb49b22-bee1-44d0-b752-cd2b1588e08e",
        "colab": {
          "base_uri": "https://localhost:8080/",
          "height": 34
        }
      },
      "source": [
        "sp.DecodePieces(['▁V', 'a', '▁!'])"
      ],
      "execution_count": 215,
      "outputs": [
        {
          "output_type": "execute_result",
          "data": {
            "text/plain": [
              "'Va !'"
            ]
          },
          "metadata": {
            "tags": []
          },
          "execution_count": 215
        }
      ]
    },
    {
      "cell_type": "code",
      "metadata": {
        "id": "lWZSF-u2PfCb",
        "colab_type": "code",
        "outputId": "85ed482b-106f-464d-dac8-2d3b24fa0ead",
        "colab": {
          "base_uri": "https://localhost:8080/",
          "height": 34
        }
      },
      "source": [
        "sp.EncodeAsPieces(\"sdlfkhsdlkfh\")"
      ],
      "execution_count": 216,
      "outputs": [
        {
          "output_type": "execute_result",
          "data": {
            "text/plain": [
              "['▁s', 'd', 'lf', 'k', 'h', 's', 'd', 'l', 'k', 'f', 'h']"
            ]
          },
          "metadata": {
            "tags": []
          },
          "execution_count": 216
        }
      ]
    },
    {
      "cell_type": "code",
      "metadata": {
        "id": "fXa2dmcvzfgp",
        "colab_type": "code",
        "outputId": "d3a895d6-a05d-42cb-a86a-12c223ca553c",
        "colab": {
          "base_uri": "https://localhost:8080/",
          "height": 34
        }
      },
      "source": [
        "sp.EncodeAsPieces(\"Ça suffit !\")"
      ],
      "execution_count": 217,
      "outputs": [
        {
          "output_type": "execute_result",
          "data": {
            "text/plain": [
              "['▁', 'Ç', 'a', '▁su', 'ff', 'it', '▁!']"
            ]
          },
          "metadata": {
            "tags": []
          },
          "execution_count": 217
        }
      ]
    },
    {
      "cell_type": "code",
      "metadata": {
        "id": "1YPzX-dbWFKQ",
        "colab_type": "code",
        "outputId": "47bff837-359e-4225-f245-e99d1f0eb7b5",
        "colab": {
          "base_uri": "https://localhost:8080/",
          "height": 34
        }
      },
      "source": [
        "sp.encode_as_ids('<2fra> This is a test <EOS>')"
      ],
      "execution_count": 218,
      "outputs": [
        {
          "output_type": "execute_result",
          "data": {
            "text/plain": [
              "[919, 4, 355, 86, 8, 7, 52, 919, 6]"
            ]
          },
          "metadata": {
            "tags": []
          },
          "execution_count": 218
        }
      ]
    },
    {
      "cell_type": "code",
      "metadata": {
        "id": "I30jrSc5WLbb",
        "colab_type": "code",
        "outputId": "17b53403-ae6b-4f95-d1f2-c65f60f239a2",
        "colab": {
          "base_uri": "https://localhost:8080/",
          "height": 34
        }
      },
      "source": [
        "sp.decode_ids([419, 4, 355, 86, 8, 7, 52, 419, 6])"
      ],
      "execution_count": 219,
      "outputs": [
        {
          "output_type": "execute_result",
          "data": {
            "text/plain": [
              "'ten<2fra> This is a testten<EOS>'"
            ]
          },
          "metadata": {
            "tags": []
          },
          "execution_count": 219
        }
      ]
    },
    {
      "cell_type": "markdown",
      "metadata": {
        "id": "TFZTFhy8Ssx-",
        "colab_type": "text"
      },
      "source": [
        "#### Dealing with the dataset"
      ]
    },
    {
      "cell_type": "markdown",
      "metadata": {
        "id": "qYKJ6wWZXyPl",
        "colab_type": "text"
      },
      "source": [
        "The data is first loaded and the word pairs are cleanly separated. The target translation tag and end of sentence tags are added to each word. The words are then tokenized using the word piece model and downsampled. The datasets are combined and split into training and testing data sets."
      ]
    },
    {
      "cell_type": "code",
      "metadata": {
        "id": "NUnfDScg_xfN",
        "colab_type": "code",
        "colab": {}
      },
      "source": [
        "def read_text(filename):\n",
        "        # open the file\n",
        "        file = open(filename, mode='rt', encoding='utf-8')\n",
        "        \n",
        "        # read all text and clean up tab delimination into list\n",
        "        text = file.read().strip().split('\\n')\n",
        "        file.close()\n",
        "        cleaned_text = [i.split('\\t') for i in text]\n",
        "        return cleaned_text"
      ],
      "execution_count": 0,
      "outputs": []
    },
    {
      "cell_type": "code",
      "metadata": {
        "id": "0-XM-og0AL1u",
        "colab_type": "code",
        "colab": {}
      },
      "source": [
        "# Get cleaned corpus\n",
        "spa_en = read_text(\"spa-eng/spa.txt\")\n",
        "fra_en = read_text(\"fra-eng/fra.txt\")"
      ],
      "execution_count": 0,
      "outputs": []
    },
    {
      "cell_type": "code",
      "metadata": {
        "id": "38ZDDw5RCEjL",
        "colab_type": "code",
        "colab": {}
      },
      "source": [
        "# Add in the special characters for translation directions\n",
        "spa_en = [['<2spa> ' + x[0] + ' <EOS>', '<2en> ' + x[1] + ' <EOS>'] for x in spa_en]\n",
        "fra_en = [['<2fra> ' + x[0] + ' <EOS>', '<2en> ' + x[1] + ' <EOS>'] for x in fra_en]"
      ],
      "execution_count": 0,
      "outputs": []
    },
    {
      "cell_type": "code",
      "metadata": {
        "id": "0lykQlSNEwFK",
        "colab_type": "code",
        "outputId": "503a4a3e-a525-4ca8-a7f4-318e0962b1dd",
        "colab": {
          "base_uri": "https://localhost:8080/",
          "height": 34
        }
      },
      "source": [
        "spa_en[0]"
      ],
      "execution_count": 223,
      "outputs": [
        {
          "output_type": "execute_result",
          "data": {
            "text/plain": [
              "['<2spa> Go. <EOS>', '<2en> Ve. <EOS>']"
            ]
          },
          "metadata": {
            "tags": []
          },
          "execution_count": 223
        }
      ]
    },
    {
      "cell_type": "code",
      "metadata": {
        "id": "Al0ocrSQAXUJ",
        "colab_type": "code",
        "outputId": "319aac20-a875-450a-8e03-3c50929dc3b3",
        "colab": {
          "base_uri": "https://localhost:8080/",
          "height": 351
        }
      },
      "source": [
        "# Look at the number of language pairs\n",
        "sns.set(style=\"whitegrid\")\n",
        "g = sns.barplot(['Spanish-English', 'French to English'], [len(spa_en), len(fra_en)])\n",
        "g.set(xlabel='Language pair', ylabel='Number of Language Pairs', title = \"Difference between number of language pairs\")"
      ],
      "execution_count": 224,
      "outputs": [
        {
          "output_type": "execute_result",
          "data": {
            "text/plain": [
              "[Text(0, 0.5, 'Number of Language Pairs'),\n",
              " Text(0.5, 0, 'Language pair'),\n",
              " Text(0.5, 1.0, 'Difference between number of language pairs')]"
            ]
          },
          "metadata": {
            "tags": []
          },
          "execution_count": 224
        },
        {
          "output_type": "display_data",
          "data": {
            "image/png": "[encoded data removed]",
            "text/plain": [
              "<Figure size 432x288 with 1 Axes>"
            ]
          },
          "metadata": {
            "tags": []
          }
        }
      ]
    },
    {
      "cell_type": "markdown",
      "metadata": {
        "id": "oWSdNvEMEHtf",
        "colab_type": "text"
      },
      "source": [
        "As both datasets are unbalanced, both samples will actually be downsampled down to the target number to balance the datasets and in order to trim down computation time"
      ]
    },
    {
      "cell_type": "code",
      "metadata": {
        "id": "9Vxtwg4prd_s",
        "colab_type": "code",
        "colab": {}
      },
      "source": [
        "#Trim down maximum\n",
        "num_sentences = 40000\n",
        "shuffle(spa_en)\n",
        "spa_en = spa_en[:num_sentences]\n",
        "shuffle(fra_en)\n",
        "fra_en = fra_en[:num_sentences]"
      ],
      "execution_count": 0,
      "outputs": []
    },
    {
      "cell_type": "code",
      "metadata": {
        "id": "5hiSB2eAsnRf",
        "colab_type": "code",
        "outputId": "1dcb7c5c-0688-4308-b9ca-cb336d73eb14",
        "colab": {
          "base_uri": "https://localhost:8080/",
          "height": 34
        }
      },
      "source": [
        "len(spa_en), len(fra_en)"
      ],
      "execution_count": 226,
      "outputs": [
        {
          "output_type": "execute_result",
          "data": {
            "text/plain": [
              "(40000, 40000)"
            ]
          },
          "metadata": {
            "tags": []
          },
          "execution_count": 226
        }
      ]
    },
    {
      "cell_type": "code",
      "metadata": {
        "id": "mEFLOBcIByik",
        "colab_type": "code",
        "colab": {}
      },
      "source": [
        "# Tokenize model with wordpiece model version\n",
        "en_only_spa_wp = [sp.encode_as_ids(i[0]) for i in spa_en]\n",
        "spa_only_en_wp = [sp.encode_as_ids(i[1]) for i in spa_en]\n",
        "en_only_fra_wp = [sp.encode_as_ids(i[0]) for i in fra_en]\n",
        "fra_only_en_wp = [sp.encode_as_ids(i[1]) for i in fra_en]\n"
      ],
      "execution_count": 0,
      "outputs": []
    },
    {
      "cell_type": "code",
      "metadata": {
        "id": "Frdy6RuDbUgA",
        "colab_type": "code",
        "colab": {}
      },
      "source": [
        "# Ensure that there are up to 1000 wordmaps from tokenizer\n",
        "encoder_vocab = set()\n",
        "for i in spa_only_en_wp:\n",
        "  for z in i:\n",
        "    encoder_vocab.add(z)\n",
        "    \n",
        "for i in en_only_fra_wp:\n",
        "  for z in i:\n",
        "    encoder_vocab.add(z)\n",
        "    \n",
        "encoder_vocab_size = len(encoder_vocab) + 1\n",
        "\n",
        "decoder_vocab = set()\n",
        "for i in en_only_spa_wp:\n",
        "  for z in i:\n",
        "    decoder_vocab.add(z)\n",
        "    \n",
        "for i in fra_only_en_wp:\n",
        "  for z in i:\n",
        "    decoder_vocab.add(z)\n",
        "    \n",
        "decoder_vocab_size = len(decoder_vocab) + 1"
      ],
      "execution_count": 0,
      "outputs": []
    },
    {
      "cell_type": "code",
      "metadata": {
        "id": "Z4RRTylnc4j9",
        "colab_type": "code",
        "outputId": "f0a34899-0edf-4e1b-bb28-cb1d857eb6bb",
        "colab": {
          "base_uri": "https://localhost:8080/",
          "height": 50
        }
      },
      "source": [
        "print(\"Encoder vocab size: \" + str(encoder_vocab_size))\n",
        "print(\"Decoder vocab size: \" + str(decoder_vocab_size))"
      ],
      "execution_count": 229,
      "outputs": [
        {
          "output_type": "stream",
          "text": [
            "Encoder vocab size: 923\n",
            "Decoder vocab size: 950\n"
          ],
          "name": "stdout"
        }
      ]
    },
    {
      "cell_type": "code",
      "metadata": {
        "id": "1mkrzSrQE_MD",
        "colab_type": "code",
        "outputId": "268f2a5f-328c-4868-e24c-6e3e349ad8e2",
        "colab": {
          "base_uri": "https://localhost:8080/",
          "height": 318
        }
      },
      "source": [
        "# Check the length of the longest of each dataset\n",
        "en_only_spa_length = [len(i) for i in en_only_spa_wp]\n",
        "spa_only_en_length = [len(i) for i in spa_only_en_wp]\n",
        "en_only_fra_length = [len(i) for i in en_only_fra_wp]\n",
        "fra_only_en_length = [len(i) for i in fra_only_en_wp]\n",
        "\n",
        "g = sns.distplot(en_only_spa_length, kde=False, rug=True, label = 'English (Spanish) Length')\n",
        "g = sns.distplot(spa_only_en_length, kde=False, rug=True, label = 'Spanish (Spanish) Length')\n",
        "g = sns.distplot(en_only_fra_length, kde=False, rug=True, label = 'English (French) Length')\n",
        "g = sns.distplot(fra_only_en_length, kde=False, rug=True, label = 'Frence (French) Length')\n",
        "g.set_title(\"Histogram of Length of Wordpiece models\")\n",
        "g.set_xlabel(\"Length\")\n",
        "g.set_ylabel(\"Counts\")\n",
        "g.legend()\n",
        "g"
      ],
      "execution_count": 230,
      "outputs": [
        {
          "output_type": "execute_result",
          "data": {
            "text/plain": [
              "<matplotlib.axes._subplots.AxesSubplot at 0x7fc077134518>"
            ]
          },
          "metadata": {
            "tags": []
          },
          "execution_count": 230
        },
        {
          "output_type": "display_data",
          "data": {
            "image/png": "[encoded data removed]",
            "text/plain": [
              "<Figure size 432x288 with 1 Axes>"
            ]
          },
          "metadata": {
            "tags": []
          }
        }
      ]
    },
    {
      "cell_type": "code",
      "metadata": {
        "id": "h3G-GbGdI-RA",
        "colab_type": "code",
        "outputId": "c5bc08ca-e4cf-405d-e3b3-1d517af92378",
        "colab": {
          "base_uri": "https://localhost:8080/",
          "height": 34
        }
      },
      "source": [
        "max_length = max(max(en_only_spa_length), max(spa_only_en_length), max(en_only_fra_length), max(fra_only_en_length))\n",
        "max_length"
      ],
      "execution_count": 231,
      "outputs": [
        {
          "output_type": "execute_result",
          "data": {
            "text/plain": [
              "127"
            ]
          },
          "metadata": {
            "tags": []
          },
          "execution_count": 231
        }
      ]
    },
    {
      "cell_type": "markdown",
      "metadata": {
        "id": "ouNo2ovKJMDI",
        "colab_type": "text"
      },
      "source": [
        "Most of the word pieces hover about 15 chunks but the maximum number of chunks is 140 so padding is needed to equalize the length."
      ]
    },
    {
      "cell_type": "code",
      "metadata": {
        "id": "0cCUq81eE9T9",
        "colab_type": "code",
        "colab": {}
      },
      "source": [
        "# Combine datasets\n",
        "data = spa_only_en_wp + en_only_fra_wp\n",
        "targets = en_only_spa_wp + fra_only_en_wp"
      ],
      "execution_count": 0,
      "outputs": []
    },
    {
      "cell_type": "code",
      "metadata": {
        "id": "PYmV693fFGNk",
        "colab_type": "code",
        "colab": {}
      },
      "source": [
        "# Pad length to max len\n",
        "data = pad_sequences(data,maxlen = max_length, padding='post')\n",
        "targets = pad_sequences(targets,maxlen = max_length, padding='post')"
      ],
      "execution_count": 0,
      "outputs": []
    },
    {
      "cell_type": "code",
      "metadata": {
        "id": "rCjHh8UWZ56U",
        "colab_type": "code",
        "colab": {}
      },
      "source": [
        "# Define max length of encoder / decoder, should be the same because of padding\n",
        "max_encoder_seq_length = max([len(text) for text in data])\n",
        "max_decoder_seq_length = max([len(text) for text in targets])"
      ],
      "execution_count": 0,
      "outputs": []
    },
    {
      "cell_type": "code",
      "metadata": {
        "id": "z3ri3PVcY1ou",
        "colab_type": "code",
        "outputId": "c8b33923-549e-4450-8e58-85c7dea18ebf",
        "colab": {
          "base_uri": "https://localhost:8080/",
          "height": 34
        }
      },
      "source": [
        "max_encoder_seq_length, max_decoder_seq_length"
      ],
      "execution_count": 235,
      "outputs": [
        {
          "output_type": "execute_result",
          "data": {
            "text/plain": [
              "(127, 127)"
            ]
          },
          "metadata": {
            "tags": []
          },
          "execution_count": 235
        }
      ]
    },
    {
      "cell_type": "code",
      "metadata": {
        "id": "13Mr34svFHhD",
        "colab_type": "code",
        "outputId": "f6273153-f21f-4044-f763-6004891567f8",
        "colab": {
          "base_uri": "https://localhost:8080/",
          "height": 34
        }
      },
      "source": [
        "# Prepare training and test data\n",
        "train_x, test_x, train_y, test_y = train_test_split(data, targets, test_size=0.2, random_state = 1)\n",
        "len(train_x), len(test_x), len(train_y), len(test_y)"
      ],
      "execution_count": 236,
      "outputs": [
        {
          "output_type": "execute_result",
          "data": {
            "text/plain": [
              "(64000, 16000, 64000, 16000)"
            ]
          },
          "metadata": {
            "tags": []
          },
          "execution_count": 236
        }
      ]
    },
    {
      "cell_type": "code",
      "metadata": {
        "id": "aGCVOUyPi1Sh",
        "colab_type": "code",
        "outputId": "52f0b925-ac13-4ce8-cf1c-bef7d0e9de44",
        "colab": {
          "base_uri": "https://localhost:8080/",
          "height": 34
        }
      },
      "source": [
        "# Inputs (sample_numbers, max sequence length)\n",
        "train_x.shape, test_x.shape"
      ],
      "execution_count": 237,
      "outputs": [
        {
          "output_type": "execute_result",
          "data": {
            "text/plain": [
              "((64000, 127), (16000, 127))"
            ]
          },
          "metadata": {
            "tags": []
          },
          "execution_count": 237
        }
      ]
    },
    {
      "cell_type": "markdown",
      "metadata": {
        "id": "sT-l3T_XIwPA",
        "colab_type": "text"
      },
      "source": [
        "#### Training\n",
        "\n"
      ]
    },
    {
      "cell_type": "code",
      "metadata": {
        "id": "NGKbsWXFLh_F",
        "colab_type": "code",
        "colab": {}
      },
      "source": [
        "batch_size = 256\n",
        "num_epochs = 30\n",
        "latent_dim = 512"
      ],
      "execution_count": 0,
      "outputs": []
    },
    {
      "cell_type": "code",
      "metadata": {
        "id": "KjizYpczhCwU",
        "colab_type": "code",
        "colab": {}
      },
      "source": [
        "num_decoder_tokens = decoder_vocab_size\n",
        "num_encoder_tokens = encoder_vocab_size\n"
      ],
      "execution_count": 0,
      "outputs": []
    },
    {
      "cell_type": "code",
      "metadata": {
        "id": "JykrfONOaDUw",
        "colab_type": "code",
        "colab": {}
      },
      "source": [
        "# build NMT model\n",
        "def define_model(in_vocab,out_vocab, in_timesteps,out_timesteps,units):\n",
        "      model = Sequential()\n",
        "      model.add(Embedding(in_vocab, units, input_length=in_timesteps, mask_zero=True))\n",
        "      model.add(LSTM(units))\n",
        "      model.add(RepeatVector(out_timesteps))\n",
        "      model.add(LSTM(units, return_sequences=True))\n",
        "      model.add(Dense(out_vocab, activation='softmax'))\n",
        "      return model"
      ],
      "execution_count": 0,
      "outputs": []
    },
    {
      "cell_type": "code",
      "metadata": {
        "id": "Z6_-yRTfaFhK",
        "colab_type": "code",
        "colab": {}
      },
      "source": [
        "# model compilation\n",
        "# Endoder/Decoder size defined by vocab size in sentencepiece earlier\n",
        "# Encoder/Decoder sequence lengths are the same because of padding\n",
        "model = define_model(vocab_size, vocab_size, max_encoder_seq_length, max_decoder_seq_length, latent_dim)"
      ],
      "execution_count": 0,
      "outputs": []
    },
    {
      "cell_type": "code",
      "metadata": {
        "colab_type": "code",
        "outputId": "0267b5a8-8cb0-42b6-96c4-ab1bf1b25753",
        "id": "s0HK6iFQZZvk",
        "colab": {
          "base_uri": "https://localhost:8080/",
          "height": 302
        }
      },
      "source": [
        "adam = optimizers.Adam(lr = 1E-4)\n",
        "model.compile(loss='sparse_categorical_crossentropy', optimizer= adam)\n",
        "model.summary()"
      ],
      "execution_count": 244,
      "outputs": [
        {
          "output_type": "stream",
          "text": [
            "_________________________________________________________________\n",
            "Layer (type)                 Output Shape              Param #   \n",
            "=================================================================\n",
            "embedding_2 (Embedding)      (None, 127, 512)          512000    \n",
            "_________________________________________________________________\n",
            "lstm_3 (LSTM)                (None, 512)               2099200   \n",
            "_________________________________________________________________\n",
            "repeat_vector_2 (RepeatVecto (None, 127, 512)          0         \n",
            "_________________________________________________________________\n",
            "lstm_4 (LSTM)                (None, 127, 512)          2099200   \n",
            "_________________________________________________________________\n",
            "dense_2 (Dense)              (None, 127, 1000)         513000    \n",
            "=================================================================\n",
            "Total params: 5,223,400\n",
            "Trainable params: 5,223,400\n",
            "Non-trainable params: 0\n",
            "_________________________________________________________________\n"
          ],
          "name": "stdout"
        }
      ]
    },
    {
      "cell_type": "code",
      "metadata": {
        "id": "lhwqFHDzg1jH",
        "colab_type": "code",
        "outputId": "4c46e6bf-805d-4ef7-c92a-1bf733dbca5c",
        "colab": {
          "base_uri": "https://localhost:8080/",
          "height": 2050
        }
      },
      "source": [
        "# Save checkpoints\n",
        "filename = 'model3'\n",
        "checkpoint = ModelCheckpoint(filename, monitor='val_loss', verbose=1, save_best_only=True, mode='min')\n",
        "\n",
        "# Train model\n",
        "history = model.fit(train_x, train_y.reshape(train_y.shape[0], train_y.shape[1],1),\n",
        "                    epochs=num_epochs, batch_size=batch_size, validation_split = 0.2,\n",
        "                    callbacks=[checkpoint],\n",
        "                    validation_data = (test_x, test_y.reshape(test_y.shape[0], test_y.shape[1],1)),\n",
        "                    verbose=1)"
      ],
      "execution_count": 245,
      "outputs": [
        {
          "output_type": "stream",
          "text": [
            "Train on 64000 samples, validate on 16000 samples\n",
            "Epoch 1/30\n",
            "64000/64000 [==============================] - 160s 3ms/step - loss: 1.6089 - val_loss: 0.9301\n",
            "\n",
            "Epoch 00001: val_loss improved from inf to 0.93008, saving model to model3\n",
            "Epoch 2/30\n",
            "64000/64000 [==============================] - 158s 2ms/step - loss: 0.8460 - val_loss: 0.7920\n",
            "\n",
            "Epoch 00002: val_loss improved from 0.93008 to 0.79196, saving model to model3\n",
            "Epoch 3/30\n",
            "64000/64000 [==============================] - 158s 2ms/step - loss: 0.7609 - val_loss: 0.7408\n",
            "\n",
            "Epoch 00003: val_loss improved from 0.79196 to 0.74081, saving model to model3\n",
            "Epoch 4/30\n",
            "64000/64000 [==============================] - 157s 2ms/step - loss: 0.7199 - val_loss: 0.6901\n",
            "\n",
            "Epoch 00004: val_loss improved from 0.74081 to 0.69007, saving model to model3\n",
            "Epoch 5/30\n",
            "64000/64000 [==============================] - 156s 2ms/step - loss: 0.6734 - val_loss: 0.6634\n",
            "\n",
            "Epoch 00005: val_loss improved from 0.69007 to 0.66337, saving model to model3\n",
            "Epoch 6/30\n",
            "64000/64000 [==============================] - 157s 2ms/step - loss: 0.6544 - val_loss: 0.6535\n",
            "\n",
            "Epoch 00006: val_loss improved from 0.66337 to 0.65353, saving model to model3\n",
            "Epoch 7/30\n",
            "64000/64000 [==============================] - 157s 2ms/step - loss: 0.6451 - val_loss: 0.6428\n",
            "\n",
            "Epoch 00007: val_loss improved from 0.65353 to 0.64284, saving model to model3\n",
            "Epoch 8/30\n",
            "64000/64000 [==============================] - 157s 2ms/step - loss: 0.6387 - val_loss: 0.6382\n",
            "\n",
            "Epoch 00008: val_loss improved from 0.64284 to 0.63815, saving model to model3\n",
            "Epoch 9/30\n",
            "64000/64000 [==============================] - 157s 2ms/step - loss: 0.6342 - val_loss: 0.6337\n",
            "\n",
            "Epoch 00009: val_loss improved from 0.63815 to 0.63369, saving model to model3\n",
            "Epoch 10/30\n",
            "64000/64000 [==============================] - 157s 2ms/step - loss: 0.6297 - val_loss: 0.6306\n",
            "\n",
            "Epoch 00010: val_loss improved from 0.63369 to 0.63057, saving model to model3\n",
            "Epoch 11/30\n",
            "64000/64000 [==============================] - 156s 2ms/step - loss: 0.6264 - val_loss: 0.6283\n",
            "\n",
            "Epoch 00011: val_loss improved from 0.63057 to 0.62830, saving model to model3\n",
            "Epoch 12/30\n",
            "64000/64000 [==============================] - 157s 2ms/step - loss: 0.6222 - val_loss: 0.6225\n",
            "\n",
            "Epoch 00012: val_loss improved from 0.62830 to 0.62252, saving model to model3\n",
            "Epoch 13/30\n",
            "64000/64000 [==============================] - 156s 2ms/step - loss: 0.6187 - val_loss: 0.6199\n",
            "\n",
            "Epoch 00013: val_loss improved from 0.62252 to 0.61994, saving model to model3\n",
            "Epoch 14/30\n",
            "64000/64000 [==============================] - 157s 2ms/step - loss: 0.6157 - val_loss: 0.6169\n",
            "\n",
            "Epoch 00014: val_loss improved from 0.61994 to 0.61693, saving model to model3\n",
            "Epoch 15/30\n",
            "64000/64000 [==============================] - 157s 2ms/step - loss: 0.6129 - val_loss: 0.6142\n",
            "\n",
            "Epoch 00015: val_loss improved from 0.61693 to 0.61417, saving model to model3\n",
            "Epoch 16/30\n",
            "64000/64000 [==============================] - 157s 2ms/step - loss: 0.6105 - val_loss: 0.6136\n",
            "\n",
            "Epoch 00016: val_loss improved from 0.61417 to 0.61360, saving model to model3\n",
            "Epoch 17/30\n",
            "64000/64000 [==============================] - 157s 2ms/step - loss: 0.6086 - val_loss: 0.6107\n",
            "\n",
            "Epoch 00017: val_loss improved from 0.61360 to 0.61068, saving model to model3\n",
            "Epoch 18/30\n",
            "64000/64000 [==============================] - 157s 2ms/step - loss: 0.6058 - val_loss: 0.6102\n",
            "\n",
            "Epoch 00018: val_loss improved from 0.61068 to 0.61016, saving model to model3\n",
            "Epoch 19/30\n",
            "64000/64000 [==============================] - 156s 2ms/step - loss: 0.6040 - val_loss: 0.6061\n",
            "\n",
            "Epoch 00019: val_loss improved from 0.61016 to 0.60606, saving model to model3\n",
            "Epoch 20/30\n",
            "64000/64000 [==============================] - 157s 2ms/step - loss: 0.6023 - val_loss: 0.6045\n",
            "\n",
            "Epoch 00020: val_loss improved from 0.60606 to 0.60453, saving model to model3\n",
            "Epoch 21/30\n",
            "64000/64000 [==============================] - 156s 2ms/step - loss: 0.5999 - val_loss: 0.6032\n",
            "\n",
            "Epoch 00021: val_loss improved from 0.60453 to 0.60316, saving model to model3\n",
            "Epoch 22/30\n",
            "64000/64000 [==============================] - 157s 2ms/step - loss: 0.5981 - val_loss: 0.6021\n",
            "\n",
            "Epoch 00022: val_loss improved from 0.60316 to 0.60212, saving model to model3\n",
            "Epoch 23/30\n",
            "64000/64000 [==============================] - 156s 2ms/step - loss: 0.5966 - val_loss: 0.6010\n",
            "\n",
            "Epoch 00023: val_loss improved from 0.60212 to 0.60104, saving model to model3\n",
            "Epoch 24/30\n",
            "64000/64000 [==============================] - 156s 2ms/step - loss: 0.5949 - val_loss: 0.5990\n",
            "\n",
            "Epoch 00024: val_loss improved from 0.60104 to 0.59898, saving model to model3\n",
            "Epoch 25/30\n",
            "64000/64000 [==============================] - 155s 2ms/step - loss: 0.5933 - val_loss: 0.5976\n",
            "\n",
            "Epoch 00025: val_loss improved from 0.59898 to 0.59758, saving model to model3\n",
            "Epoch 26/30\n",
            "64000/64000 [==============================] - 156s 2ms/step - loss: 0.5920 - val_loss: 0.5982\n",
            "\n",
            "Epoch 00026: val_loss did not improve from 0.59758\n",
            "Epoch 27/30\n",
            "64000/64000 [==============================] - 155s 2ms/step - loss: 0.5908 - val_loss: 0.5953\n",
            "\n",
            "Epoch 00027: val_loss improved from 0.59758 to 0.59526, saving model to model3\n",
            "Epoch 28/30\n",
            "64000/64000 [==============================] - 156s 2ms/step - loss: 0.5891 - val_loss: 0.5937\n",
            "\n",
            "Epoch 00028: val_loss improved from 0.59526 to 0.59367, saving model to model3\n",
            "Epoch 29/30\n",
            "64000/64000 [==============================] - 156s 2ms/step - loss: 0.5876 - val_loss: 0.5917\n",
            "\n",
            "Epoch 00029: val_loss improved from 0.59367 to 0.59167, saving model to model3\n",
            "Epoch 30/30\n",
            "64000/64000 [==============================] - 158s 2ms/step - loss: 0.5855 - val_loss: 0.5898\n",
            "\n",
            "Epoch 00030: val_loss improved from 0.59167 to 0.58979, saving model to model3\n"
          ],
          "name": "stdout"
        }
      ]
    },
    {
      "cell_type": "code",
      "metadata": {
        "id": "kODpTNYYuEhx",
        "colab_type": "code",
        "colab": {}
      },
      "source": [
        "# Save model permanently to on prem local(Google Colab)\n",
        "from google.colab import files\n",
        "files.download('model3')"
      ],
      "execution_count": 0,
      "outputs": []
    },
    {
      "cell_type": "code",
      "metadata": {
        "id": "dLfxjMNEujJB",
        "colab_type": "code",
        "colab": {
          "base_uri": "https://localhost:8080/",
          "height": 301
        },
        "outputId": "bdcbbf2b-389d-43aa-c62c-2de030e73d80"
      },
      "source": [
        "# Plot training & validation loss values\n",
        "plt.plot(history.history['loss'])\n",
        "plt.plot(history.history['val_loss'])\n",
        "plt.title('Model loss')\n",
        "plt.ylabel('Loss')\n",
        "plt.xlabel('Epoch')\n",
        "plt.legend(['Train', 'Test'], loc='upper left')\n",
        "plt.show()"
      ],
      "execution_count": 248,
      "outputs": [
        {
          "output_type": "display_data",
          "data": {
            "image/png": "[encoded data removed]",
            "text/plain": [
              "<Figure size 432x288 with 1 Axes>"
            ]
          },
          "metadata": {
            "tags": []
          }
        }
      ]
    },
    {
      "cell_type": "code",
      "metadata": {
        "id": "Ib8IbnVmFQ4X",
        "colab_type": "code",
        "colab": {}
      },
      "source": [
        "# Create translate class\n",
        "class Translate:\n",
        "  '''\n",
        "  Translation class\n",
        "  Input:\n",
        "  Sentence to translate(string)\n",
        "  Target Language (French, Spanish, or English)\n",
        "  Output:\n",
        "  Translated Sentence\n",
        "  '''\n",
        "  def __init__(self, raw_sentence, target_lang):\n",
        "    self.raw_sentence = raw_sentence\n",
        "    self.target_lang = target_lang\n",
        "  \n",
        "  def encode_sentence(self, sentence):\n",
        "    '''\n",
        "    Wordmap the sentence into integers\n",
        "    '''\n",
        "    return(sp.encode_as_ids(sentence))\n",
        "  \n",
        "  def decode_sentence(self, word_map_vector):\n",
        "    '''\n",
        "    Decode the wordmap back into target sentence\n",
        "    '''\n",
        "    return(sp.decode_ids(word_map_vector))\n",
        "  \n",
        "  def predict_translation(self):\n",
        "    '''\n",
        "    Predicts sentence based on target\n",
        "    '''\n",
        "    # Append start stop based on target language\n",
        "    if self.target_lang == 'English':\n",
        "      input_lang = '<2en> '\n",
        "    elif self.target_lang == 'French':\n",
        "      input_lang = '<2fra> '\n",
        "    elif self.target_lang == 'Spanish':\n",
        "      input_lang = '<2spa> '\n",
        "    else:\n",
        "      return('Error: Please input either English, French or Spanish')\n",
        "    \n",
        "    \n",
        "    # Encode sentence\n",
        "    sentence = []\n",
        "    mapped_sentence = self.encode_sentence(input_lang + self.raw_sentence + ' <EOS>')\n",
        "    sentence.append(mapped_sentence)\n",
        "    \n",
        "    # Pad and reshape mapped_sentence\n",
        "    mapped_sentence = pad_sequences(sentence,maxlen = max_length, padding='post')\n",
        "    \n",
        "    # Predict\n",
        "    prediction = model.predict_classes(mapped_sentence.reshape(mapped_sentence.shape[0], mapped_sentence.shape[1]))\n",
        "    # Decode from softmax\n",
        "    demapped_sentence = self.decode_sentence([int(x) for x in prediction[0]])\n",
        "    # Return decoded string\n",
        "    return(demapped_sentence)"
      ],
      "execution_count": 0,
      "outputs": []
    },
    {
      "cell_type": "markdown",
      "metadata": {
        "id": "YzOX6YkhihVD",
        "colab_type": "text"
      },
      "source": [
        "##### Testing some translations"
      ]
    },
    {
      "cell_type": "markdown",
      "metadata": {
        "id": "zmnfJlp6oG72",
        "colab_type": "text"
      },
      "source": [
        "These are some sample translations to test the model across directly translated sentence pairs as well as zero shot translations with Spanish to French"
      ]
    },
    {
      "cell_type": "code",
      "metadata": {
        "id": "eD6FOqVIyqOJ",
        "colab_type": "code",
        "colab": {
          "base_uri": "https://localhost:8080/",
          "height": 54
        },
        "outputId": "b9edd4bd-c0a5-4731-c84d-3bd9b3118add"
      },
      "source": [
        "# English to French(Explicitly trained)\n",
        "Translate(\"I am here.\", \"French\").predict_translation() \n"
      ],
      "execution_count": 250,
      "outputs": [
        {
          "output_type": "execute_result",
          "data": {
            "text/plain": [
              "\"<2en> Je'ai...<EOS> ⁇  ⁇  ⁇  ⁇  ⁇  ⁇  ⁇  ⁇  ⁇  ⁇  ⁇  ⁇  ⁇  ⁇  ⁇  ⁇  ⁇  ⁇  ⁇  ⁇  ⁇  ⁇  ⁇  ⁇  ⁇  ⁇  ⁇  ⁇  ⁇  ⁇  ⁇  ⁇  ⁇  ⁇  ⁇  ⁇  ⁇  ⁇  ⁇  ⁇  ⁇  ⁇  ⁇  ⁇  ⁇  ⁇  ⁇  ⁇  ⁇  ⁇  ⁇  ⁇  ⁇  ⁇  ⁇  ⁇  ⁇  ⁇  ⁇  ⁇  ⁇  ⁇  ⁇  ⁇  ⁇  ⁇  ⁇  ⁇  ⁇  ⁇  ⁇  ⁇  ⁇  ⁇  ⁇  ⁇  ⁇  ⁇  ⁇  ⁇  ⁇  ⁇  ⁇  ⁇  ⁇  ⁇  ⁇  ⁇  ⁇  ⁇  ⁇  ⁇  ⁇  ⁇  ⁇  ⁇  ⁇  ⁇  ⁇  ⁇  ⁇  ⁇  ⁇  ⁇  ⁇  ⁇  ⁇  ⁇  ⁇  ⁇  ⁇  ⁇  ⁇  ⁇  ⁇  ⁇  ⁇  ⁇ \""
            ]
          },
          "metadata": {
            "tags": []
          },
          "execution_count": 250
        }
      ]
    },
    {
      "cell_type": "code",
      "metadata": {
        "id": "h8RB_cavib91",
        "colab_type": "code",
        "colab": {
          "base_uri": "https://localhost:8080/",
          "height": 54
        },
        "outputId": "1bd89b28-05f1-4fac-af4c-342481e430d1"
      },
      "source": [
        "# Spanish to English(Explicited trained)\n",
        "Translate(\"Dónde está el baño\", \"Spanish\").predict_translation()"
      ],
      "execution_count": 251,
      "outputs": [
        {
          "output_type": "execute_result",
          "data": {
            "text/plain": [
              "'<2en> C estest est est estes    ⁇  ⁇  ⁇  ⁇  ⁇  ⁇  ⁇  ⁇  ⁇  ⁇  ⁇  ⁇  ⁇  ⁇  ⁇  ⁇  ⁇  ⁇  ⁇  ⁇  ⁇  ⁇  ⁇  ⁇  ⁇  ⁇  ⁇  ⁇  ⁇  ⁇  ⁇  ⁇  ⁇  ⁇  ⁇  ⁇  ⁇  ⁇  ⁇  ⁇  ⁇  ⁇  ⁇  ⁇  ⁇  ⁇  ⁇  ⁇  ⁇  ⁇  ⁇  ⁇  ⁇  ⁇  ⁇  ⁇  ⁇  ⁇  ⁇  ⁇  ⁇  ⁇  ⁇  ⁇  ⁇  ⁇  ⁇  ⁇  ⁇  ⁇  ⁇  ⁇  ⁇  ⁇  ⁇  ⁇  ⁇  ⁇  ⁇  ⁇  ⁇  ⁇  ⁇  ⁇  ⁇  ⁇  ⁇  ⁇  ⁇  ⁇  ⁇  ⁇  ⁇  ⁇  ⁇  ⁇  ⁇  ⁇  ⁇  ⁇  ⁇  ⁇  ⁇  ⁇  ⁇  ⁇  ⁇  ⁇  ⁇  ⁇  ⁇  ⁇  ⁇  ⁇  ⁇ '"
            ]
          },
          "metadata": {
            "tags": []
          },
          "execution_count": 251
        }
      ]
    },
    {
      "cell_type": "code",
      "metadata": {
        "id": "78RBxvMOicGw",
        "colab_type": "code",
        "colab": {
          "base_uri": "https://localhost:8080/",
          "height": 54
        },
        "outputId": "47822b46-9080-4cd5-9127-fc002b49b9b0"
      },
      "source": [
        "# Spanish to French(Zero Shot)\n",
        "Translate(\"Dónde está el baño\", \"French\").predict_translation() \n"
      ],
      "execution_count": 252,
      "outputs": [
        {
          "output_type": "execute_result",
          "data": {
            "text/plain": [
              "'<2en> C estest---   <EOS> ⁇  ⁇  ⁇  ⁇  ⁇  ⁇  ⁇  ⁇  ⁇  ⁇  ⁇  ⁇  ⁇  ⁇  ⁇  ⁇  ⁇  ⁇  ⁇  ⁇  ⁇  ⁇  ⁇  ⁇  ⁇  ⁇  ⁇  ⁇  ⁇  ⁇  ⁇  ⁇  ⁇  ⁇  ⁇  ⁇  ⁇  ⁇  ⁇  ⁇  ⁇  ⁇  ⁇  ⁇  ⁇  ⁇  ⁇  ⁇  ⁇  ⁇  ⁇  ⁇  ⁇  ⁇  ⁇  ⁇  ⁇  ⁇  ⁇  ⁇  ⁇  ⁇  ⁇  ⁇  ⁇  ⁇  ⁇  ⁇  ⁇  ⁇  ⁇  ⁇  ⁇  ⁇  ⁇  ⁇  ⁇  ⁇  ⁇  ⁇  ⁇  ⁇  ⁇  ⁇  ⁇  ⁇  ⁇  ⁇  ⁇  ⁇  ⁇  ⁇  ⁇  ⁇  ⁇  ⁇  ⁇  ⁇  ⁇  ⁇  ⁇  ⁇  ⁇  ⁇  ⁇  ⁇  ⁇  ⁇  ⁇  ⁇  ⁇  ⁇  ⁇  ⁇  ⁇ '"
            ]
          },
          "metadata": {
            "tags": []
          },
          "execution_count": 252
        }
      ]
    },
    {
      "cell_type": "code",
      "metadata": {
        "id": "kVkzotfLicNy",
        "colab_type": "code",
        "colab": {
          "base_uri": "https://localhost:8080/",
          "height": 54
        },
        "outputId": "0e008f81-250b-4a36-87f5-7a982fe009c0"
      },
      "source": [
        "# Testing English to Spanish\n",
        "Translate(\"I am here.\", \"Spanish\").predict_translation()"
      ],
      "execution_count": 253,
      "outputs": [
        {
          "output_type": "execute_result",
          "data": {
            "text/plain": [
              "'<2en> C estest-...  ⁇  ⁇  ⁇  ⁇  ⁇  ⁇  ⁇  ⁇  ⁇  ⁇  ⁇  ⁇  ⁇  ⁇  ⁇  ⁇  ⁇  ⁇  ⁇  ⁇  ⁇  ⁇  ⁇  ⁇  ⁇  ⁇  ⁇  ⁇  ⁇  ⁇  ⁇  ⁇  ⁇  ⁇  ⁇  ⁇  ⁇  ⁇  ⁇  ⁇  ⁇  ⁇  ⁇  ⁇  ⁇  ⁇  ⁇  ⁇  ⁇  ⁇  ⁇  ⁇  ⁇  ⁇  ⁇  ⁇  ⁇  ⁇  ⁇  ⁇  ⁇  ⁇  ⁇  ⁇  ⁇  ⁇  ⁇  ⁇  ⁇  ⁇  ⁇  ⁇  ⁇  ⁇  ⁇  ⁇  ⁇  ⁇  ⁇  ⁇  ⁇  ⁇  ⁇  ⁇  ⁇  ⁇  ⁇  ⁇  ⁇  ⁇  ⁇  ⁇  ⁇  ⁇  ⁇  ⁇  ⁇  ⁇  ⁇  ⁇  ⁇  ⁇  ⁇  ⁇  ⁇  ⁇  ⁇  ⁇  ⁇  ⁇  ⁇  ⁇  ⁇  ⁇  ⁇  ⁇  ⁇ '"
            ]
          },
          "metadata": {
            "tags": []
          },
          "execution_count": 253
        }
      ]
    },
    {
      "cell_type": "code",
      "metadata": {
        "id": "t7jvYoZTdE2S",
        "colab_type": "code",
        "colab": {
          "base_uri": "https://localhost:8080/",
          "height": 54
        },
        "outputId": "9f6d7cd2-0548-4321-a7a3-53f405be3c4b"
      },
      "source": [
        "# English to French(Explicitly trained) with long sentence\n",
        "Translate(\"I think bad things are happening but I am not sure what I can do about it. Could you maybe look into it?\", \"French\").predict_translation() "
      ],
      "execution_count": 254,
      "outputs": [
        {
          "output_type": "execute_result",
          "data": {
            "text/plain": [
              "\"<2en> Si''--- que'''''''''''''''''''''''''''       ⁇  ⁇  ⁇  ⁇  ⁇  ⁇  ⁇  ⁇  ⁇  ⁇  ⁇  ⁇  ⁇  ⁇  ⁇  ⁇  ⁇  ⁇  ⁇  ⁇  ⁇  ⁇  ⁇  ⁇  ⁇  ⁇  ⁇  ⁇  ⁇  ⁇  ⁇  ⁇  ⁇  ⁇  ⁇  ⁇  ⁇  ⁇  ⁇  ⁇  ⁇  ⁇  ⁇  ⁇  ⁇  ⁇  ⁇  ⁇  ⁇  ⁇  ⁇  ⁇  ⁇  ⁇  ⁇  ⁇  ⁇  ⁇  ⁇  ⁇  ⁇  ⁇  ⁇  ⁇  ⁇  ⁇  ⁇  ⁇  ⁇  ⁇  ⁇  ⁇  ⁇  ⁇  ⁇  ⁇  ⁇  ⁇  ⁇  ⁇  ⁇  ⁇  ⁇  ⁇  ⁇ \""
            ]
          },
          "metadata": {
            "tags": []
          },
          "execution_count": 254
        }
      ]
    },
    {
      "cell_type": "code",
      "metadata": {
        "id": "EMbKCEAnpbMw",
        "colab_type": "code",
        "colab": {
          "base_uri": "https://localhost:8080/",
          "height": 54
        },
        "outputId": "265094de-a9e0-4373-af76-a98c4b2975c2"
      },
      "source": [
        "# Gibberish(multi lang)\n",
        "Translate(\"I think el gato est merveilleux\", \"English\").predict_translation() "
      ],
      "execution_count": 255,
      "outputs": [
        {
          "output_type": "execute_result",
          "data": {
            "text/plain": [
              "'<2en> Elle aesta de de de de de.... ⁇  ⁇  ⁇  ⁇  ⁇  ⁇  ⁇  ⁇  ⁇  ⁇  ⁇  ⁇  ⁇  ⁇  ⁇  ⁇  ⁇  ⁇  ⁇  ⁇  ⁇  ⁇  ⁇  ⁇  ⁇  ⁇  ⁇  ⁇  ⁇  ⁇  ⁇  ⁇  ⁇  ⁇  ⁇  ⁇  ⁇  ⁇  ⁇  ⁇  ⁇  ⁇  ⁇  ⁇  ⁇  ⁇  ⁇  ⁇  ⁇  ⁇  ⁇  ⁇  ⁇  ⁇  ⁇  ⁇  ⁇  ⁇  ⁇  ⁇  ⁇  ⁇  ⁇  ⁇  ⁇  ⁇  ⁇  ⁇  ⁇  ⁇  ⁇  ⁇  ⁇  ⁇  ⁇  ⁇  ⁇  ⁇  ⁇  ⁇  ⁇  ⁇  ⁇  ⁇  ⁇  ⁇  ⁇  ⁇  ⁇  ⁇  ⁇  ⁇  ⁇  ⁇  ⁇  ⁇  ⁇  ⁇  ⁇  ⁇  ⁇  ⁇  ⁇  ⁇  ⁇  ⁇  ⁇  ⁇  ⁇  ⁇  ⁇  ⁇ '"
            ]
          },
          "metadata": {
            "tags": []
          },
          "execution_count": 255
        }
      ]
    },
    {
      "cell_type": "markdown",
      "metadata": {
        "id": "-qUYZA2bmdg7",
        "colab_type": "text"
      },
      "source": [
        "##### BLEU Scores"
      ]
    },
    {
      "cell_type": "markdown",
      "metadata": {
        "id": "fDxSJudDnxND",
        "colab_type": "text"
      },
      "source": [
        "BLEU scores are evaluated by testing with and against the Google Translate version. There is a pretty higher rate of error due to not super cleaning the output from the prediction such as from the sentence start end tags and the zero padding being decoded."
      ]
    },
    {
      "cell_type": "code",
      "metadata": {
        "id": "8b0lPnLVysfA",
        "colab_type": "code",
        "colab": {}
      },
      "source": [
        "# BLEU Scores"
      ],
      "execution_count": 0,
      "outputs": []
    },
    {
      "cell_type": "code",
      "metadata": {
        "id": "fCv7UwKaA2Bl",
        "colab_type": "code",
        "colab": {
          "base_uri": "https://localhost:8080/",
          "height": 136
        },
        "outputId": "198c2d5c-958f-41fd-ffd8-490a0924670a"
      },
      "source": [
        "# ENG to FRENCH(Explicit)\n",
        "eng_fra_scores = [sentence_bleu(Translate(\"My name is John.\", \"French\").predict_translation().split(\" \"), \"Mon nom est John.\".split(\" \")),\n",
        "                  sentence_bleu(Translate(\"Where is the bathroom?\", \"French\").predict_translation().split(\" \"), \"Où se trouvent les toilettes?\".split(\" \")),\n",
        "                  sentence_bleu(Translate(\"John, where are you?\", \"French\").predict_translation().split(\" \"), \"John, où es-tu?\".split(\" \"))]\n",
        "\n",
        "eng_fra_results = pd.DataFrame({'Language': 'ENG-FRA', \n",
        "                                'Input_Sentence': ['My name is John.', 'Where is the bathroom', 'John, where are you?'], \n",
        "                                'Target_Sentence': ['Mon nom est John.', 'Où se trouvent les toilettes?', 'John, où es-tu?'], \n",
        "                                'Score': eng_fra_scores})\n",
        "\n",
        "eng_fra_results"
      ],
      "execution_count": 257,
      "outputs": [
        {
          "output_type": "execute_result",
          "data": {
            "text/html": [
              "<div>\n",
              "<style scoped>\n",
              "    .dataframe tbody tr th:only-of-type {\n",
              "        vertical-align: middle;\n",
              "    }\n",
              "\n",
              "    .dataframe tbody tr th {\n",
              "        vertical-align: top;\n",
              "    }\n",
              "\n",
              "    .dataframe thead th {\n",
              "        text-align: right;\n",
              "    }\n",
              "</style>\n",
              "<table border=\"1\" class=\"dataframe\">\n",
              "  <thead>\n",
              "    <tr style=\"text-align: right;\">\n",
              "      <th></th>\n",
              "      <th>Language</th>\n",
              "      <th>Input_Sentence</th>\n",
              "      <th>Target_Sentence</th>\n",
              "      <th>Score</th>\n",
              "    </tr>\n",
              "  </thead>\n",
              "  <tbody>\n",
              "    <tr>\n",
              "      <th>0</th>\n",
              "      <td>ENG-FRA</td>\n",
              "      <td>My name is John.</td>\n",
              "      <td>Mon nom est John.</td>\n",
              "      <td>0</td>\n",
              "    </tr>\n",
              "    <tr>\n",
              "      <th>1</th>\n",
              "      <td>ENG-FRA</td>\n",
              "      <td>Where is the bathroom</td>\n",
              "      <td>Où se trouvent les toilettes?</td>\n",
              "      <td>0</td>\n",
              "    </tr>\n",
              "    <tr>\n",
              "      <th>2</th>\n",
              "      <td>ENG-FRA</td>\n",
              "      <td>John, where are you?</td>\n",
              "      <td>John, où es-tu?</td>\n",
              "      <td>0</td>\n",
              "    </tr>\n",
              "  </tbody>\n",
              "</table>\n",
              "</div>"
            ],
            "text/plain": [
              "  Language         Input_Sentence                Target_Sentence  Score\n",
              "0  ENG-FRA       My name is John.              Mon nom est John.      0\n",
              "1  ENG-FRA  Where is the bathroom  Où se trouvent les toilettes?      0\n",
              "2  ENG-FRA   John, where are you?                John, où es-tu?      0"
            ]
          },
          "metadata": {
            "tags": []
          },
          "execution_count": 257
        }
      ]
    },
    {
      "cell_type": "code",
      "metadata": {
        "id": "22W0kQNBnWV9",
        "colab_type": "code",
        "colab": {
          "base_uri": "https://localhost:8080/",
          "height": 136
        },
        "outputId": "ec3f918c-58e1-4687-b53d-c5812aaa60ab"
      },
      "source": [
        "# ENG TO SPANISH(Garbage)\n",
        "eng_spa_scores = [sentence_bleu(Translate(\"My name is John.\", \"Spanish\").predict_translation().split(\" \"), \"Mi nombre es John.\".split(\" \")),\n",
        "                  sentence_bleu(Translate(\"Where is the bathroom?\", \"Spanish\").predict_translation().split(\" \"), \"¿Dónde está el baño?\".split(\" \")),\n",
        "                  sentence_bleu(Translate(\"John, where are you?\", \"Spanish\").predict_translation().split(\" \"), \"Juan donde estas\".split(\" \"))]\n",
        "\n",
        "eng_spa_results = pd.DataFrame({'Language': 'ENG-SPA', \n",
        "                                'Input_Sentence': ['My name is John.', 'Where is the bathroom', 'John, where are you?'], \n",
        "                                'Target_Sentence': ['Mi nombre es John.', '¿Dónde está el baño?', 'John, où es-tu?'], \n",
        "                                'Score': eng_spa_scores})\n",
        "\n",
        "eng_spa_results"
      ],
      "execution_count": 258,
      "outputs": [
        {
          "output_type": "execute_result",
          "data": {
            "text/html": [
              "<div>\n",
              "<style scoped>\n",
              "    .dataframe tbody tr th:only-of-type {\n",
              "        vertical-align: middle;\n",
              "    }\n",
              "\n",
              "    .dataframe tbody tr th {\n",
              "        vertical-align: top;\n",
              "    }\n",
              "\n",
              "    .dataframe thead th {\n",
              "        text-align: right;\n",
              "    }\n",
              "</style>\n",
              "<table border=\"1\" class=\"dataframe\">\n",
              "  <thead>\n",
              "    <tr style=\"text-align: right;\">\n",
              "      <th></th>\n",
              "      <th>Language</th>\n",
              "      <th>Input_Sentence</th>\n",
              "      <th>Target_Sentence</th>\n",
              "      <th>Score</th>\n",
              "    </tr>\n",
              "  </thead>\n",
              "  <tbody>\n",
              "    <tr>\n",
              "      <th>0</th>\n",
              "      <td>ENG-SPA</td>\n",
              "      <td>My name is John.</td>\n",
              "      <td>Mi nombre es John.</td>\n",
              "      <td>0</td>\n",
              "    </tr>\n",
              "    <tr>\n",
              "      <th>1</th>\n",
              "      <td>ENG-SPA</td>\n",
              "      <td>Where is the bathroom</td>\n",
              "      <td>¿Dónde está el baño?</td>\n",
              "      <td>0</td>\n",
              "    </tr>\n",
              "    <tr>\n",
              "      <th>2</th>\n",
              "      <td>ENG-SPA</td>\n",
              "      <td>John, where are you?</td>\n",
              "      <td>John, où es-tu?</td>\n",
              "      <td>0</td>\n",
              "    </tr>\n",
              "  </tbody>\n",
              "</table>\n",
              "</div>"
            ],
            "text/plain": [
              "  Language         Input_Sentence       Target_Sentence  Score\n",
              "0  ENG-SPA       My name is John.    Mi nombre es John.      0\n",
              "1  ENG-SPA  Where is the bathroom  ¿Dónde está el baño?      0\n",
              "2  ENG-SPA   John, where are you?       John, où es-tu?      0"
            ]
          },
          "metadata": {
            "tags": []
          },
          "execution_count": 258
        }
      ]
    },
    {
      "cell_type": "code",
      "metadata": {
        "id": "EB2IeGHBnWbQ",
        "colab_type": "code",
        "colab": {
          "base_uri": "https://localhost:8080/",
          "height": 136
        },
        "outputId": "1d347e8a-2117-499a-a7d9-1901fe8fe1e5"
      },
      "source": [
        "# SPANISH TO ENG(Explicit)\n",
        "spa_eng_scores = [sentence_bleu(Translate(\"Mi nombre es John.\", \"English\").predict_translation().split(\" \"), \"My name is John.\".split(\" \")),\n",
        "                  sentence_bleu(Translate(\"¿Dónde está el baño?\", \"English\").predict_translation().split(\" \"), \"Where is the bathroom?\".split(\" \")),\n",
        "                  sentence_bleu(Translate(\"Juan donde estas\", \"English\").predict_translation().split(\" \"), \"John, where are you?\".split(\" \"))]\n",
        "\n",
        "spa_eng_results = pd.DataFrame({'Language': 'SPA-ENG', \n",
        "                                'Input_Sentence': ['Mi nombre es John.', '¿Dónde está el baño?', 'Juan donde estas'], \n",
        "                                'Target_Sentence': ['My name is John.', 'Where is the bathroom', 'John, where are you?'], \n",
        "                                'Score': spa_eng_scores})\n",
        "\n",
        "spa_eng_results"
      ],
      "execution_count": 259,
      "outputs": [
        {
          "output_type": "execute_result",
          "data": {
            "text/html": [
              "<div>\n",
              "<style scoped>\n",
              "    .dataframe tbody tr th:only-of-type {\n",
              "        vertical-align: middle;\n",
              "    }\n",
              "\n",
              "    .dataframe tbody tr th {\n",
              "        vertical-align: top;\n",
              "    }\n",
              "\n",
              "    .dataframe thead th {\n",
              "        text-align: right;\n",
              "    }\n",
              "</style>\n",
              "<table border=\"1\" class=\"dataframe\">\n",
              "  <thead>\n",
              "    <tr style=\"text-align: right;\">\n",
              "      <th></th>\n",
              "      <th>Language</th>\n",
              "      <th>Input_Sentence</th>\n",
              "      <th>Target_Sentence</th>\n",
              "      <th>Score</th>\n",
              "    </tr>\n",
              "  </thead>\n",
              "  <tbody>\n",
              "    <tr>\n",
              "      <th>0</th>\n",
              "      <td>SPA-ENG</td>\n",
              "      <td>Mi nombre es John.</td>\n",
              "      <td>My name is John.</td>\n",
              "      <td>0</td>\n",
              "    </tr>\n",
              "    <tr>\n",
              "      <th>1</th>\n",
              "      <td>SPA-ENG</td>\n",
              "      <td>¿Dónde está el baño?</td>\n",
              "      <td>Where is the bathroom</td>\n",
              "      <td>0</td>\n",
              "    </tr>\n",
              "    <tr>\n",
              "      <th>2</th>\n",
              "      <td>SPA-ENG</td>\n",
              "      <td>Juan donde estas</td>\n",
              "      <td>John, where are you?</td>\n",
              "      <td>0</td>\n",
              "    </tr>\n",
              "  </tbody>\n",
              "</table>\n",
              "</div>"
            ],
            "text/plain": [
              "  Language        Input_Sentence        Target_Sentence  Score\n",
              "0  SPA-ENG    Mi nombre es John.       My name is John.      0\n",
              "1  SPA-ENG  ¿Dónde está el baño?  Where is the bathroom      0\n",
              "2  SPA-ENG      Juan donde estas   John, where are you?      0"
            ]
          },
          "metadata": {
            "tags": []
          },
          "execution_count": 259
        }
      ]
    },
    {
      "cell_type": "code",
      "metadata": {
        "id": "cCEeXw_ynWkz",
        "colab_type": "code",
        "colab": {
          "base_uri": "https://localhost:8080/",
          "height": 136
        },
        "outputId": "46dc932e-3efb-4071-f742-b78297aa3091"
      },
      "source": [
        "# SPANISH TO FRENCH(Zero shot)\n",
        "spa_fra_scores = [sentence_bleu(Translate(\"Mi nombre es John.\", \"French\").predict_translation().split(\" \"), \"Mon nom est John.\".split(\" \")),\n",
        "                  sentence_bleu(Translate(\"¿Dónde está el baño?\", \"French\").predict_translation().split(\" \"), \"Où se trouvent les toilettes?\".split(\" \")),\n",
        "                  sentence_bleu(Translate(\"Juan donde estas\", \"French\").predict_translation().split(\" \"), \"John, où es-tu?\".split(\" \"))]\n",
        "\n",
        "spa_fra_results = pd.DataFrame({'Language': 'SPA-FRA', \n",
        "                                'Input_Sentence': ['Mi nombre es John.', '¿Dónde está el baño?', 'Juan donde estas'], \n",
        "                                'Target_Sentence': ['Mon nom est John.', 'Où se trouvent les toilettes?', 'John, où es-tu?'], \n",
        "                                'Score': spa_fra_scores})\n",
        "\n",
        "spa_fra_results"
      ],
      "execution_count": 260,
      "outputs": [
        {
          "output_type": "execute_result",
          "data": {
            "text/html": [
              "<div>\n",
              "<style scoped>\n",
              "    .dataframe tbody tr th:only-of-type {\n",
              "        vertical-align: middle;\n",
              "    }\n",
              "\n",
              "    .dataframe tbody tr th {\n",
              "        vertical-align: top;\n",
              "    }\n",
              "\n",
              "    .dataframe thead th {\n",
              "        text-align: right;\n",
              "    }\n",
              "</style>\n",
              "<table border=\"1\" class=\"dataframe\">\n",
              "  <thead>\n",
              "    <tr style=\"text-align: right;\">\n",
              "      <th></th>\n",
              "      <th>Language</th>\n",
              "      <th>Input_Sentence</th>\n",
              "      <th>Target_Sentence</th>\n",
              "      <th>Score</th>\n",
              "    </tr>\n",
              "  </thead>\n",
              "  <tbody>\n",
              "    <tr>\n",
              "      <th>0</th>\n",
              "      <td>SPA-FRA</td>\n",
              "      <td>Mi nombre es John.</td>\n",
              "      <td>Mon nom est John.</td>\n",
              "      <td>0</td>\n",
              "    </tr>\n",
              "    <tr>\n",
              "      <th>1</th>\n",
              "      <td>SPA-FRA</td>\n",
              "      <td>¿Dónde está el baño?</td>\n",
              "      <td>Où se trouvent les toilettes?</td>\n",
              "      <td>0</td>\n",
              "    </tr>\n",
              "    <tr>\n",
              "      <th>2</th>\n",
              "      <td>SPA-FRA</td>\n",
              "      <td>Juan donde estas</td>\n",
              "      <td>John, où es-tu?</td>\n",
              "      <td>0</td>\n",
              "    </tr>\n",
              "  </tbody>\n",
              "</table>\n",
              "</div>"
            ],
            "text/plain": [
              "  Language        Input_Sentence                Target_Sentence  Score\n",
              "0  SPA-FRA    Mi nombre es John.              Mon nom est John.      0\n",
              "1  SPA-FRA  ¿Dónde está el baño?  Où se trouvent les toilettes?      0\n",
              "2  SPA-FRA      Juan donde estas                John, où es-tu?      0"
            ]
          },
          "metadata": {
            "tags": []
          },
          "execution_count": 260
        }
      ]
    },
    {
      "cell_type": "code",
      "metadata": {
        "id": "7vt9twktnWqh",
        "colab_type": "code",
        "colab": {
          "base_uri": "https://localhost:8080/",
          "height": 136
        },
        "outputId": "ddb5a156-bf8d-4d34-da55-8df52100a33c"
      },
      "source": [
        "# FRENCH TO ENG(Garbage)\n",
        "fra_eng_scores = [sentence_bleu(Translate(\"Mon nom est John.\", \"French\").predict_translation().split(\"My name is John.\"), \"\".split(\" \")),\n",
        "                  sentence_bleu(Translate(\"Où se trouvent les toilettes?\", \"French\").predict_translation().split(\"Where is the bathroom?\"), \"\".split(\" \")),\n",
        "                  sentence_bleu(Translate(\"John, où es-tu?\", \"French\").predict_translation().split(\" \"), \"\".split(\"John, where are you?\"))]\n",
        "\n",
        "fra_eng_results = pd.DataFrame({'Language': 'FRA-ENG', \n",
        "                                'Target_Sentence': ['Mon nom est John.', 'Où se trouvent les toilettes?', 'John, où es-tu?'], \n",
        "                                'Input_Sentence': ['My name is John.', 'Where is the bathroom', 'John, where are you?'], \n",
        "                                'Score': fra_eng_scores})\n",
        "\n",
        "fra_eng_results"
      ],
      "execution_count": 261,
      "outputs": [
        {
          "output_type": "execute_result",
          "data": {
            "text/html": [
              "<div>\n",
              "<style scoped>\n",
              "    .dataframe tbody tr th:only-of-type {\n",
              "        vertical-align: middle;\n",
              "    }\n",
              "\n",
              "    .dataframe tbody tr th {\n",
              "        vertical-align: top;\n",
              "    }\n",
              "\n",
              "    .dataframe thead th {\n",
              "        text-align: right;\n",
              "    }\n",
              "</style>\n",
              "<table border=\"1\" class=\"dataframe\">\n",
              "  <thead>\n",
              "    <tr style=\"text-align: right;\">\n",
              "      <th></th>\n",
              "      <th>Language</th>\n",
              "      <th>Target_Sentence</th>\n",
              "      <th>Input_Sentence</th>\n",
              "      <th>Score</th>\n",
              "    </tr>\n",
              "  </thead>\n",
              "  <tbody>\n",
              "    <tr>\n",
              "      <th>0</th>\n",
              "      <td>FRA-ENG</td>\n",
              "      <td>Mon nom est John.</td>\n",
              "      <td>My name is John.</td>\n",
              "      <td>0</td>\n",
              "    </tr>\n",
              "    <tr>\n",
              "      <th>1</th>\n",
              "      <td>FRA-ENG</td>\n",
              "      <td>Où se trouvent les toilettes?</td>\n",
              "      <td>Where is the bathroom</td>\n",
              "      <td>0</td>\n",
              "    </tr>\n",
              "    <tr>\n",
              "      <th>2</th>\n",
              "      <td>FRA-ENG</td>\n",
              "      <td>John, où es-tu?</td>\n",
              "      <td>John, where are you?</td>\n",
              "      <td>0</td>\n",
              "    </tr>\n",
              "  </tbody>\n",
              "</table>\n",
              "</div>"
            ],
            "text/plain": [
              "  Language                Target_Sentence         Input_Sentence  Score\n",
              "0  FRA-ENG              Mon nom est John.       My name is John.      0\n",
              "1  FRA-ENG  Où se trouvent les toilettes?  Where is the bathroom      0\n",
              "2  FRA-ENG                John, où es-tu?   John, where are you?      0"
            ]
          },
          "metadata": {
            "tags": []
          },
          "execution_count": 261
        }
      ]
    },
    {
      "cell_type": "code",
      "metadata": {
        "id": "2CIB3WD2nWwV",
        "colab_type": "code",
        "colab": {
          "base_uri": "https://localhost:8080/",
          "height": 136
        },
        "outputId": "aa4f113f-4dcc-4a3e-caf4-f20ab9319229"
      },
      "source": [
        "# FRENCH TO SPANISH(Garbage)\n",
        "fra_spa_scores = [sentence_bleu(Translate(\"Mon nom est John.\", \"French\").predict_translation().split(\" \"), \"Mi nombre es John.\".split(\" \")),\n",
        "                  sentence_bleu(Translate(\"Où se trouvent les toilettes?\", \"French\").predict_translation().split(\" \"), \"¿Dónde está el baño?\".split(\" \")),\n",
        "                  sentence_bleu(Translate(\"John, où es-tu?\", \"French\").predict_translation().split(\" \"), \"Juan donde estas\".split(\" \"))]\n",
        "\n",
        "fra_spa_results = pd.DataFrame({'Language': 'SPA-FRA', \n",
        "                                'Input_Sentence': ['Mon nom est John.', 'Où se trouvent les toilettes?', 'John, où es-tu?'], \n",
        "                                'Target_Sentence': ['Mi nombre es John.', '¿Dónde está el baño?', 'Juan donde estas'], \n",
        "                                'Score': fra_spa_scores})\n",
        "\n",
        "fra_spa_results"
      ],
      "execution_count": 262,
      "outputs": [
        {
          "output_type": "execute_result",
          "data": {
            "text/html": [
              "<div>\n",
              "<style scoped>\n",
              "    .dataframe tbody tr th:only-of-type {\n",
              "        vertical-align: middle;\n",
              "    }\n",
              "\n",
              "    .dataframe tbody tr th {\n",
              "        vertical-align: top;\n",
              "    }\n",
              "\n",
              "    .dataframe thead th {\n",
              "        text-align: right;\n",
              "    }\n",
              "</style>\n",
              "<table border=\"1\" class=\"dataframe\">\n",
              "  <thead>\n",
              "    <tr style=\"text-align: right;\">\n",
              "      <th></th>\n",
              "      <th>Language</th>\n",
              "      <th>Input_Sentence</th>\n",
              "      <th>Target_Sentence</th>\n",
              "      <th>Score</th>\n",
              "    </tr>\n",
              "  </thead>\n",
              "  <tbody>\n",
              "    <tr>\n",
              "      <th>0</th>\n",
              "      <td>SPA-FRA</td>\n",
              "      <td>Mon nom est John.</td>\n",
              "      <td>Mi nombre es John.</td>\n",
              "      <td>0</td>\n",
              "    </tr>\n",
              "    <tr>\n",
              "      <th>1</th>\n",
              "      <td>SPA-FRA</td>\n",
              "      <td>Où se trouvent les toilettes?</td>\n",
              "      <td>¿Dónde está el baño?</td>\n",
              "      <td>0</td>\n",
              "    </tr>\n",
              "    <tr>\n",
              "      <th>2</th>\n",
              "      <td>SPA-FRA</td>\n",
              "      <td>John, où es-tu?</td>\n",
              "      <td>Juan donde estas</td>\n",
              "      <td>0</td>\n",
              "    </tr>\n",
              "  </tbody>\n",
              "</table>\n",
              "</div>"
            ],
            "text/plain": [
              "  Language                 Input_Sentence       Target_Sentence  Score\n",
              "0  SPA-FRA              Mon nom est John.    Mi nombre es John.      0\n",
              "1  SPA-FRA  Où se trouvent les toilettes?  ¿Dónde está el baño?      0\n",
              "2  SPA-FRA                John, où es-tu?      Juan donde estas      0"
            ]
          },
          "metadata": {
            "tags": []
          },
          "execution_count": 262
        }
      ]
    },
    {
      "cell_type": "code",
      "metadata": {
        "id": "bGT1DVYpqPHz",
        "colab_type": "code",
        "colab": {
          "base_uri": "https://localhost:8080/",
          "height": 291
        },
        "outputId": "6850c63d-ad36-4bab-d7a4-1fa335fd6303"
      },
      "source": [
        "# Plot results\n",
        "plt.scatter([1,2,3], eng_fra_results['Score'], color = \"red\", label = 'ENG-FRA', linestyle = '-', marker = 'o')\n",
        "plt.scatter([1,2,3], eng_spa_results['Score'], color = \"yellow\", label = 'ENG-SPA', linestyle = '-', marker = 'o')\n",
        "plt.scatter([1,2,3], spa_eng_results['Score'], color = \"black\", label = 'SPA-ENG', linestyle = '-', marker = 'o')\n",
        "plt.scatter([1,2,3], spa_fra_results['Score'], color = \"blue\", label = 'SPA-FRA', linestyle = '-', marker = 'o')\n",
        "plt.scatter([1,2,3], fra_eng_results['Score'], color = \"purple\", label = 'FRA-ENG', linestyle = '-', marker = 'o')\n",
        "plt.scatter([1,2,3], fra_spa_results['Score'], color = \"green\",label = 'FRA-SPA', linestyle = '-', marker = 'o')\n",
        "plt.ylabel('BLEU Score')\n",
        "plt.xlabel('Sentence #')\n",
        "plt.legend()\n",
        "plt.show()\n"
      ],
      "execution_count": 271,
      "outputs": [
        {
          "output_type": "display_data",
          "data": {
            "image/png": "[encoded data removed]",
            "text/plain": [
              "<Figure size 432x288 with 1 Axes>"
            ]
          },
          "metadata": {
            "tags": []
          }
        }
      ]
    },
    {
      "cell_type": "code",
      "metadata": {
        "id": "AxpsMtXIZxup",
        "colab_type": "code",
        "colab": {}
      },
      "source": [
        ""
      ],
      "execution_count": 0,
      "outputs": []
    }
  ]
}